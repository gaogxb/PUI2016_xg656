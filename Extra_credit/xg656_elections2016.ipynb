{
 "cells": [
  {
   "cell_type": "code",
   "execution_count": 1,
   "metadata": {
    "collapsed": false
   },
   "outputs": [
    {
     "name": "stderr",
     "output_type": "stream",
     "text": [
      "/Users/Xianbo/anaconda/lib/python2.7/site-packages/matplotlib/font_manager.py:273: UserWarning: Matplotlib is building the font cache using fc-list. This may take a moment.\n",
      "  warnings.warn('Matplotlib is building the font cache using fc-list. This may take a moment.')\n"
     ]
    },
    {
     "name": "stdout",
     "output_type": "stream",
     "text": [
      "Populating the interactive namespace from numpy and matplotlib\n"
     ]
    }
   ],
   "source": [
    "import numpy as np\n",
    "from numpy import random\n",
    "from scipy import stats\n",
    "import matplotlib.pyplot as plt\n",
    "%pylab inline\n",
    "import pandas as pd\n",
    "import statsmodels.formula.api as smf\n",
    "import urllib\n",
    "from sklearn import linear_model\n",
    "from sklearn.model_selection import train_test_split\n",
    "from sklearn.decomposition import PCA"
   ]
  },
  {
   "cell_type": "code",
   "execution_count": 2,
   "metadata": {
    "collapsed": false
   },
   "outputs": [],
   "source": [
    "data = pd.read_csv('countytable.csv' , index_col=0 )"
   ]
  },
  {
   "cell_type": "code",
   "execution_count": 3,
   "metadata": {
    "collapsed": false
   },
   "outputs": [
    {
     "data": {
      "text/html": [
       "<div>\n",
       "<table border=\"1\" class=\"dataframe\">\n",
       "  <thead>\n",
       "    <tr style=\"text-align: right;\">\n",
       "      <th></th>\n",
       "      <th>trump</th>\n",
       "      <th>clinton</th>\n",
       "      <th>processed</th>\n",
       "      <th>area_name</th>\n",
       "      <th>state_abbreviation</th>\n",
       "      <th>PST045214</th>\n",
       "      <th>PST040210</th>\n",
       "      <th>PST120214</th>\n",
       "      <th>POP010210</th>\n",
       "      <th>AGE135214</th>\n",
       "      <th>...</th>\n",
       "      <th>SBO015207</th>\n",
       "      <th>MAN450207</th>\n",
       "      <th>WTN220207</th>\n",
       "      <th>RTN130207</th>\n",
       "      <th>RTN131207</th>\n",
       "      <th>AFN120207</th>\n",
       "      <th>BPS030214</th>\n",
       "      <th>LND110210</th>\n",
       "      <th>POP060210</th>\n",
       "      <th>trumpp</th>\n",
       "    </tr>\n",
       "    <tr>\n",
       "      <th>fips</th>\n",
       "      <th></th>\n",
       "      <th></th>\n",
       "      <th></th>\n",
       "      <th></th>\n",
       "      <th></th>\n",
       "      <th></th>\n",
       "      <th></th>\n",
       "      <th></th>\n",
       "      <th></th>\n",
       "      <th></th>\n",
       "      <th></th>\n",
       "      <th></th>\n",
       "      <th></th>\n",
       "      <th></th>\n",
       "      <th></th>\n",
       "      <th></th>\n",
       "      <th></th>\n",
       "      <th></th>\n",
       "      <th></th>\n",
       "      <th></th>\n",
       "      <th></th>\n",
       "    </tr>\n",
       "  </thead>\n",
       "  <tbody>\n",
       "    <tr>\n",
       "      <th>1001</th>\n",
       "      <td>18110</td>\n",
       "      <td>5908</td>\n",
       "      <td>100</td>\n",
       "      <td>Autauga County</td>\n",
       "      <td>AL</td>\n",
       "      <td>55395</td>\n",
       "      <td>54571</td>\n",
       "      <td>1.5</td>\n",
       "      <td>54571</td>\n",
       "      <td>6.0</td>\n",
       "      <td>...</td>\n",
       "      <td>31.7</td>\n",
       "      <td>0</td>\n",
       "      <td>0</td>\n",
       "      <td>598175</td>\n",
       "      <td>12003</td>\n",
       "      <td>88157</td>\n",
       "      <td>131</td>\n",
       "      <td>594.44</td>\n",
       "      <td>91.8</td>\n",
       "      <td>0.754018</td>\n",
       "    </tr>\n",
       "    <tr>\n",
       "      <th>1003</th>\n",
       "      <td>72780</td>\n",
       "      <td>18409</td>\n",
       "      <td>100</td>\n",
       "      <td>Baldwin County</td>\n",
       "      <td>AL</td>\n",
       "      <td>200111</td>\n",
       "      <td>182265</td>\n",
       "      <td>9.8</td>\n",
       "      <td>182265</td>\n",
       "      <td>5.6</td>\n",
       "      <td>...</td>\n",
       "      <td>27.3</td>\n",
       "      <td>1410273</td>\n",
       "      <td>0</td>\n",
       "      <td>2966489</td>\n",
       "      <td>17166</td>\n",
       "      <td>436955</td>\n",
       "      <td>1384</td>\n",
       "      <td>1589.78</td>\n",
       "      <td>114.6</td>\n",
       "      <td>0.798123</td>\n",
       "    </tr>\n",
       "    <tr>\n",
       "      <th>1005</th>\n",
       "      <td>5431</td>\n",
       "      <td>4848</td>\n",
       "      <td>100</td>\n",
       "      <td>Barbour County</td>\n",
       "      <td>AL</td>\n",
       "      <td>26887</td>\n",
       "      <td>27457</td>\n",
       "      <td>-2.1</td>\n",
       "      <td>27457</td>\n",
       "      <td>5.7</td>\n",
       "      <td>...</td>\n",
       "      <td>27.0</td>\n",
       "      <td>0</td>\n",
       "      <td>0</td>\n",
       "      <td>188337</td>\n",
       "      <td>6334</td>\n",
       "      <td>0</td>\n",
       "      <td>8</td>\n",
       "      <td>884.88</td>\n",
       "      <td>31.0</td>\n",
       "      <td>0.528359</td>\n",
       "    </tr>\n",
       "    <tr>\n",
       "      <th>1007</th>\n",
       "      <td>6733</td>\n",
       "      <td>1874</td>\n",
       "      <td>100</td>\n",
       "      <td>Bibb County</td>\n",
       "      <td>AL</td>\n",
       "      <td>22506</td>\n",
       "      <td>22919</td>\n",
       "      <td>-1.8</td>\n",
       "      <td>22915</td>\n",
       "      <td>5.3</td>\n",
       "      <td>...</td>\n",
       "      <td>0.0</td>\n",
       "      <td>0</td>\n",
       "      <td>0</td>\n",
       "      <td>124707</td>\n",
       "      <td>5804</td>\n",
       "      <td>10757</td>\n",
       "      <td>19</td>\n",
       "      <td>622.58</td>\n",
       "      <td>36.8</td>\n",
       "      <td>0.782270</td>\n",
       "    </tr>\n",
       "    <tr>\n",
       "      <th>1009</th>\n",
       "      <td>22808</td>\n",
       "      <td>2150</td>\n",
       "      <td>100</td>\n",
       "      <td>Blount County</td>\n",
       "      <td>AL</td>\n",
       "      <td>57719</td>\n",
       "      <td>57322</td>\n",
       "      <td>0.7</td>\n",
       "      <td>57322</td>\n",
       "      <td>6.1</td>\n",
       "      <td>...</td>\n",
       "      <td>23.2</td>\n",
       "      <td>341544</td>\n",
       "      <td>0</td>\n",
       "      <td>319700</td>\n",
       "      <td>5622</td>\n",
       "      <td>20941</td>\n",
       "      <td>3</td>\n",
       "      <td>644.78</td>\n",
       "      <td>88.9</td>\n",
       "      <td>0.913855</td>\n",
       "    </tr>\n",
       "  </tbody>\n",
       "</table>\n",
       "<p>5 rows × 57 columns</p>\n",
       "</div>"
      ],
      "text/plain": [
       "      trump  clinton  processed       area_name state_abbreviation  PST045214  \\\n",
       "fips                                                                            \n",
       "1001  18110     5908        100  Autauga County                 AL      55395   \n",
       "1003  72780    18409        100  Baldwin County                 AL     200111   \n",
       "1005   5431     4848        100  Barbour County                 AL      26887   \n",
       "1007   6733     1874        100     Bibb County                 AL      22506   \n",
       "1009  22808     2150        100   Blount County                 AL      57719   \n",
       "\n",
       "      PST040210  PST120214  POP010210  AGE135214    ...     SBO015207  \\\n",
       "fips                                                ...                 \n",
       "1001      54571        1.5      54571        6.0    ...          31.7   \n",
       "1003     182265        9.8     182265        5.6    ...          27.3   \n",
       "1005      27457       -2.1      27457        5.7    ...          27.0   \n",
       "1007      22919       -1.8      22915        5.3    ...           0.0   \n",
       "1009      57322        0.7      57322        6.1    ...          23.2   \n",
       "\n",
       "      MAN450207  WTN220207  RTN130207  RTN131207  AFN120207  BPS030214  \\\n",
       "fips                                                                     \n",
       "1001          0          0     598175      12003      88157        131   \n",
       "1003    1410273          0    2966489      17166     436955       1384   \n",
       "1005          0          0     188337       6334          0          8   \n",
       "1007          0          0     124707       5804      10757         19   \n",
       "1009     341544          0     319700       5622      20941          3   \n",
       "\n",
       "      LND110210  POP060210    trumpp  \n",
       "fips                                  \n",
       "1001     594.44       91.8  0.754018  \n",
       "1003    1589.78      114.6  0.798123  \n",
       "1005     884.88       31.0  0.528359  \n",
       "1007     622.58       36.8  0.782270  \n",
       "1009     644.78       88.9  0.913855  \n",
       "\n",
       "[5 rows x 57 columns]"
      ]
     },
     "execution_count": 3,
     "metadata": {},
     "output_type": "execute_result"
    }
   ],
   "source": [
    "data.head()"
   ]
  },
  {
   "cell_type": "code",
   "execution_count": 4,
   "metadata": {
    "collapsed": false
   },
   "outputs": [],
   "source": [
    "data = data.rename(columns = {'AFN120207': 'AccomFoodSales',\n",
    " 'AGE135214': 'AgeUnder5Perc',\n",
    " 'AGE295214': 'AgeUnder18Perc',\n",
    " 'AGE775214': 'AgeOver65Perc',\n",
    " 'BPS030214': 'BuildingPermits',\n",
    " 'BZA010213': 'PrivateEstabs',\n",
    " 'BZA110213': 'PrivateEmploy',\n",
    " 'BZA115213': 'PrivateEmployPerChange',\n",
    " 'EDU635213': 'HSGradOrHigherPerc',\n",
    " 'EDU685213': \"BacherlorsOrHigherPerc\",\n",
    " 'HSD310213': 'PersonsPerHousehold',\n",
    " 'HSD410213': 'Households',\n",
    " 'HSG010214': 'HousingUnits',\n",
    " 'HSG096213': 'HousingUnitsInMulti',\n",
    " 'HSG445213': 'HomeownershipRate',\n",
    " 'HSG495213': 'MedianHousingValue',\n",
    " 'INC110213': 'MedianHHIncome',\n",
    " 'INC910213': 'PerCapitaIncomePastYear',\n",
    " 'LFE305213': 'MeanTravelTimeToWork',\n",
    " 'LND110210': 'LandArea',\n",
    " 'MAN450207': 'ManufactShipments',\n",
    " 'NES010213': 'NonemployerEstabls',\n",
    " 'POP010210': 'Population2010',\n",
    " 'POP060210': 'PopulationPerSquareMile2010',\n",
    " 'POP645213': 'ForeignBornPerc',\n",
    " 'POP715213': 'LiveSameHouseOneYearPerc',\n",
    " 'POP815213': 'OtherLanguagePerc',\n",
    " 'PST040210': 'Population2010EstimatesBase',\n",
    " 'PST045214': 'Population2014',\n",
    " 'PST120214': 'PopulationPercChange',\n",
    " 'PVY020213': 'PercBelowPoverty',\n",
    " 'RHI125214': 'WhitePerc',\n",
    " 'RHI225214': 'BlackPerc',\n",
    " 'RHI325214': 'AIANPerc',\n",
    " 'RHI425214': 'AsianPerc',\n",
    " 'RHI525214': 'NHPIPerc',\n",
    " 'RHI625214': 'TwoOrMorePerc',\n",
    " 'RHI725214': 'HispPerc',\n",
    " 'RHI825214': 'NonHispWhitePerc',\n",
    " 'RTN130207': 'RetailSales',\n",
    " 'RTN131207': 'RetailSalesPerCapita',\n",
    " 'SBO001207': 'NoOfFirms',\n",
    " 'SBO015207': 'PercFirmsWomenOwned',\n",
    " 'SBO115207': 'PercFirmsAIANOwned',\n",
    " 'SBO215207': 'PercFirmsAsianOwned',\n",
    " 'SBO315207': 'PercFirmsBlackOwned',\n",
    " 'SBO415207': 'PercFirmsHispOwned',\n",
    " 'SBO515207': 'PercFirmsNHPIOwned',\n",
    " 'SEX255214': 'PercWomen',\n",
    " 'VET605213': 'Veterans',\n",
    " 'WTN220207': 'MerchantWholesalerSales'})"
   ]
  },
  {
   "cell_type": "code",
   "execution_count": 5,
   "metadata": {
    "collapsed": false
   },
   "outputs": [
    {
     "data": {
      "text/plain": [
       "Index([u'trump', u'clinton', u'processed', u'area_name', u'state_abbreviation',\n",
       "       u'Population2014', u'Population2010EstimatesBase',\n",
       "       u'PopulationPercChange', u'Population2010', u'AgeUnder5Perc',\n",
       "       u'AgeUnder18Perc', u'AgeOver65Perc', u'PercWomen', u'WhitePerc',\n",
       "       u'BlackPerc', u'AIANPerc', u'AsianPerc', u'NHPIPerc', u'TwoOrMorePerc',\n",
       "       u'HispPerc', u'NonHispWhitePerc', u'LiveSameHouseOneYearPerc',\n",
       "       u'ForeignBornPerc', u'OtherLanguagePerc', u'HSGradOrHigherPerc',\n",
       "       u'BacherlorsOrHigherPerc', u'Veterans', u'MeanTravelTimeToWork',\n",
       "       u'HousingUnits', u'HomeownershipRate', u'HousingUnitsInMulti',\n",
       "       u'MedianHousingValue', u'Households', u'PersonsPerHousehold',\n",
       "       u'PerCapitaIncomePastYear', u'MedianHHIncome', u'PercBelowPoverty',\n",
       "       u'PrivateEstabs', u'PrivateEmploy', u'PrivateEmployPerChange',\n",
       "       u'NonemployerEstabls', u'NoOfFirms', u'PercFirmsBlackOwned',\n",
       "       u'PercFirmsAIANOwned', u'PercFirmsAsianOwned', u'PercFirmsNHPIOwned',\n",
       "       u'PercFirmsHispOwned', u'PercFirmsWomenOwned', u'ManufactShipments',\n",
       "       u'MerchantWholesalerSales', u'RetailSales', u'RetailSalesPerCapita',\n",
       "       u'AccomFoodSales', u'BuildingPermits', u'LandArea',\n",
       "       u'PopulationPerSquareMile2010', u'trumpp'],\n",
       "      dtype='object')"
      ]
     },
     "execution_count": 5,
     "metadata": {},
     "output_type": "execute_result"
    }
   ],
   "source": [
    "data.columns"
   ]
  },
  {
   "cell_type": "code",
   "execution_count": 6,
   "metadata": {
    "collapsed": false
   },
   "outputs": [],
   "source": [
    "#change Veterans to percentage\n",
    "data['Veterans'] = data['Veterans'] / data['Population2014']\n",
    "data = data.rename(columns = {'Veterans': 'Veteransperc'})"
   ]
  },
  {
   "cell_type": "code",
   "execution_count": 7,
   "metadata": {
    "collapsed": false
   },
   "outputs": [],
   "source": [
    "data = data.drop(['processed', 'area_name'], axis = 1) \n",
    "data = data.drop(['Population2010EstimatesBase', 'Population2010'], axis = 1) \n",
    "#Using population2014 data for analysis\n",
    "#delete other population data since we have percchange already"
   ]
  },
  {
   "cell_type": "code",
   "execution_count": 8,
   "metadata": {
    "collapsed": false
   },
   "outputs": [
    {
     "data": {
      "text/plain": [
       "Index([u'trump', u'clinton', u'state_abbreviation', u'Population2014',\n",
       "       u'PopulationPercChange', u'AgeUnder5Perc', u'AgeUnder18Perc',\n",
       "       u'AgeOver65Perc', u'PercWomen', u'WhitePerc', u'BlackPerc', u'AIANPerc',\n",
       "       u'AsianPerc', u'NHPIPerc', u'TwoOrMorePerc', u'HispPerc',\n",
       "       u'NonHispWhitePerc', u'LiveSameHouseOneYearPerc', u'ForeignBornPerc',\n",
       "       u'OtherLanguagePerc', u'HSGradOrHigherPerc', u'BacherlorsOrHigherPerc',\n",
       "       u'Veteransperc', u'MeanTravelTimeToWork', u'HousingUnits',\n",
       "       u'HomeownershipRate', u'HousingUnitsInMulti', u'MedianHousingValue',\n",
       "       u'Households', u'PersonsPerHousehold', u'PerCapitaIncomePastYear',\n",
       "       u'MedianHHIncome', u'PercBelowPoverty', u'PrivateEstabs',\n",
       "       u'PrivateEmploy', u'PrivateEmployPerChange', u'NonemployerEstabls',\n",
       "       u'NoOfFirms', u'PercFirmsBlackOwned', u'PercFirmsAIANOwned',\n",
       "       u'PercFirmsAsianOwned', u'PercFirmsNHPIOwned', u'PercFirmsHispOwned',\n",
       "       u'PercFirmsWomenOwned', u'ManufactShipments',\n",
       "       u'MerchantWholesalerSales', u'RetailSales', u'RetailSalesPerCapita',\n",
       "       u'AccomFoodSales', u'BuildingPermits', u'LandArea',\n",
       "       u'PopulationPerSquareMile2010', u'trumpp'],\n",
       "      dtype='object')"
      ]
     },
     "execution_count": 8,
     "metadata": {},
     "output_type": "execute_result"
    }
   ],
   "source": [
    "data.iloc[:,:].columns"
   ]
  },
  {
   "cell_type": "code",
   "execution_count": 9,
   "metadata": {
    "collapsed": true
   },
   "outputs": [],
   "source": [
    "data_preprocess = data.copy()"
   ]
  },
  {
   "cell_type": "code",
   "execution_count": 10,
   "metadata": {
    "collapsed": false
   },
   "outputs": [],
   "source": [
    "#groupby the dataset and calculated the weighted average based on population\n",
    "for i in range(4,len(data_preprocess.columns)):\n",
    "    data_preprocess.iloc[:,i] = data_preprocess.iloc[:,i] * data_preprocess['Population2014']\n",
    "data_preprocess = data_preprocess.groupby('state_abbreviation').sum()\n",
    "del data_preprocess.index.name\n",
    "for i in range(4,len(data_preprocess.columns)):\n",
    "    data_preprocess.iloc[:,i] = data_preprocess.iloc[:,i] / data_preprocess['Population2014']"
   ]
  },
  {
   "cell_type": "code",
   "execution_count": 11,
   "metadata": {
    "collapsed": false,
    "scrolled": true
   },
   "outputs": [],
   "source": [
    "data_preprocess['trumpp'] = data_preprocess['trump'] / (data_preprocess['trump'] + data_preprocess['clinton'])"
   ]
  },
  {
   "cell_type": "code",
   "execution_count": 12,
   "metadata": {
    "collapsed": true
   },
   "outputs": [],
   "source": [
    "# Analyze data which can be converted into percentage level first.\n",
    "# Analysis of whole data set "
   ]
  },
  {
   "cell_type": "code",
   "execution_count": 13,
   "metadata": {
    "collapsed": false
   },
   "outputs": [],
   "source": [
    "data_perc = data_preprocess.drop(['Population2014', 'HousingUnits', 'MedianHousingValue',\n",
    "                                  'Households', 'MeanTravelTimeToWork', 'MedianHousingValue', 'Households', \n",
    "                                  'PerCapitaIncomePastYear', 'MedianHHIncome', 'PrivateEstabs', 'PrivateEmploy', \n",
    "                                  'NonemployerEstabls', 'NoOfFirms', 'ManufactShipments', 'MerchantWholesalerSales',\n",
    "                                  'RetailSales', 'RetailSalesPerCapita', 'AccomFoodSales', 'BuildingPermits', \n",
    "                                  'LandArea', 'PopulationPerSquareMile2010'], axis = 1)"
   ]
  },
  {
   "cell_type": "code",
   "execution_count": 14,
   "metadata": {
    "collapsed": false
   },
   "outputs": [
    {
     "data": {
      "text/html": [
       "<div>\n",
       "<table border=\"1\" class=\"dataframe\">\n",
       "  <thead>\n",
       "    <tr style=\"text-align: right;\">\n",
       "      <th></th>\n",
       "      <th>AgeUnder5Perc</th>\n",
       "      <th>AgeUnder18Perc</th>\n",
       "      <th>AgeOver65Perc</th>\n",
       "      <th>PercWomen</th>\n",
       "      <th>WhitePerc</th>\n",
       "      <th>BlackPerc</th>\n",
       "      <th>AIANPerc</th>\n",
       "      <th>AsianPerc</th>\n",
       "      <th>NHPIPerc</th>\n",
       "      <th>TwoOrMorePerc</th>\n",
       "      <th>...</th>\n",
       "      <th>PersonsPerHousehold</th>\n",
       "      <th>PercBelowPoverty</th>\n",
       "      <th>PrivateEmployPerChange</th>\n",
       "      <th>PercFirmsBlackOwned</th>\n",
       "      <th>PercFirmsAIANOwned</th>\n",
       "      <th>PercFirmsAsianOwned</th>\n",
       "      <th>PercFirmsNHPIOwned</th>\n",
       "      <th>PercFirmsHispOwned</th>\n",
       "      <th>PercFirmsWomenOwned</th>\n",
       "      <th>trumpp</th>\n",
       "    </tr>\n",
       "  </thead>\n",
       "  <tbody>\n",
       "    <tr>\n",
       "      <th>AL</th>\n",
       "      <td>6.078931</td>\n",
       "      <td>22.833051</td>\n",
       "      <td>15.336851</td>\n",
       "      <td>51.545435</td>\n",
       "      <td>69.647735</td>\n",
       "      <td>26.667762</td>\n",
       "      <td>0.685701</td>\n",
       "      <td>1.332658</td>\n",
       "      <td>0.112922</td>\n",
       "      <td>1.543919</td>\n",
       "      <td>...</td>\n",
       "      <td>2.552505</td>\n",
       "      <td>18.534983</td>\n",
       "      <td>1.525508</td>\n",
       "      <td>12.435789</td>\n",
       "      <td>0.434078</td>\n",
       "      <td>1.308692</td>\n",
       "      <td>0.012724</td>\n",
       "      <td>0.705059</td>\n",
       "      <td>25.335852</td>\n",
       "      <td>0.645392</td>\n",
       "    </tr>\n",
       "    <tr>\n",
       "      <th>AR</th>\n",
       "      <td>6.399658</td>\n",
       "      <td>23.547024</td>\n",
       "      <td>15.980816</td>\n",
       "      <td>50.951289</td>\n",
       "      <td>79.131208</td>\n",
       "      <td>16.498835</td>\n",
       "      <td>0.888356</td>\n",
       "      <td>1.317659</td>\n",
       "      <td>0.289027</td>\n",
       "      <td>1.899635</td>\n",
       "      <td>...</td>\n",
       "      <td>2.513496</td>\n",
       "      <td>19.689976</td>\n",
       "      <td>-0.240521</td>\n",
       "      <td>4.826523</td>\n",
       "      <td>0.473395</td>\n",
       "      <td>0.911724</td>\n",
       "      <td>0.000000</td>\n",
       "      <td>1.276653</td>\n",
       "      <td>19.673119</td>\n",
       "      <td>0.639032</td>\n",
       "    </tr>\n",
       "    <tr>\n",
       "      <th>AZ</th>\n",
       "      <td>6.413927</td>\n",
       "      <td>24.127163</td>\n",
       "      <td>15.861680</td>\n",
       "      <td>50.333908</td>\n",
       "      <td>83.758389</td>\n",
       "      <td>4.698832</td>\n",
       "      <td>5.342217</td>\n",
       "      <td>3.292428</td>\n",
       "      <td>0.271758</td>\n",
       "      <td>2.694021</td>\n",
       "      <td>...</td>\n",
       "      <td>2.685211</td>\n",
       "      <td>17.872260</td>\n",
       "      <td>1.522481</td>\n",
       "      <td>1.921034</td>\n",
       "      <td>1.959017</td>\n",
       "      <td>3.117205</td>\n",
       "      <td>0.000000</td>\n",
       "      <td>10.636121</td>\n",
       "      <td>27.341304</td>\n",
       "      <td>0.521688</td>\n",
       "    </tr>\n",
       "    <tr>\n",
       "      <th>CA</th>\n",
       "      <td>6.495129</td>\n",
       "      <td>23.576849</td>\n",
       "      <td>12.894498</td>\n",
       "      <td>50.331970</td>\n",
       "      <td>73.231044</td>\n",
       "      <td>6.543452</td>\n",
       "      <td>1.665538</td>\n",
       "      <td>14.365675</td>\n",
       "      <td>0.511667</td>\n",
       "      <td>3.711859</td>\n",
       "      <td>...</td>\n",
       "      <td>2.954712</td>\n",
       "      <td>15.920302</td>\n",
       "      <td>3.137423</td>\n",
       "      <td>3.866566</td>\n",
       "      <td>0.932438</td>\n",
       "      <td>13.827564</td>\n",
       "      <td>0.209203</td>\n",
       "      <td>16.492766</td>\n",
       "      <td>29.917096</td>\n",
       "      <td>0.650279</td>\n",
       "    </tr>\n",
       "    <tr>\n",
       "      <th>CO</th>\n",
       "      <td>6.252508</td>\n",
       "      <td>23.298173</td>\n",
       "      <td>12.702132</td>\n",
       "      <td>49.761602</td>\n",
       "      <td>87.710776</td>\n",
       "      <td>4.475335</td>\n",
       "      <td>1.581485</td>\n",
       "      <td>3.137694</td>\n",
       "      <td>0.183252</td>\n",
       "      <td>2.868386</td>\n",
       "      <td>...</td>\n",
       "      <td>2.544092</td>\n",
       "      <td>13.236393</td>\n",
       "      <td>2.492019</td>\n",
       "      <td>1.644845</td>\n",
       "      <td>0.632953</td>\n",
       "      <td>2.625565</td>\n",
       "      <td>0.024008</td>\n",
       "      <td>5.858778</td>\n",
       "      <td>28.022347</td>\n",
       "      <td>0.516205</td>\n",
       "    </tr>\n",
       "  </tbody>\n",
       "</table>\n",
       "<p>5 rows × 30 columns</p>\n",
       "</div>"
      ],
      "text/plain": [
       "    AgeUnder5Perc  AgeUnder18Perc  AgeOver65Perc  PercWomen  WhitePerc  \\\n",
       "AL       6.078931       22.833051      15.336851  51.545435  69.647735   \n",
       "AR       6.399658       23.547024      15.980816  50.951289  79.131208   \n",
       "AZ       6.413927       24.127163      15.861680  50.333908  83.758389   \n",
       "CA       6.495129       23.576849      12.894498  50.331970  73.231044   \n",
       "CO       6.252508       23.298173      12.702132  49.761602  87.710776   \n",
       "\n",
       "    BlackPerc  AIANPerc  AsianPerc  NHPIPerc  TwoOrMorePerc    ...     \\\n",
       "AL  26.667762  0.685701   1.332658  0.112922       1.543919    ...      \n",
       "AR  16.498835  0.888356   1.317659  0.289027       1.899635    ...      \n",
       "AZ   4.698832  5.342217   3.292428  0.271758       2.694021    ...      \n",
       "CA   6.543452  1.665538  14.365675  0.511667       3.711859    ...      \n",
       "CO   4.475335  1.581485   3.137694  0.183252       2.868386    ...      \n",
       "\n",
       "    PersonsPerHousehold  PercBelowPoverty  PrivateEmployPerChange  \\\n",
       "AL             2.552505         18.534983                1.525508   \n",
       "AR             2.513496         19.689976               -0.240521   \n",
       "AZ             2.685211         17.872260                1.522481   \n",
       "CA             2.954712         15.920302                3.137423   \n",
       "CO             2.544092         13.236393                2.492019   \n",
       "\n",
       "    PercFirmsBlackOwned  PercFirmsAIANOwned  PercFirmsAsianOwned  \\\n",
       "AL            12.435789            0.434078             1.308692   \n",
       "AR             4.826523            0.473395             0.911724   \n",
       "AZ             1.921034            1.959017             3.117205   \n",
       "CA             3.866566            0.932438            13.827564   \n",
       "CO             1.644845            0.632953             2.625565   \n",
       "\n",
       "    PercFirmsNHPIOwned  PercFirmsHispOwned  PercFirmsWomenOwned    trumpp  \n",
       "AL            0.012724            0.705059            25.335852  0.645392  \n",
       "AR            0.000000            1.276653            19.673119  0.639032  \n",
       "AZ            0.000000           10.636121            27.341304  0.521688  \n",
       "CA            0.209203           16.492766            29.917096  0.650279  \n",
       "CO            0.024008            5.858778            28.022347  0.516205  \n",
       "\n",
       "[5 rows x 30 columns]"
      ]
     },
     "execution_count": 14,
     "metadata": {},
     "output_type": "execute_result"
    }
   ],
   "source": [
    "data_perc.iloc[:,3:].head()"
   ]
  },
  {
   "cell_type": "code",
   "execution_count": 15,
   "metadata": {
    "collapsed": false
   },
   "outputs": [],
   "source": [
    "y = data_perc.trumpp\n",
    "X = data_perc.iloc[:,3:-1]"
   ]
  },
  {
   "cell_type": "code",
   "execution_count": 16,
   "metadata": {
    "collapsed": true
   },
   "outputs": [],
   "source": [
    "#PCA"
   ]
  },
  {
   "cell_type": "code",
   "execution_count": 17,
   "metadata": {
    "collapsed": false
   },
   "outputs": [],
   "source": [
    "n = data_perc.iloc[:,3:-1].shape[1]"
   ]
  },
  {
   "cell_type": "code",
   "execution_count": 18,
   "metadata": {
    "collapsed": false
   },
   "outputs": [
    {
     "data": {
      "text/plain": [
       "<matplotlib.text.Text at 0x1184f1910>"
      ]
     },
     "execution_count": 18,
     "metadata": {},
     "output_type": "execute_result"
    },
    {
     "data": {
      "image/png": "[encoded data removed]",
      "text/plain": [
       "<matplotlib.figure.Figure at 0x1184a9110>"
      ]
     },
     "metadata": {},
     "output_type": "display_data"
    }
   ],
   "source": [
    "pca = PCA(n)\n",
    "Xproj = pca.fit_transform(X)\n",
    "eigenvalues = pca.explained_variance_\n",
    "plt.plot(range(n), eigenvalues, 'o');\n",
    "title('PCA result')\n",
    "xlabel('number of eigenvectors')\n",
    "ylabel('eigenvalues')"
   ]
  },
  {
   "cell_type": "code",
   "execution_count": 19,
   "metadata": {
    "collapsed": false
   },
   "outputs": [
    {
     "name": "stdout",
     "output_type": "stream",
     "text": [
      "Total varaince is: 1045.37761627\n",
      "we need 4 eigenvectors\n"
     ]
    }
   ],
   "source": [
    "print \"Total varaince is: {}\".format(np.var(X,0).sum())\n",
    "pca = PCA(0.9)\n",
    "Xproj = pca.fit_transform(X)\n",
    "eigenvalues = pca.explained_variance_\n",
    "print(\"we need {} eigenvectors\".format(len(Xproj.T)))"
   ]
  },
  {
   "cell_type": "code",
   "execution_count": 20,
   "metadata": {
    "collapsed": false
   },
   "outputs": [],
   "source": [
    "pcadata = pd.DataFrame(Xproj, columns = ['x0','x1','x2','x3'])\n",
    "pcadata['y'] = y.values"
   ]
  },
  {
   "cell_type": "code",
   "execution_count": 21,
   "metadata": {
    "collapsed": false
   },
   "outputs": [],
   "source": [
    "lm = smf.ols(formula='y ~ x0 + x1 + x2 + x3', data = pcadata).fit()"
   ]
  },
  {
   "cell_type": "code",
   "execution_count": 22,
   "metadata": {
    "collapsed": false
   },
   "outputs": [
    {
     "data": {
      "text/html": [
       "<table class=\"simpletable\">\n",
       "<caption>OLS Regression Results</caption>\n",
       "<tr>\n",
       "  <th>Dep. Variable:</th>            <td>y</td>        <th>  R-squared:         </th> <td>   0.293</td>\n",
       "</tr>\n",
       "<tr>\n",
       "  <th>Model:</th>                   <td>OLS</td>       <th>  Adj. R-squared:    </th> <td>   0.205</td>\n",
       "</tr>\n",
       "<tr>\n",
       "  <th>Method:</th>             <td>Least Squares</td>  <th>  F-statistic:       </th> <td>   3.315</td>\n",
       "</tr>\n",
       "<tr>\n",
       "  <th>Date:</th>             <td>Thu, 15 Dec 2016</td> <th>  Prob (F-statistic):</th>  <td>0.0222</td> \n",
       "</tr>\n",
       "<tr>\n",
       "  <th>Time:</th>                 <td>21:45:10</td>     <th>  Log-Likelihood:    </th> <td>  55.308</td>\n",
       "</tr>\n",
       "<tr>\n",
       "  <th>No. Observations:</th>      <td>    37</td>      <th>  AIC:               </th> <td>  -100.6</td>\n",
       "</tr>\n",
       "<tr>\n",
       "  <th>Df Residuals:</th>          <td>    32</td>      <th>  BIC:               </th> <td>  -92.56</td>\n",
       "</tr>\n",
       "<tr>\n",
       "  <th>Df Model:</th>              <td>     4</td>      <th>                     </th>     <td> </td>   \n",
       "</tr>\n",
       "<tr>\n",
       "  <th>Covariance Type:</th>      <td>nonrobust</td>    <th>                     </th>     <td> </td>   \n",
       "</tr>\n",
       "</table>\n",
       "<table class=\"simpletable\">\n",
       "<tr>\n",
       "      <td></td>         <th>coef</th>     <th>std err</th>      <th>t</th>      <th>P>|t|</th> <th>[95.0% Conf. Int.]</th> \n",
       "</tr>\n",
       "<tr>\n",
       "  <th>Intercept</th> <td>    0.5960</td> <td>    0.010</td> <td>   62.118</td> <td> 0.000</td> <td>    0.576     0.615</td>\n",
       "</tr>\n",
       "<tr>\n",
       "  <th>x0</th>        <td>   -0.0005</td> <td>    0.000</td> <td>   -1.326</td> <td> 0.194</td> <td>   -0.001     0.000</td>\n",
       "</tr>\n",
       "<tr>\n",
       "  <th>x1</th>        <td>    0.0004</td> <td>    0.001</td> <td>    0.687</td> <td> 0.497</td> <td>   -0.001     0.002</td>\n",
       "</tr>\n",
       "<tr>\n",
       "  <th>x2</th>        <td>    0.0018</td> <td>    0.001</td> <td>    2.152</td> <td> 0.039</td> <td> 9.74e-05     0.004</td>\n",
       "</tr>\n",
       "<tr>\n",
       "  <th>x3</th>        <td>    0.0033</td> <td>    0.001</td> <td>    2.530</td> <td> 0.017</td> <td>    0.001     0.006</td>\n",
       "</tr>\n",
       "</table>\n",
       "<table class=\"simpletable\">\n",
       "<tr>\n",
       "  <th>Omnibus:</th>       <td> 2.623</td> <th>  Durbin-Watson:     </th> <td>   2.051</td>\n",
       "</tr>\n",
       "<tr>\n",
       "  <th>Prob(Omnibus):</th> <td> 0.269</td> <th>  Jarque-Bera (JB):  </th> <td>   1.365</td>\n",
       "</tr>\n",
       "<tr>\n",
       "  <th>Skew:</th>          <td>-0.039</td> <th>  Prob(JB):          </th> <td>   0.505</td>\n",
       "</tr>\n",
       "<tr>\n",
       "  <th>Kurtosis:</th>      <td> 2.062</td> <th>  Cond. No.          </th> <td>    24.3</td>\n",
       "</tr>\n",
       "</table>"
      ],
      "text/plain": [
       "<class 'statsmodels.iolib.summary.Summary'>\n",
       "\"\"\"\n",
       "                            OLS Regression Results                            \n",
       "==============================================================================\n",
       "Dep. Variable:                      y   R-squared:                       0.293\n",
       "Model:                            OLS   Adj. R-squared:                  0.205\n",
       "Method:                 Least Squares   F-statistic:                     3.315\n",
       "Date:                Thu, 15 Dec 2016   Prob (F-statistic):             0.0222\n",
       "Time:                        21:45:10   Log-Likelihood:                 55.308\n",
       "No. Observations:                  37   AIC:                            -100.6\n",
       "Df Residuals:                      32   BIC:                            -92.56\n",
       "Df Model:                           4                                         \n",
       "Covariance Type:            nonrobust                                         \n",
       "==============================================================================\n",
       "                 coef    std err          t      P>|t|      [95.0% Conf. Int.]\n",
       "------------------------------------------------------------------------------\n",
       "Intercept      0.5960      0.010     62.118      0.000         0.576     0.615\n",
       "x0            -0.0005      0.000     -1.326      0.194        -0.001     0.000\n",
       "x1             0.0004      0.001      0.687      0.497        -0.001     0.002\n",
       "x2             0.0018      0.001      2.152      0.039      9.74e-05     0.004\n",
       "x3             0.0033      0.001      2.530      0.017         0.001     0.006\n",
       "==============================================================================\n",
       "Omnibus:                        2.623   Durbin-Watson:                   2.051\n",
       "Prob(Omnibus):                  0.269   Jarque-Bera (JB):                1.365\n",
       "Skew:                          -0.039   Prob(JB):                        0.505\n",
       "Kurtosis:                       2.062   Cond. No.                         24.3\n",
       "==============================================================================\n",
       "\n",
       "Warnings:\n",
       "[1] Standard Errors assume that the covariance matrix of the errors is correctly specified.\n",
       "\"\"\""
      ]
     },
     "execution_count": 22,
     "metadata": {},
     "output_type": "execute_result"
    }
   ],
   "source": [
    "lm.summary()"
   ]
  },
  {
   "cell_type": "code",
   "execution_count": 23,
   "metadata": {
    "collapsed": true
   },
   "outputs": [],
   "source": [
    "#LassoCV"
   ]
  },
  {
   "cell_type": "code",
   "execution_count": 24,
   "metadata": {
    "collapsed": false
   },
   "outputs": [],
   "source": [
    "laresult = linear_model.LassoCV(alphas=[0.025/2], random_state=100)\n",
    "lafactor = X.columns[list(laresult.fit(X, y).coef_ != 0)]"
   ]
  },
  {
   "cell_type": "code",
   "execution_count": 25,
   "metadata": {
    "collapsed": false
   },
   "outputs": [],
   "source": [
    "OSR2collect = []\n",
    "ISR2collect = []\n",
    "X_train, X_test, y_train, y_test = train_test_split(X,\n",
    "                                   y, test_size = 0.4, random_state = 100)\n",
    "laresult = linear_model.LassoCV(alphas=[0.0082/2], random_state = 100)\n",
    "lafactor = X.columns[list(laresult.fit(X_train, y_train).coef_ != 0)]\n",
    "y_predict = laresult.predict(X_test)\n",
    "SST = ((y_predict - y_test.mean())**2).sum()\n",
    "SSR = ((y_test - y_predict)**2).sum()\n",
    "OSR2 = 1 - SSR/SST\n",
    "OSR2collect.append(OSR2)\n",
    "\n",
    "y_predict = laresult.predict(X_train)\n",
    "SST = ((y_predict - y_train.mean())**2).sum()\n",
    "SSR = ((y_train - y_predict)**2).sum()\n",
    "ISR2 = 1 - SSR/SST\n",
    "ISR2collect.append(ISR2)"
   ]
  },
  {
   "cell_type": "code",
   "execution_count": 26,
   "metadata": {
    "collapsed": false
   },
   "outputs": [
    {
     "data": {
      "text/plain": [
       "[0.76928772687170177]"
      ]
     },
     "execution_count": 26,
     "metadata": {},
     "output_type": "execute_result"
    }
   ],
   "source": [
    "ISR2collect"
   ]
  },
  {
   "cell_type": "code",
   "execution_count": 27,
   "metadata": {
    "collapsed": false
   },
   "outputs": [
    {
     "data": {
      "text/plain": [
       "[0.47691905200848883]"
      ]
     },
     "execution_count": 27,
     "metadata": {},
     "output_type": "execute_result"
    }
   ],
   "source": [
    "OSR2collect"
   ]
  },
  {
   "cell_type": "code",
   "execution_count": 28,
   "metadata": {
    "collapsed": false
   },
   "outputs": [
    {
     "data": {
      "text/plain": [
       "Index([u'BlackPerc', u'AIANPerc', u'NonHispWhitePerc',\n",
       "       u'LiveSameHouseOneYearPerc', u'ForeignBornPerc', u'HSGradOrHigherPerc',\n",
       "       u'BacherlorsOrHigherPerc', u'HomeownershipRate', u'HousingUnitsInMulti',\n",
       "       u'PercBelowPoverty', u'PrivateEmployPerChange', u'PercFirmsBlackOwned',\n",
       "       u'PercFirmsAsianOwned', u'PercFirmsHispOwned', u'PercFirmsWomenOwned'],\n",
       "      dtype='object')"
      ]
     },
     "execution_count": 28,
     "metadata": {},
     "output_type": "execute_result"
    }
   ],
   "source": [
    "lafactor"
   ]
  },
  {
   "cell_type": "code",
   "execution_count": 29,
   "metadata": {
    "collapsed": false
   },
   "outputs": [
    {
     "data": {
      "text/plain": [
       "[0.0,\n",
       " 0.0,\n",
       " -0.0,\n",
       " -0.0,\n",
       " -0.0,\n",
       " -0.009584644234009957,\n",
       " 0.0037577458520168245,\n",
       " 0.0,\n",
       " 0.0,\n",
       " 0.0,\n",
       " 0.0,\n",
       " -0.0029632275190657727,\n",
       " 0.0018741815504467521,\n",
       " -0.0026784698454964612,\n",
       " -0.0,\n",
       " -0.0076959335681466715,\n",
       " -0.0061503667823114639,\n",
       " 0.0,\n",
       " -0.0055844923217590872,\n",
       " -0.00033421786184828175,\n",
       " 0.0,\n",
       " -0.014329148911596718,\n",
       " 0.0064879209452619619,\n",
       " 0.013956312371295364,\n",
       " 0.0,\n",
       " 0.0017575647775363958,\n",
       " 0.0,\n",
       " -0.0074118952054925639,\n",
       " -0.01293433439247404]"
      ]
     },
     "execution_count": 29,
     "metadata": {},
     "output_type": "execute_result"
    }
   ],
   "source": [
    "list(laresult.fit(X_train, y_train).coef_)"
   ]
  },
  {
   "cell_type": "code",
   "execution_count": 30,
   "metadata": {
    "collapsed": false
   },
   "outputs": [
    {
     "name": "stderr",
     "output_type": "stream",
     "text": [
      "/Users/Xianbo/anaconda/lib/python2.7/site-packages/ipykernel/__main__.py:4: FutureWarning: sort(columns=....) is deprecated, use sort_values(by=.....)\n"
     ]
    },
    {
     "data": {
      "text/html": [
       "<div>\n",
       "<table border=\"1\" class=\"dataframe\">\n",
       "  <thead>\n",
       "    <tr style=\"text-align: right;\">\n",
       "      <th></th>\n",
       "      <th>para</th>\n",
       "      <th>coef</th>\n",
       "    </tr>\n",
       "  </thead>\n",
       "  <tbody>\n",
       "    <tr>\n",
       "      <th>21</th>\n",
       "      <td>PercBelowPoverty</td>\n",
       "      <td>-0.014329</td>\n",
       "    </tr>\n",
       "    <tr>\n",
       "      <th>23</th>\n",
       "      <td>PercFirmsBlackOwned</td>\n",
       "      <td>0.013956</td>\n",
       "    </tr>\n",
       "    <tr>\n",
       "      <th>28</th>\n",
       "      <td>PercFirmsWomenOwned</td>\n",
       "      <td>-0.012934</td>\n",
       "    </tr>\n",
       "    <tr>\n",
       "      <th>5</th>\n",
       "      <td>BlackPerc</td>\n",
       "      <td>-0.009585</td>\n",
       "    </tr>\n",
       "    <tr>\n",
       "      <th>15</th>\n",
       "      <td>HSGradOrHigherPerc</td>\n",
       "      <td>-0.007696</td>\n",
       "    </tr>\n",
       "    <tr>\n",
       "      <th>27</th>\n",
       "      <td>PercFirmsHispOwned</td>\n",
       "      <td>-0.007412</td>\n",
       "    </tr>\n",
       "    <tr>\n",
       "      <th>22</th>\n",
       "      <td>PrivateEmployPerChange</td>\n",
       "      <td>0.006488</td>\n",
       "    </tr>\n",
       "    <tr>\n",
       "      <th>16</th>\n",
       "      <td>BacherlorsOrHigherPerc</td>\n",
       "      <td>-0.006150</td>\n",
       "    </tr>\n",
       "    <tr>\n",
       "      <th>18</th>\n",
       "      <td>HomeownershipRate</td>\n",
       "      <td>-0.005584</td>\n",
       "    </tr>\n",
       "    <tr>\n",
       "      <th>6</th>\n",
       "      <td>AIANPerc</td>\n",
       "      <td>0.003758</td>\n",
       "    </tr>\n",
       "    <tr>\n",
       "      <th>11</th>\n",
       "      <td>NonHispWhitePerc</td>\n",
       "      <td>-0.002963</td>\n",
       "    </tr>\n",
       "    <tr>\n",
       "      <th>13</th>\n",
       "      <td>ForeignBornPerc</td>\n",
       "      <td>-0.002678</td>\n",
       "    </tr>\n",
       "    <tr>\n",
       "      <th>12</th>\n",
       "      <td>LiveSameHouseOneYearPerc</td>\n",
       "      <td>0.001874</td>\n",
       "    </tr>\n",
       "    <tr>\n",
       "      <th>25</th>\n",
       "      <td>PercFirmsAsianOwned</td>\n",
       "      <td>0.001758</td>\n",
       "    </tr>\n",
       "    <tr>\n",
       "      <th>19</th>\n",
       "      <td>HousingUnitsInMulti</td>\n",
       "      <td>-0.000334</td>\n",
       "    </tr>\n",
       "  </tbody>\n",
       "</table>\n",
       "</div>"
      ],
      "text/plain": [
       "                        para      coef\n",
       "21          PercBelowPoverty -0.014329\n",
       "23       PercFirmsBlackOwned  0.013956\n",
       "28       PercFirmsWomenOwned -0.012934\n",
       "5                  BlackPerc -0.009585\n",
       "15        HSGradOrHigherPerc -0.007696\n",
       "27        PercFirmsHispOwned -0.007412\n",
       "22    PrivateEmployPerChange  0.006488\n",
       "16    BacherlorsOrHigherPerc -0.006150\n",
       "18         HomeownershipRate -0.005584\n",
       "6                   AIANPerc  0.003758\n",
       "11          NonHispWhitePerc -0.002963\n",
       "13           ForeignBornPerc -0.002678\n",
       "12  LiveSameHouseOneYearPerc  0.001874\n",
       "25       PercFirmsAsianOwned  0.001758\n",
       "19       HousingUnitsInMulti -0.000334"
      ]
     },
     "execution_count": 30,
     "metadata": {},
     "output_type": "execute_result"
    }
   ],
   "source": [
    "lassoresult = pd.DataFrame(X.columns, columns = ['para'])\n",
    "lassoresult['coef'] = list(laresult.fit(X_train, y_train).coef_)\n",
    "lassoresult['abscoef'] = lassoresult['coef'].abs()\n",
    "result = lassoresult.sort(columns = 'abscoef', ascending = 0)\n",
    "result[result['coef'] != 0].iloc[:,:2]"
   ]
  },
  {
   "cell_type": "code",
   "execution_count": 31,
   "metadata": {
    "collapsed": true
   },
   "outputs": [],
   "source": [
    "lafactor = X.columns[list(laresult.fit(X, y).coef_ != 0)]"
   ]
  },
  {
   "cell_type": "code",
   "execution_count": 32,
   "metadata": {
    "collapsed": true
   },
   "outputs": [],
   "source": [
    "# The following codes are analysis for the whole dataset, which includes all the factors."
   ]
  },
  {
   "cell_type": "code",
   "execution_count": 33,
   "metadata": {
    "collapsed": false
   },
   "outputs": [],
   "source": [
    "data_nonperc = data_preprocess[['Population2014', 'HousingUnits', 'MedianHousingValue',\n",
    "                                'Households', 'MeanTravelTimeToWork', 'MedianHousingValue', 'Households', \n",
    "                                'PerCapitaIncomePastYear', 'MedianHHIncome', 'PrivateEstabs', 'PrivateEmploy', \n",
    "                                'NonemployerEstabls', 'NoOfFirms', 'ManufactShipments', 'MerchantWholesalerSales',\n",
    "                                'RetailSales', 'RetailSalesPerCapita', 'AccomFoodSales', 'BuildingPermits', \n",
    "                                'LandArea', 'PopulationPerSquareMile2010']]"
   ]
  },
  {
   "cell_type": "code",
   "execution_count": 34,
   "metadata": {
    "collapsed": false
   },
   "outputs": [
    {
     "name": "stderr",
     "output_type": "stream",
     "text": [
      "/Users/Xianbo/anaconda/lib/python2.7/site-packages/pandas/core/indexing.py:465: SettingWithCopyWarning: \n",
      "A value is trying to be set on a copy of a slice from a DataFrame.\n",
      "Try using .loc[row_indexer,col_indexer] = value instead\n",
      "\n",
      "See the caveats in the documentation: http://pandas.pydata.org/pandas-docs/stable/indexing.html#indexing-view-versus-copy\n",
      "  self.obj[item] = s\n",
      "/Users/Xianbo/anaconda/lib/python2.7/site-packages/pandas/core/indexing.py:132: SettingWithCopyWarning: \n",
      "A value is trying to be set on a copy of a slice from a DataFrame\n",
      "\n",
      "See the caveats in the documentation: http://pandas.pydata.org/pandas-docs/stable/indexing.html#indexing-view-versus-copy\n",
      "  self._setitem_with_indexer(indexer, value)\n",
      "/Users/Xianbo/anaconda/lib/python2.7/site-packages/ipykernel/__main__.py:2: SettingWithCopyWarning: \n",
      "A value is trying to be set on a copy of a slice from a DataFrame\n",
      "\n",
      "See the caveats in the documentation: http://pandas.pydata.org/pandas-docs/stable/indexing.html#indexing-view-versus-copy\n",
      "  from ipykernel import kernelapp as app\n"
     ]
    }
   ],
   "source": [
    "for i in range (0, len(data_nonperc)):\n",
    "    data_nonperc.iloc[i,:] = (data_nonperc.iloc[i,:] - data_nonperc.mean()) / (data_nonperc.max() - data_nonperc.min()) * 100"
   ]
  },
  {
   "cell_type": "code",
   "execution_count": 35,
   "metadata": {
    "collapsed": false
   },
   "outputs": [],
   "source": [
    "data_perc['ind'] = data_perc.index"
   ]
  },
  {
   "cell_type": "code",
   "execution_count": 36,
   "metadata": {
    "collapsed": false
   },
   "outputs": [
    {
     "name": "stderr",
     "output_type": "stream",
     "text": [
      "/Users/Xianbo/anaconda/lib/python2.7/site-packages/ipykernel/__main__.py:1: SettingWithCopyWarning: \n",
      "A value is trying to be set on a copy of a slice from a DataFrame.\n",
      "Try using .loc[row_indexer,col_indexer] = value instead\n",
      "\n",
      "See the caveats in the documentation: http://pandas.pydata.org/pandas-docs/stable/indexing.html#indexing-view-versus-copy\n",
      "  if __name__ == '__main__':\n"
     ]
    }
   ],
   "source": [
    "data_nonperc['ind'] = data_nonperc.index"
   ]
  },
  {
   "cell_type": "code",
   "execution_count": 37,
   "metadata": {
    "collapsed": false
   },
   "outputs": [],
   "source": [
    "data_all = pd.merge(right = data_perc.iloc[:,2:], left = data_nonperc, left_on = 'ind', right_on = 'ind', how = 'inner')\n",
    "data_all.index = data_nonperc.index"
   ]
  },
  {
   "cell_type": "code",
   "execution_count": 38,
   "metadata": {
    "collapsed": false
   },
   "outputs": [
    {
     "data": {
      "text/html": [
       "<div>\n",
       "<table border=\"1\" class=\"dataframe\">\n",
       "  <thead>\n",
       "    <tr style=\"text-align: right;\">\n",
       "      <th></th>\n",
       "      <th>Population2014</th>\n",
       "      <th>HousingUnits</th>\n",
       "      <th>MedianHousingValue</th>\n",
       "      <th>Households</th>\n",
       "      <th>MeanTravelTimeToWork</th>\n",
       "      <th>MedianHousingValue</th>\n",
       "      <th>Households</th>\n",
       "      <th>PerCapitaIncomePastYear</th>\n",
       "      <th>MedianHHIncome</th>\n",
       "      <th>PrivateEstabs</th>\n",
       "      <th>...</th>\n",
       "      <th>PersonsPerHousehold</th>\n",
       "      <th>PercBelowPoverty</th>\n",
       "      <th>PrivateEmployPerChange</th>\n",
       "      <th>PercFirmsBlackOwned</th>\n",
       "      <th>PercFirmsAIANOwned</th>\n",
       "      <th>PercFirmsAsianOwned</th>\n",
       "      <th>PercFirmsNHPIOwned</th>\n",
       "      <th>PercFirmsHispOwned</th>\n",
       "      <th>PercFirmsWomenOwned</th>\n",
       "      <th>trumpp</th>\n",
       "    </tr>\n",
       "  </thead>\n",
       "  <tbody>\n",
       "    <tr>\n",
       "      <th>AL</th>\n",
       "      <td>-5.586435</td>\n",
       "      <td>-10.527224</td>\n",
       "      <td>-15.658762</td>\n",
       "      <td>-10.419825</td>\n",
       "      <td>2.788230</td>\n",
       "      <td>-15.658762</td>\n",
       "      <td>-10.419825</td>\n",
       "      <td>-18.214424</td>\n",
       "      <td>-20.386078</td>\n",
       "      <td>-10.480121</td>\n",
       "      <td>...</td>\n",
       "      <td>2.552505</td>\n",
       "      <td>18.534983</td>\n",
       "      <td>1.525508</td>\n",
       "      <td>12.435789</td>\n",
       "      <td>0.434078</td>\n",
       "      <td>1.308692</td>\n",
       "      <td>0.012724</td>\n",
       "      <td>0.705059</td>\n",
       "      <td>25.335852</td>\n",
       "      <td>0.645392</td>\n",
       "    </tr>\n",
       "    <tr>\n",
       "      <th>AR</th>\n",
       "      <td>-10.675847</td>\n",
       "      <td>-13.722341</td>\n",
       "      <td>-14.947916</td>\n",
       "      <td>-13.294568</td>\n",
       "      <td>-5.821104</td>\n",
       "      <td>-14.947916</td>\n",
       "      <td>-13.294568</td>\n",
       "      <td>-11.376573</td>\n",
       "      <td>-13.698759</td>\n",
       "      <td>-12.274431</td>\n",
       "      <td>...</td>\n",
       "      <td>2.513496</td>\n",
       "      <td>19.689976</td>\n",
       "      <td>-0.240521</td>\n",
       "      <td>4.826523</td>\n",
       "      <td>0.473395</td>\n",
       "      <td>0.911724</td>\n",
       "      <td>0.000000</td>\n",
       "      <td>1.276653</td>\n",
       "      <td>19.673119</td>\n",
       "      <td>0.639032</td>\n",
       "    </tr>\n",
       "    <tr>\n",
       "      <th>AZ</th>\n",
       "      <td>-0.117792</td>\n",
       "      <td>66.065725</td>\n",
       "      <td>-3.282821</td>\n",
       "      <td>59.488872</td>\n",
       "      <td>5.595023</td>\n",
       "      <td>-3.282821</td>\n",
       "      <td>59.488872</td>\n",
       "      <td>-0.794552</td>\n",
       "      <td>-0.810369</td>\n",
       "      <td>44.976913</td>\n",
       "      <td>...</td>\n",
       "      <td>2.685211</td>\n",
       "      <td>17.872260</td>\n",
       "      <td>1.522481</td>\n",
       "      <td>1.921034</td>\n",
       "      <td>1.959017</td>\n",
       "      <td>3.117205</td>\n",
       "      <td>0.000000</td>\n",
       "      <td>10.636121</td>\n",
       "      <td>27.341304</td>\n",
       "      <td>0.521688</td>\n",
       "    </tr>\n",
       "    <tr>\n",
       "      <th>CA</th>\n",
       "      <td>83.045894</td>\n",
       "      <td>84.647544</td>\n",
       "      <td>41.204166</td>\n",
       "      <td>85.148591</td>\n",
       "      <td>13.668001</td>\n",
       "      <td>41.204166</td>\n",
       "      <td>85.148591</td>\n",
       "      <td>11.844033</td>\n",
       "      <td>15.405079</td>\n",
       "      <td>86.110588</td>\n",
       "      <td>...</td>\n",
       "      <td>2.954712</td>\n",
       "      <td>15.920302</td>\n",
       "      <td>3.137423</td>\n",
       "      <td>3.866566</td>\n",
       "      <td>0.932438</td>\n",
       "      <td>13.827564</td>\n",
       "      <td>0.209203</td>\n",
       "      <td>16.492766</td>\n",
       "      <td>29.917096</td>\n",
       "      <td>0.650279</td>\n",
       "    </tr>\n",
       "    <tr>\n",
       "      <th>CO</th>\n",
       "      <td>-0.949786</td>\n",
       "      <td>0.358462</td>\n",
       "      <td>14.502489</td>\n",
       "      <td>0.846620</td>\n",
       "      <td>7.465362</td>\n",
       "      <td>14.502489</td>\n",
       "      <td>0.846620</td>\n",
       "      <td>18.069228</td>\n",
       "      <td>14.808179</td>\n",
       "      <td>2.234457</td>\n",
       "      <td>...</td>\n",
       "      <td>2.544092</td>\n",
       "      <td>13.236393</td>\n",
       "      <td>2.492019</td>\n",
       "      <td>1.644845</td>\n",
       "      <td>0.632953</td>\n",
       "      <td>2.625565</td>\n",
       "      <td>0.024008</td>\n",
       "      <td>5.858778</td>\n",
       "      <td>28.022347</td>\n",
       "      <td>0.516205</td>\n",
       "    </tr>\n",
       "  </tbody>\n",
       "</table>\n",
       "<p>5 rows × 53 columns</p>\n",
       "</div>"
      ],
      "text/plain": [
       "    Population2014  HousingUnits  MedianHousingValue  Households  \\\n",
       "AL       -5.586435    -10.527224          -15.658762  -10.419825   \n",
       "AR      -10.675847    -13.722341          -14.947916  -13.294568   \n",
       "AZ       -0.117792     66.065725           -3.282821   59.488872   \n",
       "CA       83.045894     84.647544           41.204166   85.148591   \n",
       "CO       -0.949786      0.358462           14.502489    0.846620   \n",
       "\n",
       "    MeanTravelTimeToWork  MedianHousingValue  Households  \\\n",
       "AL              2.788230          -15.658762  -10.419825   \n",
       "AR             -5.821104          -14.947916  -13.294568   \n",
       "AZ              5.595023           -3.282821   59.488872   \n",
       "CA             13.668001           41.204166   85.148591   \n",
       "CO              7.465362           14.502489    0.846620   \n",
       "\n",
       "    PerCapitaIncomePastYear  MedianHHIncome  PrivateEstabs    ...     \\\n",
       "AL               -18.214424      -20.386078     -10.480121    ...      \n",
       "AR               -11.376573      -13.698759     -12.274431    ...      \n",
       "AZ                -0.794552       -0.810369      44.976913    ...      \n",
       "CA                11.844033       15.405079      86.110588    ...      \n",
       "CO                18.069228       14.808179       2.234457    ...      \n",
       "\n",
       "    PersonsPerHousehold  PercBelowPoverty  PrivateEmployPerChange  \\\n",
       "AL             2.552505         18.534983                1.525508   \n",
       "AR             2.513496         19.689976               -0.240521   \n",
       "AZ             2.685211         17.872260                1.522481   \n",
       "CA             2.954712         15.920302                3.137423   \n",
       "CO             2.544092         13.236393                2.492019   \n",
       "\n",
       "    PercFirmsBlackOwned  PercFirmsAIANOwned  PercFirmsAsianOwned  \\\n",
       "AL            12.435789            0.434078             1.308692   \n",
       "AR             4.826523            0.473395             0.911724   \n",
       "AZ             1.921034            1.959017             3.117205   \n",
       "CA             3.866566            0.932438            13.827564   \n",
       "CO             1.644845            0.632953             2.625565   \n",
       "\n",
       "    PercFirmsNHPIOwned  PercFirmsHispOwned  PercFirmsWomenOwned    trumpp  \n",
       "AL            0.012724            0.705059            25.335852  0.645392  \n",
       "AR            0.000000            1.276653            19.673119  0.639032  \n",
       "AZ            0.000000           10.636121            27.341304  0.521688  \n",
       "CA            0.209203           16.492766            29.917096  0.650279  \n",
       "CO            0.024008            5.858778            28.022347  0.516205  \n",
       "\n",
       "[5 rows x 53 columns]"
      ]
     },
     "execution_count": 38,
     "metadata": {},
     "output_type": "execute_result"
    }
   ],
   "source": [
    "data_all.head()"
   ]
  },
  {
   "cell_type": "code",
   "execution_count": 39,
   "metadata": {
    "collapsed": false
   },
   "outputs": [],
   "source": [
    "data_all = data_all.drop('ind', axis = 1)"
   ]
  },
  {
   "cell_type": "code",
   "execution_count": 40,
   "metadata": {
    "collapsed": false
   },
   "outputs": [],
   "source": [
    "#y = data_nonperc.trumpp\n",
    "X = data_all.iloc[:,:-1]"
   ]
  },
  {
   "cell_type": "code",
   "execution_count": 41,
   "metadata": {
    "collapsed": false
   },
   "outputs": [
    {
     "name": "stderr",
     "output_type": "stream",
     "text": [
      "/Users/Xianbo/.local/lib/python2.7/site-packages/sklearn/linear_model/coordinate_descent.py:479: ConvergenceWarning: Objective did not converge. You might want to increase the number of iterations. Fitting data with very small alpha may cause precision problems.\n",
      "  ConvergenceWarning)\n"
     ]
    }
   ],
   "source": [
    "laresult = linear_model.LassoCV(alphas=[0.025/2], random_state=100)\n",
    "lafactor = X.columns[list(laresult.fit(X, y).coef_ != 0)]"
   ]
  },
  {
   "cell_type": "code",
   "execution_count": 42,
   "metadata": {
    "collapsed": false
   },
   "outputs": [],
   "source": [
    "OSR2collect = []\n",
    "ISR2collect = []\n",
    "X_train, X_test, y_train, y_test = train_test_split(X,\n",
    "                                   y, test_size = 0.4, random_state = 100)\n",
    "laresult = linear_model.LassoCV(alphas=[0.00020/2], random_state=100)\n",
    "lafactor = X.columns[list(laresult.fit(X_train, y_train).coef_ != 0)]\n",
    "y_predict = laresult.predict(X_test)\n",
    "SST = ((y_predict - y_test.mean())**2).sum()\n",
    "SSR = ((y_test - y_predict)**2).sum()\n",
    "OSR2 = 1 - SSR/SST\n",
    "OSR2collect.append(OSR2)\n",
    "\n",
    "y_predict = laresult.predict(X_train)\n",
    "SST = ((y_predict - y_train.mean())**2).sum()\n",
    "SSR = ((y_train - y_predict)**2).sum()\n",
    "ISR2 = 1 - SSR/SST\n",
    "ISR2collect.append(ISR2)"
   ]
  },
  {
   "cell_type": "code",
   "execution_count": 43,
   "metadata": {
    "collapsed": false
   },
   "outputs": [
    {
     "data": {
      "text/plain": [
       "[0.99984026450592756]"
      ]
     },
     "execution_count": 43,
     "metadata": {},
     "output_type": "execute_result"
    }
   ],
   "source": [
    "ISR2collect\n"
   ]
  },
  {
   "cell_type": "code",
   "execution_count": 44,
   "metadata": {
    "collapsed": false
   },
   "outputs": [
    {
     "data": {
      "text/plain": [
       "[0.23651644001758332]"
      ]
     },
     "execution_count": 44,
     "metadata": {},
     "output_type": "execute_result"
    }
   ],
   "source": [
    "OSR2collect"
   ]
  },
  {
   "cell_type": "code",
   "execution_count": 45,
   "metadata": {
    "collapsed": false
   },
   "outputs": [
    {
     "name": "stderr",
     "output_type": "stream",
     "text": [
      "/Users/Xianbo/anaconda/lib/python2.7/site-packages/ipykernel/__main__.py:4: FutureWarning: sort(columns=....) is deprecated, use sort_values(by=.....)\n"
     ]
    },
    {
     "data": {
      "text/html": [
       "<div>\n",
       "<table border=\"1\" class=\"dataframe\">\n",
       "  <thead>\n",
       "    <tr style=\"text-align: right;\">\n",
       "      <th></th>\n",
       "      <th>para</th>\n",
       "      <th>coef</th>\n",
       "    </tr>\n",
       "  </thead>\n",
       "  <tbody>\n",
       "    <tr>\n",
       "      <th>43</th>\n",
       "      <td>PercBelowPoverty</td>\n",
       "      <td>-2.867394e-02</td>\n",
       "    </tr>\n",
       "    <tr>\n",
       "      <th>37</th>\n",
       "      <td>HSGradOrHigherPerc</td>\n",
       "      <td>-1.837608e-02</td>\n",
       "    </tr>\n",
       "    <tr>\n",
       "      <th>45</th>\n",
       "      <td>PercFirmsBlackOwned</td>\n",
       "      <td>1.604645e-02</td>\n",
       "    </tr>\n",
       "    <tr>\n",
       "      <th>47</th>\n",
       "      <td>PercFirmsAsianOwned</td>\n",
       "      <td>1.258024e-02</td>\n",
       "    </tr>\n",
       "    <tr>\n",
       "      <th>49</th>\n",
       "      <td>PercFirmsHispOwned</td>\n",
       "      <td>-1.174315e-02</td>\n",
       "    </tr>\n",
       "    <tr>\n",
       "      <th>46</th>\n",
       "      <td>PercFirmsAIANOwned</td>\n",
       "      <td>1.090058e-02</td>\n",
       "    </tr>\n",
       "    <tr>\n",
       "      <th>50</th>\n",
       "      <td>PercFirmsWomenOwned</td>\n",
       "      <td>-8.088762e-03</td>\n",
       "    </tr>\n",
       "    <tr>\n",
       "      <th>23</th>\n",
       "      <td>AgeUnder18Perc</td>\n",
       "      <td>7.636444e-03</td>\n",
       "    </tr>\n",
       "    <tr>\n",
       "      <th>28</th>\n",
       "      <td>AIANPerc</td>\n",
       "      <td>7.607024e-03</td>\n",
       "    </tr>\n",
       "    <tr>\n",
       "      <th>40</th>\n",
       "      <td>HomeownershipRate</td>\n",
       "      <td>-5.797067e-03</td>\n",
       "    </tr>\n",
       "    <tr>\n",
       "      <th>27</th>\n",
       "      <td>BlackPerc</td>\n",
       "      <td>-4.264335e-03</td>\n",
       "    </tr>\n",
       "    <tr>\n",
       "      <th>36</th>\n",
       "      <td>OtherLanguagePerc</td>\n",
       "      <td>-4.016379e-03</td>\n",
       "    </tr>\n",
       "    <tr>\n",
       "      <th>32</th>\n",
       "      <td>HispPerc</td>\n",
       "      <td>3.944554e-03</td>\n",
       "    </tr>\n",
       "    <tr>\n",
       "      <th>16</th>\n",
       "      <td>RetailSalesPerCapita</td>\n",
       "      <td>3.319434e-03</td>\n",
       "    </tr>\n",
       "    <tr>\n",
       "      <th>26</th>\n",
       "      <td>WhitePerc</td>\n",
       "      <td>3.175608e-03</td>\n",
       "    </tr>\n",
       "    <tr>\n",
       "      <th>7</th>\n",
       "      <td>PerCapitaIncomePastYear</td>\n",
       "      <td>-2.900148e-03</td>\n",
       "    </tr>\n",
       "    <tr>\n",
       "      <th>11</th>\n",
       "      <td>NonemployerEstabls</td>\n",
       "      <td>2.084011e-03</td>\n",
       "    </tr>\n",
       "    <tr>\n",
       "      <th>24</th>\n",
       "      <td>AgeOver65Perc</td>\n",
       "      <td>1.592132e-03</td>\n",
       "    </tr>\n",
       "    <tr>\n",
       "      <th>41</th>\n",
       "      <td>HousingUnitsInMulti</td>\n",
       "      <td>-1.588941e-03</td>\n",
       "    </tr>\n",
       "    <tr>\n",
       "      <th>19</th>\n",
       "      <td>LandArea</td>\n",
       "      <td>1.538548e-03</td>\n",
       "    </tr>\n",
       "    <tr>\n",
       "      <th>18</th>\n",
       "      <td>BuildingPermits</td>\n",
       "      <td>-1.498138e-03</td>\n",
       "    </tr>\n",
       "    <tr>\n",
       "      <th>15</th>\n",
       "      <td>RetailSales</td>\n",
       "      <td>-1.430444e-03</td>\n",
       "    </tr>\n",
       "    <tr>\n",
       "      <th>8</th>\n",
       "      <td>MedianHHIncome</td>\n",
       "      <td>-1.353018e-03</td>\n",
       "    </tr>\n",
       "    <tr>\n",
       "      <th>1</th>\n",
       "      <td>HousingUnits</td>\n",
       "      <td>-1.207269e-03</td>\n",
       "    </tr>\n",
       "    <tr>\n",
       "      <th>9</th>\n",
       "      <td>PrivateEstabs</td>\n",
       "      <td>-1.082540e-03</td>\n",
       "    </tr>\n",
       "    <tr>\n",
       "      <th>33</th>\n",
       "      <td>NonHispWhitePerc</td>\n",
       "      <td>-1.069318e-03</td>\n",
       "    </tr>\n",
       "    <tr>\n",
       "      <th>20</th>\n",
       "      <td>PopulationPerSquareMile2010</td>\n",
       "      <td>1.057403e-03</td>\n",
       "    </tr>\n",
       "    <tr>\n",
       "      <th>14</th>\n",
       "      <td>MerchantWholesalerSales</td>\n",
       "      <td>1.037481e-03</td>\n",
       "    </tr>\n",
       "    <tr>\n",
       "      <th>4</th>\n",
       "      <td>MeanTravelTimeToWork</td>\n",
       "      <td>9.741416e-04</td>\n",
       "    </tr>\n",
       "    <tr>\n",
       "      <th>17</th>\n",
       "      <td>AccomFoodSales</td>\n",
       "      <td>9.603264e-04</td>\n",
       "    </tr>\n",
       "    <tr>\n",
       "      <th>38</th>\n",
       "      <td>BacherlorsOrHigherPerc</td>\n",
       "      <td>-8.348232e-04</td>\n",
       "    </tr>\n",
       "    <tr>\n",
       "      <th>2</th>\n",
       "      <td>MedianHousingValue</td>\n",
       "      <td>-7.978256e-04</td>\n",
       "    </tr>\n",
       "    <tr>\n",
       "      <th>35</th>\n",
       "      <td>ForeignBornPerc</td>\n",
       "      <td>2.521237e-04</td>\n",
       "    </tr>\n",
       "    <tr>\n",
       "      <th>5</th>\n",
       "      <td>MedianHousingValue</td>\n",
       "      <td>-2.379494e-04</td>\n",
       "    </tr>\n",
       "    <tr>\n",
       "      <th>34</th>\n",
       "      <td>LiveSameHouseOneYearPerc</td>\n",
       "      <td>-2.211262e-04</td>\n",
       "    </tr>\n",
       "    <tr>\n",
       "      <th>13</th>\n",
       "      <td>ManufactShipments</td>\n",
       "      <td>2.178184e-04</td>\n",
       "    </tr>\n",
       "    <tr>\n",
       "      <th>0</th>\n",
       "      <td>Population2014</td>\n",
       "      <td>1.517942e-04</td>\n",
       "    </tr>\n",
       "    <tr>\n",
       "      <th>3</th>\n",
       "      <td>Households</td>\n",
       "      <td>-1.270618e-04</td>\n",
       "    </tr>\n",
       "    <tr>\n",
       "      <th>12</th>\n",
       "      <td>NoOfFirms</td>\n",
       "      <td>5.834559e-05</td>\n",
       "    </tr>\n",
       "    <tr>\n",
       "      <th>21</th>\n",
       "      <td>PopulationPercChange</td>\n",
       "      <td>-3.310367e-10</td>\n",
       "    </tr>\n",
       "  </tbody>\n",
       "</table>\n",
       "</div>"
      ],
      "text/plain": [
       "                           para          coef\n",
       "43             PercBelowPoverty -2.867394e-02\n",
       "37           HSGradOrHigherPerc -1.837608e-02\n",
       "45          PercFirmsBlackOwned  1.604645e-02\n",
       "47          PercFirmsAsianOwned  1.258024e-02\n",
       "49           PercFirmsHispOwned -1.174315e-02\n",
       "46           PercFirmsAIANOwned  1.090058e-02\n",
       "50          PercFirmsWomenOwned -8.088762e-03\n",
       "23               AgeUnder18Perc  7.636444e-03\n",
       "28                     AIANPerc  7.607024e-03\n",
       "40            HomeownershipRate -5.797067e-03\n",
       "27                    BlackPerc -4.264335e-03\n",
       "36            OtherLanguagePerc -4.016379e-03\n",
       "32                     HispPerc  3.944554e-03\n",
       "16         RetailSalesPerCapita  3.319434e-03\n",
       "26                    WhitePerc  3.175608e-03\n",
       "7       PerCapitaIncomePastYear -2.900148e-03\n",
       "11           NonemployerEstabls  2.084011e-03\n",
       "24                AgeOver65Perc  1.592132e-03\n",
       "41          HousingUnitsInMulti -1.588941e-03\n",
       "19                     LandArea  1.538548e-03\n",
       "18              BuildingPermits -1.498138e-03\n",
       "15                  RetailSales -1.430444e-03\n",
       "8                MedianHHIncome -1.353018e-03\n",
       "1                  HousingUnits -1.207269e-03\n",
       "9                 PrivateEstabs -1.082540e-03\n",
       "33             NonHispWhitePerc -1.069318e-03\n",
       "20  PopulationPerSquareMile2010  1.057403e-03\n",
       "14      MerchantWholesalerSales  1.037481e-03\n",
       "4          MeanTravelTimeToWork  9.741416e-04\n",
       "17               AccomFoodSales  9.603264e-04\n",
       "38       BacherlorsOrHigherPerc -8.348232e-04\n",
       "2            MedianHousingValue -7.978256e-04\n",
       "35              ForeignBornPerc  2.521237e-04\n",
       "5            MedianHousingValue -2.379494e-04\n",
       "34     LiveSameHouseOneYearPerc -2.211262e-04\n",
       "13            ManufactShipments  2.178184e-04\n",
       "0                Population2014  1.517942e-04\n",
       "3                    Households -1.270618e-04\n",
       "12                    NoOfFirms  5.834559e-05\n",
       "21         PopulationPercChange -3.310367e-10"
      ]
     },
     "execution_count": 45,
     "metadata": {},
     "output_type": "execute_result"
    }
   ],
   "source": [
    "lassoresult = pd.DataFrame(X.columns, columns = ['para'])\n",
    "lassoresult['coef'] = list(laresult.fit(X_train, y_train).coef_)\n",
    "lassoresult['abscoef'] = lassoresult['coef'].abs()\n",
    "result = lassoresult.sort(columns = 'abscoef', ascending = 0)\n",
    "result[result['coef'] != 0].iloc[:,:2]"
   ]
  },
  {
   "cell_type": "code",
   "execution_count": null,
   "metadata": {
    "collapsed": true
   },
   "outputs": [],
   "source": []
  },
  {
   "cell_type": "code",
   "execution_count": null,
   "metadata": {
    "collapsed": true
   },
   "outputs": [],
   "source": []
  }
 ],
 "metadata": {
  "anaconda-cloud": {},
  "kernelspec": {
   "display_name": "Python [default]",
   "language": "python",
   "name": "python2"
  },
  "language_info": {
   "codemirror_mode": {
    "name": "ipython",
    "version": 2
   },
   "file_extension": ".py",
   "mimetype": "text/x-python",
   "name": "python",
   "nbconvert_exporter": "python",
   "pygments_lexer": "ipython2",
   "version": "2.7.12"
  }
 },
 "nbformat": 4,
 "nbformat_minor": 0
}
