{
 "cells": [
  {
   "cell_type": "markdown",
   "metadata": {},
   "source": [
    "# Working with Data - Computer Lab for Guest Lecture Julia Lane\n",
    "\n",
    "In this computer lab we will learn more more details and practice data work to enhance the content of the lecture presented by Julia Lane on responsible data use. We will address a research question, think about data and measurement errors, and manipulate data. \n",
    "\n",
    "OUTLINE: \n",
    "1. Define a research question \n",
    "2. Think about what data are available \n",
    "3. Think about possible measurement errors \n",
    "4. Think about the interpretation of your results \n",
    "5. Inform your results by linking datasets "
   ]
  },
  {
   "cell_type": "markdown",
   "metadata": {
    "raw_mimetype": "text/markdown"
   },
   "source": [
    "# 1. Define a reserach question\n",
    "Which Community Districts in NYC show the highest number of complaints?\n",
    "\n",
    "# 2. Think about what data are available\n",
    "Find suitable data by searching the CUSP Data Catalog https://datahub.cusp.nyu.edu/catalog. You can use Urban Profiler to investigate the Metadata associated with each dataset. Using this tool will help you to decide which attributes of the data you need to answer your question so you don't have to load the entire dataset. "
   ]
  },
  {
   "cell_type": "code",
   "execution_count": 107,
   "metadata": {
    "collapsed": false
   },
   "outputs": [],
   "source": [
    "import os\n",
    "import pandas as pd\n",
    "import numpy as np\n",
    "import re\n",
    "import matplotlib.pyplot as plt\n",
    "import pylab as pl\n",
    "import statsmodels.api as sm\n",
    "import statsmodels.formula.api as smf\n",
    "PUIdata = os.getenv('PUIDATA')"
   ]
  },
  {
   "cell_type": "code",
   "execution_count": 2,
   "metadata": {
    "collapsed": false
   },
   "outputs": [
    {
     "data": {
      "text/plain": [
       "'/home/cusp/xg656/PUIdata'"
      ]
     },
     "execution_count": 2,
     "metadata": {},
     "output_type": "execute_result"
    }
   ],
   "source": [
    "os.getenv('PUIDATA')"
   ]
  },
  {
   "cell_type": "code",
   "execution_count": 3,
   "metadata": {
    "collapsed": false,
    "scrolled": true
   },
   "outputs": [
    {
     "name": "stderr",
     "output_type": "stream",
     "text": [
      "/opt/rh/anaconda/root/envs/PUI2016_Python2/lib/python2.7/site-packages/IPython/core/interactiveshell.py:2717: DtypeWarning: Columns (8,17,39,40,47,48) have mixed types. Specify dtype option on import or set low_memory=False.\n",
      "  interactivity=interactivity, compiler=compiler, result=result)\n"
     ]
    }
   ],
   "source": [
    "data = pd.read_csv('/projects/open/NYCOpenData/nycopendata/data/erm2-nwe9/1446832678/erm2-nwe9')\n",
    "# Load dataset"
   ]
  },
  {
   "cell_type": "code",
   "execution_count": 4,
   "metadata": {
    "collapsed": false,
    "scrolled": true
   },
   "outputs": [
    {
     "data": {
      "text/plain": [
       "array(['Unique Key', 'Created Date', 'Closed Date', 'Agency',\n",
       "       'Agency Name', 'Complaint Type', 'Descriptor', 'Location Type',\n",
       "       'Incident Zip', 'Incident Address', 'Street Name', 'Cross Street 1',\n",
       "       'Cross Street 2', 'Intersection Street 1', 'Intersection Street 2',\n",
       "       'Address Type', 'City', 'Landmark', 'Facility Type', 'Status',\n",
       "       'Due Date', 'Resolution Description',\n",
       "       'Resolution Action Updated Date', 'Community Board', 'Borough',\n",
       "       'X Coordinate (State Plane)', 'Y Coordinate (State Plane)',\n",
       "       'Park Facility Name', 'Park Borough', 'School Name',\n",
       "       'School Number', 'School Region', 'School Code',\n",
       "       'School Phone Number', 'School Address', 'School City',\n",
       "       'School State', 'School Zip', 'School Not Found',\n",
       "       'School or Citywide Complaint', 'Vehicle Type',\n",
       "       'Taxi Company Borough', 'Taxi Pick Up Location',\n",
       "       'Bridge Highway Name', 'Bridge Highway Direction', 'Road Ramp',\n",
       "       'Bridge Highway Segment', 'Garage Lot Name', 'Ferry Direction',\n",
       "       'Ferry Terminal Name', 'Latitude', 'Longitude', 'Location'], dtype=object)"
      ]
     },
     "execution_count": 4,
     "metadata": {},
     "output_type": "execute_result"
    }
   ],
   "source": [
    "data.columns.values"
   ]
  },
  {
   "cell_type": "markdown",
   "metadata": {},
   "source": [
    "# 3. Think about possible measurement errors\n",
    "Do you see any problems regarding possible measurement error? Think about who is represented in the data, ommissions, duplications, content error, missing data, etc. "
   ]
  },
  {
   "cell_type": "code",
   "execution_count": 5,
   "metadata": {
    "collapsed": false
   },
   "outputs": [
    {
     "data": {
      "text/html": [
       "<div>\n",
       "<table border=\"1\" class=\"dataframe\">\n",
       "  <thead>\n",
       "    <tr style=\"text-align: right;\">\n",
       "      <th></th>\n",
       "      <th>Unique Key</th>\n",
       "      <th>Created Date</th>\n",
       "      <th>Closed Date</th>\n",
       "      <th>Agency</th>\n",
       "      <th>Agency Name</th>\n",
       "      <th>Complaint Type</th>\n",
       "      <th>Descriptor</th>\n",
       "      <th>Location Type</th>\n",
       "      <th>Incident Zip</th>\n",
       "      <th>Incident Address</th>\n",
       "      <th>...</th>\n",
       "      <th>Bridge Highway Name</th>\n",
       "      <th>Bridge Highway Direction</th>\n",
       "      <th>Road Ramp</th>\n",
       "      <th>Bridge Highway Segment</th>\n",
       "      <th>Garage Lot Name</th>\n",
       "      <th>Ferry Direction</th>\n",
       "      <th>Ferry Terminal Name</th>\n",
       "      <th>Latitude</th>\n",
       "      <th>Longitude</th>\n",
       "      <th>Location</th>\n",
       "    </tr>\n",
       "  </thead>\n",
       "  <tbody>\n",
       "    <tr>\n",
       "      <th>0</th>\n",
       "      <td>31911011</td>\n",
       "      <td>11/05/2015 02:59:15 AM</td>\n",
       "      <td>NaN</td>\n",
       "      <td>DOT</td>\n",
       "      <td>Department of Transportation</td>\n",
       "      <td>Street Condition</td>\n",
       "      <td>Pothole</td>\n",
       "      <td>NaN</td>\n",
       "      <td>11224</td>\n",
       "      <td>NaN</td>\n",
       "      <td>...</td>\n",
       "      <td>NaN</td>\n",
       "      <td>NaN</td>\n",
       "      <td>NaN</td>\n",
       "      <td>NaN</td>\n",
       "      <td>NaN</td>\n",
       "      <td>NaN</td>\n",
       "      <td>NaN</td>\n",
       "      <td>40.573431</td>\n",
       "      <td>-73.991742</td>\n",
       "      <td>(40.57343122248129, -73.99174247588253)</td>\n",
       "    </tr>\n",
       "    <tr>\n",
       "      <th>1</th>\n",
       "      <td>31908754</td>\n",
       "      <td>11/05/2015 02:09:49 AM</td>\n",
       "      <td>NaN</td>\n",
       "      <td>CHALL</td>\n",
       "      <td>CHALL</td>\n",
       "      <td>Opinion for the Mayor</td>\n",
       "      <td>HOUSING</td>\n",
       "      <td>NaN</td>\n",
       "      <td>NaN</td>\n",
       "      <td>NaN</td>\n",
       "      <td>...</td>\n",
       "      <td>NaN</td>\n",
       "      <td>NaN</td>\n",
       "      <td>NaN</td>\n",
       "      <td>1-1-1173130914</td>\n",
       "      <td>NaN</td>\n",
       "      <td>NaN</td>\n",
       "      <td>NaN</td>\n",
       "      <td>NaN</td>\n",
       "      <td>NaN</td>\n",
       "      <td>NaN</td>\n",
       "    </tr>\n",
       "  </tbody>\n",
       "</table>\n",
       "<p>2 rows × 53 columns</p>\n",
       "</div>"
      ],
      "text/plain": [
       "   Unique Key            Created Date Closed Date Agency  \\\n",
       "0    31911011  11/05/2015 02:59:15 AM         NaN    DOT   \n",
       "1    31908754  11/05/2015 02:09:49 AM         NaN  CHALL   \n",
       "\n",
       "                    Agency Name         Complaint Type Descriptor  \\\n",
       "0  Department of Transportation       Street Condition    Pothole   \n",
       "1                         CHALL  Opinion for the Mayor    HOUSING   \n",
       "\n",
       "  Location Type Incident Zip Incident Address  \\\n",
       "0           NaN        11224              NaN   \n",
       "1           NaN          NaN              NaN   \n",
       "\n",
       "                    ...                    Bridge Highway Name  \\\n",
       "0                   ...                                    NaN   \n",
       "1                   ...                                    NaN   \n",
       "\n",
       "  Bridge Highway Direction Road Ramp Bridge Highway Segment Garage Lot Name  \\\n",
       "0                      NaN       NaN                    NaN             NaN   \n",
       "1                      NaN       NaN         1-1-1173130914             NaN   \n",
       "\n",
       "  Ferry Direction Ferry Terminal Name   Latitude  Longitude  \\\n",
       "0             NaN                 NaN  40.573431 -73.991742   \n",
       "1             NaN                 NaN        NaN        NaN   \n",
       "\n",
       "                                  Location  \n",
       "0  (40.57343122248129, -73.99174247588253)  \n",
       "1                                      NaN  \n",
       "\n",
       "[2 rows x 53 columns]"
      ]
     },
     "execution_count": 5,
     "metadata": {},
     "output_type": "execute_result"
    }
   ],
   "source": [
    "data.head(2)"
   ]
  },
  {
   "cell_type": "code",
   "execution_count": 6,
   "metadata": {
    "collapsed": false
   },
   "outputs": [],
   "source": [
    "# Check if all Boroughs and Community Districts are represented in the Data "
   ]
  },
  {
   "cell_type": "code",
   "execution_count": 7,
   "metadata": {
    "collapsed": false
   },
   "outputs": [
    {
     "data": {
      "text/plain": [
       "10187766"
      ]
     },
     "execution_count": 7,
     "metadata": {},
     "output_type": "execute_result"
    }
   ],
   "source": [
    "len(data)"
   ]
  },
  {
   "cell_type": "code",
   "execution_count": 8,
   "metadata": {
    "collapsed": false
   },
   "outputs": [
    {
     "name": "stderr",
     "output_type": "stream",
     "text": [
      "/opt/rh/anaconda/root/envs/PUI2016_Python2/lib/python2.7/site-packages/ipykernel/__main__.py:1: FutureWarning: the take_last=True keyword is deprecated, use keep='last' instead\n",
      "  if __name__ == '__main__':\n"
     ]
    }
   ],
   "source": [
    "data_unique = data.drop_duplicates(subset='Unique Key', take_last=True)"
   ]
  },
  {
   "cell_type": "code",
   "execution_count": 9,
   "metadata": {
    "collapsed": false
   },
   "outputs": [
    {
     "data": {
      "text/plain": [
       "['0 Unspecified',\n",
       " '01 BRONX',\n",
       " '01 BROOKLYN',\n",
       " '01 MANHATTAN',\n",
       " '01 QUEENS',\n",
       " '01 STATEN ISLAND',\n",
       " '02 BRONX',\n",
       " '02 BROOKLYN',\n",
       " '02 MANHATTAN',\n",
       " '02 QUEENS',\n",
       " '02 STATEN ISLAND',\n",
       " '03 BRONX',\n",
       " '03 BROOKLYN',\n",
       " '03 MANHATTAN',\n",
       " '03 QUEENS',\n",
       " '03 STATEN ISLAND',\n",
       " '04 BRONX',\n",
       " '04 BROOKLYN',\n",
       " '04 MANHATTAN',\n",
       " '04 QUEENS',\n",
       " '05 BRONX',\n",
       " '05 BROOKLYN',\n",
       " '05 MANHATTAN',\n",
       " '05 QUEENS',\n",
       " '06 BRONX',\n",
       " '06 BROOKLYN',\n",
       " '06 MANHATTAN',\n",
       " '06 QUEENS',\n",
       " '07 BRONX',\n",
       " '07 BROOKLYN',\n",
       " '07 MANHATTAN',\n",
       " '07 QUEENS',\n",
       " '08 BRONX',\n",
       " '08 BROOKLYN',\n",
       " '08 MANHATTAN',\n",
       " '08 QUEENS',\n",
       " '09 BRONX',\n",
       " '09 BROOKLYN',\n",
       " '09 MANHATTAN',\n",
       " '09 QUEENS',\n",
       " '10 BRONX',\n",
       " '10 BROOKLYN',\n",
       " '10 MANHATTAN',\n",
       " '10 QUEENS',\n",
       " '11 BRONX',\n",
       " '11 BROOKLYN',\n",
       " '11 MANHATTAN',\n",
       " '11 QUEENS',\n",
       " '12 BRONX',\n",
       " '12 BROOKLYN',\n",
       " '12 MANHATTAN',\n",
       " '12 QUEENS',\n",
       " '13 BROOKLYN',\n",
       " '13 QUEENS',\n",
       " '14 BROOKLYN',\n",
       " '14 QUEENS',\n",
       " '15 BROOKLYN',\n",
       " '16 BROOKLYN',\n",
       " '17 BROOKLYN',\n",
       " '18 BROOKLYN',\n",
       " '26 BRONX',\n",
       " '27 BRONX',\n",
       " '28 BRONX',\n",
       " '55 BROOKLYN',\n",
       " '56 BROOKLYN',\n",
       " '64 MANHATTAN',\n",
       " '80 QUEENS',\n",
       " '81 QUEENS',\n",
       " '82 QUEENS',\n",
       " '83 QUEENS',\n",
       " '84 QUEENS',\n",
       " '95 STATEN ISLAND',\n",
       " 'Unspecified BRONX',\n",
       " 'Unspecified BROOKLYN',\n",
       " 'Unspecified MANHATTAN',\n",
       " 'Unspecified QUEENS',\n",
       " 'Unspecified STATEN ISLAND']"
      ]
     },
     "execution_count": 9,
     "metadata": {},
     "output_type": "execute_result"
    }
   ],
   "source": [
    "sorted(data_unique['Community Board'].unique())"
   ]
  },
  {
   "cell_type": "code",
   "execution_count": 10,
   "metadata": {
    "collapsed": false
   },
   "outputs": [
    {
     "data": {
      "text/plain": [
       "77"
      ]
     },
     "execution_count": 10,
     "metadata": {},
     "output_type": "execute_result"
    }
   ],
   "source": [
    "len(data_unique['Community Board'].unique()) "
   ]
  },
  {
   "cell_type": "code",
   "execution_count": 11,
   "metadata": {
    "collapsed": true
   },
   "outputs": [],
   "source": [
    "#All Boroughs and Community Districts are represented in the Data . But there's more."
   ]
  },
  {
   "cell_type": "code",
   "execution_count": 12,
   "metadata": {
    "collapsed": false
   },
   "outputs": [],
   "source": [
    "# There are 77 unique values."
   ]
  },
  {
   "cell_type": "code",
   "execution_count": 13,
   "metadata": {
    "collapsed": true
   },
   "outputs": [],
   "source": [
    "# There are some values with 'Unspecified'. Besides, there are numbers greater than 18."
   ]
  },
  {
   "cell_type": "code",
   "execution_count": 14,
   "metadata": {
    "collapsed": false
   },
   "outputs": [
    {
     "data": {
      "text/plain": [
       "59"
      ]
     },
     "execution_count": 14,
     "metadata": {},
     "output_type": "execute_result"
    }
   ],
   "source": [
    "sorted(data_unique['Community Board'].unique()).index('18 BROOKLYN')"
   ]
  },
  {
   "cell_type": "code",
   "execution_count": 15,
   "metadata": {
    "collapsed": false
   },
   "outputs": [
    {
     "data": {
      "text/plain": [
       "72"
      ]
     },
     "execution_count": 15,
     "metadata": {},
     "output_type": "execute_result"
    }
   ],
   "source": [
    "sorted(data_unique['Community Board'].unique()).index('Unspecified BRONX')"
   ]
  },
  {
   "cell_type": "code",
   "execution_count": 16,
   "metadata": {
    "collapsed": false
   },
   "outputs": [
    {
     "data": {
      "text/plain": [
       "['26 BRONX',\n",
       " '27 BRONX',\n",
       " '28 BRONX',\n",
       " '55 BROOKLYN',\n",
       " '56 BROOKLYN',\n",
       " '64 MANHATTAN',\n",
       " '80 QUEENS',\n",
       " '81 QUEENS',\n",
       " '82 QUEENS',\n",
       " '83 QUEENS',\n",
       " '84 QUEENS',\n",
       " '95 STATEN ISLAND']"
      ]
     },
     "execution_count": 16,
     "metadata": {},
     "output_type": "execute_result"
    }
   ],
   "source": [
    "sorted(data_unique['Community Board'].unique())[60:72]"
   ]
  },
  {
   "cell_type": "code",
   "execution_count": 17,
   "metadata": {
    "collapsed": false
   },
   "outputs": [
    {
     "data": {
      "text/plain": [
       "['26 BRONX',\n",
       " '27 BRONX',\n",
       " '28 BRONX',\n",
       " '55 BROOKLYN',\n",
       " '56 BROOKLYN',\n",
       " '64 MANHATTAN',\n",
       " '80 QUEENS',\n",
       " '81 QUEENS',\n",
       " '82 QUEENS',\n",
       " '83 QUEENS',\n",
       " '84 QUEENS',\n",
       " '95 STATEN ISLAND',\n",
       " 'Unspecified BRONX',\n",
       " 'Unspecified BROOKLYN',\n",
       " 'Unspecified MANHATTAN',\n",
       " 'Unspecified QUEENS',\n",
       " 'Unspecified STATEN ISLAND']"
      ]
     },
     "execution_count": 17,
     "metadata": {},
     "output_type": "execute_result"
    }
   ],
   "source": [
    "sorted(data_unique['Community Board'].unique())[60:]"
   ]
  },
  {
   "cell_type": "code",
   "execution_count": 18,
   "metadata": {
    "collapsed": false
   },
   "outputs": [
    {
     "name": "stderr",
     "output_type": "stream",
     "text": [
      "/opt/rh/anaconda/root/envs/PUI2016_Python2/lib/python2.7/site-packages/ipykernel/__main__.py:1: SettingWithCopyWarning: \n",
      "A value is trying to be set on a copy of a slice from a DataFrame.\n",
      "Try using .loc[row_indexer,col_indexer] = value instead\n",
      "\n",
      "See the caveats in the documentation: http://pandas.pydata.org/pandas-docs/stable/indexing.html#indexing-view-versus-copy\n",
      "  if __name__ == '__main__':\n"
     ]
    }
   ],
   "source": [
    "data_unique['marker'] = data_unique['Community Board'].str.contains('Unspecified|26|27|28|55|56|64|80|81|82|83|84|95')"
   ]
  },
  {
   "cell_type": "code",
   "execution_count": 19,
   "metadata": {
    "collapsed": false
   },
   "outputs": [],
   "source": [
    "data_59 = data_unique[data_unique['marker'] == False]"
   ]
  },
  {
   "cell_type": "code",
   "execution_count": 20,
   "metadata": {
    "collapsed": false
   },
   "outputs": [],
   "source": [
    "# The data with unwanted removed\n",
    "data_cut = data_59"
   ]
  },
  {
   "cell_type": "code",
   "execution_count": 21,
   "metadata": {
    "collapsed": false
   },
   "outputs": [
    {
     "data": {
      "text/plain": [
       "['01 BRONX',\n",
       " '01 BROOKLYN',\n",
       " '01 MANHATTAN',\n",
       " '01 QUEENS',\n",
       " '01 STATEN ISLAND',\n",
       " '02 BRONX',\n",
       " '02 BROOKLYN',\n",
       " '02 MANHATTAN',\n",
       " '02 QUEENS',\n",
       " '02 STATEN ISLAND',\n",
       " '03 BRONX',\n",
       " '03 BROOKLYN',\n",
       " '03 MANHATTAN',\n",
       " '03 QUEENS',\n",
       " '03 STATEN ISLAND',\n",
       " '04 BRONX',\n",
       " '04 BROOKLYN',\n",
       " '04 MANHATTAN',\n",
       " '04 QUEENS',\n",
       " '05 BRONX',\n",
       " '05 BROOKLYN',\n",
       " '05 MANHATTAN',\n",
       " '05 QUEENS',\n",
       " '06 BRONX',\n",
       " '06 BROOKLYN',\n",
       " '06 MANHATTAN',\n",
       " '06 QUEENS',\n",
       " '07 BRONX',\n",
       " '07 BROOKLYN',\n",
       " '07 MANHATTAN',\n",
       " '07 QUEENS',\n",
       " '08 BRONX',\n",
       " '08 BROOKLYN',\n",
       " '08 MANHATTAN',\n",
       " '08 QUEENS',\n",
       " '09 BRONX',\n",
       " '09 BROOKLYN',\n",
       " '09 MANHATTAN',\n",
       " '09 QUEENS',\n",
       " '10 BRONX',\n",
       " '10 BROOKLYN',\n",
       " '10 MANHATTAN',\n",
       " '10 QUEENS',\n",
       " '11 BRONX',\n",
       " '11 BROOKLYN',\n",
       " '11 MANHATTAN',\n",
       " '11 QUEENS',\n",
       " '12 BRONX',\n",
       " '12 BROOKLYN',\n",
       " '12 MANHATTAN',\n",
       " '12 QUEENS',\n",
       " '13 BROOKLYN',\n",
       " '13 QUEENS',\n",
       " '14 BROOKLYN',\n",
       " '14 QUEENS',\n",
       " '15 BROOKLYN',\n",
       " '16 BROOKLYN',\n",
       " '17 BROOKLYN',\n",
       " '18 BROOKLYN']"
      ]
     },
     "execution_count": 21,
     "metadata": {},
     "output_type": "execute_result"
    }
   ],
   "source": [
    "sorted(data_59['Community Board'].unique())"
   ]
  },
  {
   "cell_type": "code",
   "execution_count": 22,
   "metadata": {
    "collapsed": false
   },
   "outputs": [
    {
     "data": {
      "text/plain": [
       "Unique Key                              0\n",
       "Created Date                            0\n",
       "Closed Date                        364858\n",
       "Agency                                  0\n",
       "Agency Name                             0\n",
       "Complaint Type                          0\n",
       "Descriptor                          30545\n",
       "Location Type                     2110441\n",
       "Incident Zip                        20407\n",
       "Incident Address                  1474297\n",
       "Street Name                       1474335\n",
       "Cross Street 1                    1786897\n",
       "Cross Street 2                    1791829\n",
       "Intersection Street 1             6701609\n",
       "Intersection Street 2             6701519\n",
       "Address Type                        89250\n",
       "City                                20217\n",
       "Landmark                          8108281\n",
       "Facility Type                     6505546\n",
       "Status                                  0\n",
       "Due Date                          5331860\n",
       "Resolution Description            3021181\n",
       "Resolution Action Updated Date     157289\n",
       "Community Board                         0\n",
       "Borough                                 0\n",
       "X Coordinate (State Plane)          85468\n",
       "Y Coordinate (State Plane)          85468\n",
       "Park Facility Name                      0\n",
       "Park Borough                            0\n",
       "School Name                             0\n",
       "School Number                        1508\n",
       "School Region                       43866\n",
       "School Code                         43865\n",
       "School Phone Number                     0\n",
       "School Address                          6\n",
       "School City                             0\n",
       "School State                            0\n",
       "School Zip                              1\n",
       "School Not Found                  5395969\n",
       "School or Citywide Complaint      8108819\n",
       "Vehicle Type                      8104185\n",
       "Taxi Company Borough              8101544\n",
       "Taxi Pick Up Location             8021276\n",
       "Bridge Highway Name               8087104\n",
       "Bridge Highway Direction          8087104\n",
       "Road Ramp                         8087322\n",
       "Bridge Highway Segment            8087322\n",
       "Garage Lot Name                   8106590\n",
       "Ferry Direction                   8110923\n",
       "Ferry Terminal Name               8109026\n",
       "Latitude                            85468\n",
       "Longitude                           85468\n",
       "Location                            85468\n",
       "marker                                  0\n",
       "dtype: int64"
      ]
     },
     "execution_count": 22,
     "metadata": {},
     "output_type": "execute_result"
    }
   ],
   "source": [
    "data_cut.isnull().sum()  "
   ]
  },
  {
   "cell_type": "code",
   "execution_count": 23,
   "metadata": {
    "collapsed": true
   },
   "outputs": [],
   "source": [
    "#The missing values are shown above"
   ]
  },
  {
   "cell_type": "code",
   "execution_count": 24,
   "metadata": {
    "collapsed": false
   },
   "outputs": [
    {
     "name": "stderr",
     "output_type": "stream",
     "text": [
      "/opt/rh/anaconda/root/envs/PUI2016_Python2/lib/python2.7/site-packages/pandas/core/generic.py:3191: SettingWithCopyWarning: \n",
      "A value is trying to be set on a copy of a slice from a DataFrame\n",
      "\n",
      "See the caveats in the documentation: http://pandas.pydata.org/pandas-docs/stable/indexing.html#indexing-view-versus-copy\n",
      "  self._update_inplace(new_data)\n"
     ]
    }
   ],
   "source": [
    "#Fit the missing value\n",
    "data_cut['Resolution Description'].fillna(data_cut['Complaint Type'], inplace = 1)"
   ]
  },
  {
   "cell_type": "code",
   "execution_count": 25,
   "metadata": {
    "collapsed": false
   },
   "outputs": [
    {
     "data": {
      "text/plain": [
       "0"
      ]
     },
     "execution_count": 25,
     "metadata": {},
     "output_type": "execute_result"
    }
   ],
   "source": [
    "#check that if there's still missing value exist\n",
    "data_cut['Resolution Description'].isnull().sum()"
   ]
  },
  {
   "cell_type": "code",
   "execution_count": 26,
   "metadata": {
    "collapsed": false
   },
   "outputs": [
    {
     "name": "stderr",
     "output_type": "stream",
     "text": [
      "/opt/rh/anaconda/root/envs/PUI2016_Python2/lib/python2.7/site-packages/ipykernel/__main__.py:1: SettingWithCopyWarning: \n",
      "A value is trying to be set on a copy of a slice from a DataFrame.\n",
      "Try using .loc[row_indexer,col_indexer] = value instead\n",
      "\n",
      "See the caveats in the documentation: http://pandas.pydata.org/pandas-docs/stable/indexing.html#indexing-view-versus-copy\n",
      "  if __name__ == '__main__':\n"
     ]
    }
   ],
   "source": [
    "data_cut['count'] = 1"
   ]
  },
  {
   "cell_type": "code",
   "execution_count": 27,
   "metadata": {
    "collapsed": false
   },
   "outputs": [
    {
     "name": "stderr",
     "output_type": "stream",
     "text": [
      "/opt/rh/anaconda/root/envs/PUI2016_Python2/lib/python2.7/site-packages/ipykernel/__main__.py:1: FutureWarning: sort(columns=....) is deprecated, use sort_values(by=.....)\n",
      "  if __name__ == '__main__':\n"
     ]
    }
   ],
   "source": [
    "data_groupby = data_cut.groupby('Community Board').sum().sort(['count'], ascending = 0)"
   ]
  },
  {
   "cell_type": "code",
   "execution_count": 28,
   "metadata": {
    "collapsed": false
   },
   "outputs": [],
   "source": [
    "data_groupby = data_groupby['count']"
   ]
  },
  {
   "cell_type": "code",
   "execution_count": 29,
   "metadata": {
    "collapsed": false
   },
   "outputs": [],
   "source": [
    "dftemp = data_cut.groupby(['Community Board']).sum()\n"
   ]
  },
  {
   "cell_type": "code",
   "execution_count": 30,
   "metadata": {
    "collapsed": false
   },
   "outputs": [
    {
     "data": {
      "text/html": [
       "<div>\n",
       "<table border=\"1\" class=\"dataframe\">\n",
       "  <thead>\n",
       "    <tr style=\"text-align: right;\">\n",
       "      <th></th>\n",
       "      <th>count</th>\n",
       "    </tr>\n",
       "  </thead>\n",
       "  <tbody>\n",
       "    <tr>\n",
       "      <th>01 BRONX</th>\n",
       "      <td>74631</td>\n",
       "    </tr>\n",
       "    <tr>\n",
       "      <th>01 BROOKLYN</th>\n",
       "      <td>185057</td>\n",
       "    </tr>\n",
       "    <tr>\n",
       "      <th>01 MANHATTAN</th>\n",
       "      <td>77974</td>\n",
       "    </tr>\n",
       "    <tr>\n",
       "      <th>01 QUEENS</th>\n",
       "      <td>171484</td>\n",
       "    </tr>\n",
       "    <tr>\n",
       "      <th>01 STATEN ISLAND</th>\n",
       "      <td>182708</td>\n",
       "    </tr>\n",
       "  </tbody>\n",
       "</table>\n",
       "</div>"
      ],
      "text/plain": [
       "                   count\n",
       "01 BRONX           74631\n",
       "01 BROOKLYN       185057\n",
       "01 MANHATTAN       77974\n",
       "01 QUEENS         171484\n",
       "01 STATEN ISLAND  182708"
      ]
     },
     "execution_count": 30,
     "metadata": {},
     "output_type": "execute_result"
    }
   ],
   "source": [
    "df_complaint = pd.DataFrame(dftemp, columns = ['count'])\n",
    "del df_complaint.index.name\n",
    "df_complaint.head()"
   ]
  },
  {
   "cell_type": "code",
   "execution_count": 31,
   "metadata": {
    "collapsed": false,
    "scrolled": true
   },
   "outputs": [
    {
     "data": {
      "text/html": [
       "<div>\n",
       "<table border=\"1\" class=\"dataframe\">\n",
       "  <thead>\n",
       "    <tr style=\"text-align: right;\">\n",
       "      <th></th>\n",
       "      <th>count</th>\n",
       "    </tr>\n",
       "    <tr>\n",
       "      <th>Community Board</th>\n",
       "      <th></th>\n",
       "    </tr>\n",
       "  </thead>\n",
       "  <tbody>\n",
       "    <tr>\n",
       "      <th>12 MANHATTAN</th>\n",
       "      <td>268053</td>\n",
       "    </tr>\n",
       "    <tr>\n",
       "      <th>12 QUEENS</th>\n",
       "      <td>229383</td>\n",
       "    </tr>\n",
       "    <tr>\n",
       "      <th>03 BROOKLYN</th>\n",
       "      <td>197305</td>\n",
       "    </tr>\n",
       "    <tr>\n",
       "      <th>07 QUEENS</th>\n",
       "      <td>195961</td>\n",
       "    </tr>\n",
       "    <tr>\n",
       "      <th>17 BROOKLYN</th>\n",
       "      <td>191720</td>\n",
       "    </tr>\n",
       "  </tbody>\n",
       "</table>\n",
       "</div>"
      ],
      "text/plain": [
       "                  count\n",
       "Community Board        \n",
       "12 MANHATTAN     268053\n",
       "12 QUEENS        229383\n",
       "03 BROOKLYN      197305\n",
       "07 QUEENS        195961\n",
       "17 BROOKLYN      191720"
      ]
     },
     "execution_count": 31,
     "metadata": {},
     "output_type": "execute_result"
    }
   ],
   "source": [
    "df_complain = pd.DataFrame(data_groupby)\n",
    "df_complain.head()"
   ]
  },
  {
   "cell_type": "code",
   "execution_count": 32,
   "metadata": {
    "collapsed": true
   },
   "outputs": [],
   "source": [
    "# Safe reduced data frame (Community District level)"
   ]
  },
  {
   "cell_type": "markdown",
   "metadata": {},
   "source": [
    "# 4. Think about the interpretation of your results?\n",
    "What do you have to keep in mind when interpreting your results? Are they generable? Does the way the data is collected influence your results? To better inform city agancies it might be good to explore in more detail the underlying dempgraphics/infrastructure of a Community District becasue this might influence 311 calls. You can do this by merging external data on the Community District level to your analysis data. "
   ]
  },
  {
   "cell_type": "code",
   "execution_count": null,
   "metadata": {
    "collapsed": true
   },
   "outputs": [],
   "source": []
  },
  {
   "cell_type": "code",
   "execution_count": 33,
   "metadata": {
    "collapsed": false
   },
   "outputs": [],
   "source": [
    "#df_final = pd.merge(leftdf_samle,rigt=df_ext, how='leaft', left_on='Community Board new', right_on='cd_id')"
   ]
  },
  {
   "cell_type": "code",
   "execution_count": null,
   "metadata": {
    "collapsed": true
   },
   "outputs": [],
   "source": []
  },
  {
   "cell_type": "code",
   "execution_count": null,
   "metadata": {
    "collapsed": true
   },
   "outputs": [],
   "source": []
  },
  {
   "cell_type": "code",
   "execution_count": 34,
   "metadata": {
    "collapsed": false
   },
   "outputs": [],
   "source": [
    "# Population by Community District\n",
    "df_pop = pd.read_csv(PUIdata + \"/Final_Demographics.csv\")"
   ]
  },
  {
   "cell_type": "code",
   "execution_count": 35,
   "metadata": {
    "collapsed": false
   },
   "outputs": [
    {
     "data": {
      "text/html": [
       "<div>\n",
       "<table border=\"1\" class=\"dataframe\">\n",
       "  <thead>\n",
       "    <tr style=\"text-align: right;\">\n",
       "      <th></th>\n",
       "      <th>FIPS</th>\n",
       "      <th>cd_id</th>\n",
       "      <th>Total Population</th>\n",
       "      <th>Population Density (per sq. mile)</th>\n",
       "      <th>% Total Population: Male</th>\n",
       "      <th>% Total Population: 18 to 24 Years</th>\n",
       "      <th>% Total Population: 25 to 34 Years</th>\n",
       "      <th>% Total Population: 35 to 44 Years</th>\n",
       "      <th>% Population 5 Years And Over: Speak Only English</th>\n",
       "      <th>% Population 5 Years And Over: Spanish or Spanish Creole</th>\n",
       "      <th>...</th>\n",
       "      <th>Employed Civilian Population 16 Years And Over: Production, transportation, and material moving  occupations: Production occupations</th>\n",
       "      <th>Employed Civilian Population 16 Years And Over: Production, transportation, and material moving  occupations: Transportation and material moving occupations</th>\n",
       "      <th>% Employed Civilian Population 16 Years And Over: Management, professional, and related occupations</th>\n",
       "      <th>% Employed Civilian Population 16 Years And Over: Service occupations</th>\n",
       "      <th>% Employed Civilian Population 16 Years And Over: Sales and office occupations</th>\n",
       "      <th>% Employed Civilian Population 16 Years And Over: Farming, fishing, and forestry occupations</th>\n",
       "      <th>% Employed Civilian Population 16 Years And Over: Construction, extraction, and maintenance  occupations</th>\n",
       "      <th>% Employed Civilian Population 16 Years And Over: Production, transportation, and material moving  occupations</th>\n",
       "      <th>% Employed Civilian Population 16 Years And Over: Production, transportation, and material moving  occupations: Production occupations</th>\n",
       "      <th>% Employed Civilian Population 16 Years And Over: Production, transportation, and material moving  occupations: Transportation and material moving occupations</th>\n",
       "    </tr>\n",
       "  </thead>\n",
       "  <tbody>\n",
       "    <tr>\n",
       "      <th>0</th>\n",
       "      <td>3603701</td>\n",
       "      <td>BX08</td>\n",
       "      <td>106737</td>\n",
       "      <td>31229.95006</td>\n",
       "      <td>46.65</td>\n",
       "      <td>10.73</td>\n",
       "      <td>15.04</td>\n",
       "      <td>11.32</td>\n",
       "      <td>46.80</td>\n",
       "      <td>39.24</td>\n",
       "      <td>...</td>\n",
       "      <td>665</td>\n",
       "      <td>1518</td>\n",
       "      <td>42.66</td>\n",
       "      <td>28.95</td>\n",
       "      <td>20.89</td>\n",
       "      <td>0.24</td>\n",
       "      <td>2.65</td>\n",
       "      <td>4.60</td>\n",
       "      <td>1.40</td>\n",
       "      <td>3.20</td>\n",
       "    </tr>\n",
       "    <tr>\n",
       "      <th>1</th>\n",
       "      <td>3603702</td>\n",
       "      <td>BX12</td>\n",
       "      <td>134644</td>\n",
       "      <td>19966.67839</td>\n",
       "      <td>46.35</td>\n",
       "      <td>11.35</td>\n",
       "      <td>14.29</td>\n",
       "      <td>12.57</td>\n",
       "      <td>73.09</td>\n",
       "      <td>18.19</td>\n",
       "      <td>...</td>\n",
       "      <td>1156</td>\n",
       "      <td>4174</td>\n",
       "      <td>29.57</td>\n",
       "      <td>33.98</td>\n",
       "      <td>20.40</td>\n",
       "      <td>0.00</td>\n",
       "      <td>7.08</td>\n",
       "      <td>8.97</td>\n",
       "      <td>1.95</td>\n",
       "      <td>7.02</td>\n",
       "    </tr>\n",
       "    <tr>\n",
       "      <th>2</th>\n",
       "      <td>3603703</td>\n",
       "      <td>BX10</td>\n",
       "      <td>121209</td>\n",
       "      <td>12913.81703</td>\n",
       "      <td>45.20</td>\n",
       "      <td>8.62</td>\n",
       "      <td>13.74</td>\n",
       "      <td>12.78</td>\n",
       "      <td>61.79</td>\n",
       "      <td>26.43</td>\n",
       "      <td>...</td>\n",
       "      <td>941</td>\n",
       "      <td>3433</td>\n",
       "      <td>36.20</td>\n",
       "      <td>22.85</td>\n",
       "      <td>25.09</td>\n",
       "      <td>0.00</td>\n",
       "      <td>7.68</td>\n",
       "      <td>8.18</td>\n",
       "      <td>1.76</td>\n",
       "      <td>6.42</td>\n",
       "    </tr>\n",
       "    <tr>\n",
       "      <th>3</th>\n",
       "      <td>3603704</td>\n",
       "      <td>BX11</td>\n",
       "      <td>135839</td>\n",
       "      <td>35677.95453</td>\n",
       "      <td>50.09</td>\n",
       "      <td>8.10</td>\n",
       "      <td>17.43</td>\n",
       "      <td>14.09</td>\n",
       "      <td>43.22</td>\n",
       "      <td>36.45</td>\n",
       "      <td>...</td>\n",
       "      <td>2189</td>\n",
       "      <td>5592</td>\n",
       "      <td>30.06</td>\n",
       "      <td>27.86</td>\n",
       "      <td>22.24</td>\n",
       "      <td>0.00</td>\n",
       "      <td>7.03</td>\n",
       "      <td>12.81</td>\n",
       "      <td>3.60</td>\n",
       "      <td>9.20</td>\n",
       "    </tr>\n",
       "    <tr>\n",
       "      <th>4</th>\n",
       "      <td>3603705</td>\n",
       "      <td>BX03</td>\n",
       "      <td>172247</td>\n",
       "      <td>39405.79222</td>\n",
       "      <td>44.72</td>\n",
       "      <td>14.24</td>\n",
       "      <td>14.89</td>\n",
       "      <td>12.38</td>\n",
       "      <td>36.82</td>\n",
       "      <td>54.24</td>\n",
       "      <td>...</td>\n",
       "      <td>1437</td>\n",
       "      <td>5436</td>\n",
       "      <td>16.80</td>\n",
       "      <td>41.00</td>\n",
       "      <td>22.29</td>\n",
       "      <td>0.03</td>\n",
       "      <td>8.45</td>\n",
       "      <td>11.43</td>\n",
       "      <td>2.39</td>\n",
       "      <td>9.04</td>\n",
       "    </tr>\n",
       "  </tbody>\n",
       "</table>\n",
       "<p>5 rows × 158 columns</p>\n",
       "</div>"
      ],
      "text/plain": [
       "      FIPS cd_id  Total Population  Population Density (per sq. mile)  \\\n",
       "0  3603701  BX08            106737                        31229.95006   \n",
       "1  3603702  BX12            134644                        19966.67839   \n",
       "2  3603703  BX10            121209                        12913.81703   \n",
       "3  3603704  BX11            135839                        35677.95453   \n",
       "4  3603705  BX03            172247                        39405.79222   \n",
       "\n",
       "   % Total Population: Male  % Total Population: 18 to 24 Years  \\\n",
       "0                     46.65                               10.73   \n",
       "1                     46.35                               11.35   \n",
       "2                     45.20                                8.62   \n",
       "3                     50.09                                8.10   \n",
       "4                     44.72                               14.24   \n",
       "\n",
       "   % Total Population: 25 to 34 Years  % Total Population: 35 to 44 Years  \\\n",
       "0                               15.04                               11.32   \n",
       "1                               14.29                               12.57   \n",
       "2                               13.74                               12.78   \n",
       "3                               17.43                               14.09   \n",
       "4                               14.89                               12.38   \n",
       "\n",
       "   % Population 5 Years And Over: Speak Only English  \\\n",
       "0                                              46.80   \n",
       "1                                              73.09   \n",
       "2                                              61.79   \n",
       "3                                              43.22   \n",
       "4                                              36.82   \n",
       "\n",
       "   % Population 5 Years And Over: Spanish or Spanish Creole  \\\n",
       "0                                              39.24          \n",
       "1                                              18.19          \n",
       "2                                              26.43          \n",
       "3                                              36.45          \n",
       "4                                              54.24          \n",
       "\n",
       "                                                                                ...                                                                                \\\n",
       "0                                                                               ...                                                                                 \n",
       "1                                                                               ...                                                                                 \n",
       "2                                                                               ...                                                                                 \n",
       "3                                                                               ...                                                                                 \n",
       "4                                                                               ...                                                                                 \n",
       "\n",
       "   Employed Civilian Population 16 Years And Over: Production, transportation, and material moving  occupations: Production occupations  \\\n",
       "0                                                665                                                                                      \n",
       "1                                               1156                                                                                      \n",
       "2                                                941                                                                                      \n",
       "3                                               2189                                                                                      \n",
       "4                                               1437                                                                                      \n",
       "\n",
       "   Employed Civilian Population 16 Years And Over: Production, transportation, and material moving  occupations: Transportation and material moving occupations  \\\n",
       "0                                               1518                                                                                                              \n",
       "1                                               4174                                                                                                              \n",
       "2                                               3433                                                                                                              \n",
       "3                                               5592                                                                                                              \n",
       "4                                               5436                                                                                                              \n",
       "\n",
       "   % Employed Civilian Population 16 Years And Over: Management, professional, and related occupations  \\\n",
       "0                                              42.66                                                     \n",
       "1                                              29.57                                                     \n",
       "2                                              36.20                                                     \n",
       "3                                              30.06                                                     \n",
       "4                                              16.80                                                     \n",
       "\n",
       "   % Employed Civilian Population 16 Years And Over: Service occupations  \\\n",
       "0                                              28.95                       \n",
       "1                                              33.98                       \n",
       "2                                              22.85                       \n",
       "3                                              27.86                       \n",
       "4                                              41.00                       \n",
       "\n",
       "   % Employed Civilian Population 16 Years And Over: Sales and office occupations  \\\n",
       "0                                              20.89                                \n",
       "1                                              20.40                                \n",
       "2                                              25.09                                \n",
       "3                                              22.24                                \n",
       "4                                              22.29                                \n",
       "\n",
       "   % Employed Civilian Population 16 Years And Over: Farming, fishing, and forestry occupations  \\\n",
       "0                                               0.24                                              \n",
       "1                                               0.00                                              \n",
       "2                                               0.00                                              \n",
       "3                                               0.00                                              \n",
       "4                                               0.03                                              \n",
       "\n",
       "   % Employed Civilian Population 16 Years And Over: Construction, extraction, and maintenance  occupations  \\\n",
       "0                                               2.65                                                          \n",
       "1                                               7.08                                                          \n",
       "2                                               7.68                                                          \n",
       "3                                               7.03                                                          \n",
       "4                                               8.45                                                          \n",
       "\n",
       "   % Employed Civilian Population 16 Years And Over: Production, transportation, and material moving  occupations  \\\n",
       "0                                               4.60                                                                \n",
       "1                                               8.97                                                                \n",
       "2                                               8.18                                                                \n",
       "3                                              12.81                                                                \n",
       "4                                              11.43                                                                \n",
       "\n",
       "   % Employed Civilian Population 16 Years And Over: Production, transportation, and material moving  occupations: Production occupations  \\\n",
       "0                                               1.40                                                                                        \n",
       "1                                               1.95                                                                                        \n",
       "2                                               1.76                                                                                        \n",
       "3                                               3.60                                                                                        \n",
       "4                                               2.39                                                                                        \n",
       "\n",
       "   % Employed Civilian Population 16 Years And Over: Production, transportation, and material moving  occupations: Transportation and material moving occupations  \n",
       "0                                               3.20                                                                                                               \n",
       "1                                               7.02                                                                                                               \n",
       "2                                               6.42                                                                                                               \n",
       "3                                               9.20                                                                                                               \n",
       "4                                               9.04                                                                                                               \n",
       "\n",
       "[5 rows x 158 columns]"
      ]
     },
     "execution_count": 35,
     "metadata": {},
     "output_type": "execute_result"
    }
   ],
   "source": [
    "# Check variables in file\n",
    "df_pop.head()"
   ]
  },
  {
   "cell_type": "code",
   "execution_count": 36,
   "metadata": {
    "collapsed": false
   },
   "outputs": [],
   "source": [
    "# How many community districts are in file? "
   ]
  },
  {
   "cell_type": "code",
   "execution_count": 37,
   "metadata": {
    "collapsed": false
   },
   "outputs": [
    {
     "data": {
      "text/plain": [
       "59"
      ]
     },
     "execution_count": 37,
     "metadata": {},
     "output_type": "execute_result"
    }
   ],
   "source": [
    "len(df_pop['cd_id'].unique())"
   ]
  },
  {
   "cell_type": "code",
   "execution_count": 38,
   "metadata": {
    "collapsed": true
   },
   "outputs": [],
   "source": [
    "# Manipulate data to get some information on demographics by Community District. \n",
    "# Think about who might be more likely to call 311"
   ]
  },
  {
   "cell_type": "code",
   "execution_count": 39,
   "metadata": {
    "collapsed": true
   },
   "outputs": [],
   "source": [
    "df_pop_groupby = df_pop.groupby(['cd_id']).sum()"
   ]
  },
  {
   "cell_type": "code",
   "execution_count": 40,
   "metadata": {
    "collapsed": true
   },
   "outputs": [],
   "source": [
    "pop_list = [u'% Total Population: 18 to 24 Years',\\\n",
    "               u'% Total Population: 25 to 34 Years',\\\n",
    "               u'% Total Population: 35 to 44 Years']"
   ]
  },
  {
   "cell_type": "code",
   "execution_count": 41,
   "metadata": {
    "collapsed": true
   },
   "outputs": [],
   "source": [
    "df_adult = df_pop_groupby[pop_list]"
   ]
  },
  {
   "cell_type": "code",
   "execution_count": 42,
   "metadata": {
    "collapsed": false
   },
   "outputs": [
    {
     "data": {
      "text/html": [
       "<div>\n",
       "<table border=\"1\" class=\"dataframe\">\n",
       "  <thead>\n",
       "    <tr style=\"text-align: right;\">\n",
       "      <th></th>\n",
       "      <th>% Total Populaiton: 18 to 44 Years</th>\n",
       "    </tr>\n",
       "  </thead>\n",
       "  <tbody>\n",
       "    <tr>\n",
       "      <th>BK01</th>\n",
       "      <td>52.10</td>\n",
       "    </tr>\n",
       "    <tr>\n",
       "      <th>BK02</th>\n",
       "      <td>49.30</td>\n",
       "    </tr>\n",
       "    <tr>\n",
       "      <th>BK03</th>\n",
       "      <td>43.73</td>\n",
       "    </tr>\n",
       "    <tr>\n",
       "      <th>BK04</th>\n",
       "      <td>52.33</td>\n",
       "    </tr>\n",
       "    <tr>\n",
       "      <th>BK05</th>\n",
       "      <td>39.07</td>\n",
       "    </tr>\n",
       "  </tbody>\n",
       "</table>\n",
       "</div>"
      ],
      "text/plain": [
       "      % Total Populaiton: 18 to 44 Years\n",
       "BK01                               52.10\n",
       "BK02                               49.30\n",
       "BK03                               43.73\n",
       "BK04                               52.33\n",
       "BK05                               39.07"
      ]
     },
     "execution_count": 42,
     "metadata": {},
     "output_type": "execute_result"
    }
   ],
   "source": [
    "df_adult = pd.DataFrame(df_adult.sum(axis = 1), columns = ['% Total Populaiton: 18 to 44 Years'])\n",
    "del df_adult.index.name\n",
    "df_adult.head()"
   ]
  },
  {
   "cell_type": "code",
   "execution_count": 43,
   "metadata": {
    "collapsed": false
   },
   "outputs": [],
   "source": [
    "# Infrastructure by Community District\n",
    "df_infr = pd.read_csv(PUIdata + \"/ACS_Computer_Use_and_Internet_2014_1Year_Estimate.csv\")"
   ]
  },
  {
   "cell_type": "code",
   "execution_count": 44,
   "metadata": {
    "collapsed": false
   },
   "outputs": [
    {
     "data": {
      "text/html": [
       "<div>\n",
       "<table border=\"1\" class=\"dataframe\">\n",
       "  <thead>\n",
       "    <tr style=\"text-align: right;\">\n",
       "      <th></th>\n",
       "      <th>FIPS</th>\n",
       "      <th>Geographic Identifier</th>\n",
       "      <th>Qualifying Name</th>\n",
       "      <th>Households</th>\n",
       "      <th>Households: With An Internet Subscription</th>\n",
       "      <th>Households: Dial-Up Alone</th>\n",
       "      <th>Households: Dsl</th>\n",
       "      <th>Households: With Mobile Broadband</th>\n",
       "      <th>Households: Without Mobile Broadband</th>\n",
       "      <th>Households: Cable Modem</th>\n",
       "      <th>...</th>\n",
       "      <th>Households: Mobile Broadband Alone or With Dialup</th>\n",
       "      <th>Households: Internet Access Without A Subscription</th>\n",
       "      <th>Households: No Internet Access</th>\n",
       "      <th>% Households: With An Internet Subscription</th>\n",
       "      <th>Households.1</th>\n",
       "      <th>Households: Has A Computer</th>\n",
       "      <th>Households: With Dial-Up Internet Subscription Alone</th>\n",
       "      <th>Households: With A Broadband Internet Subscription</th>\n",
       "      <th>Households: Without An Internet Subscription</th>\n",
       "      <th>Households: No Computer</th>\n",
       "    </tr>\n",
       "  </thead>\n",
       "  <tbody>\n",
       "    <tr>\n",
       "      <th>0</th>\n",
       "      <td>3603701</td>\n",
       "      <td>79500US3603701</td>\n",
       "      <td>NYC-Bronx Community District 8--Riverdale, New...</td>\n",
       "      <td>42035</td>\n",
       "      <td>31795</td>\n",
       "      <td>444</td>\n",
       "      <td>2813</td>\n",
       "      <td>946</td>\n",
       "      <td>1867</td>\n",
       "      <td>19178</td>\n",
       "      <td>...</td>\n",
       "      <td>2168</td>\n",
       "      <td>2119</td>\n",
       "      <td>8121</td>\n",
       "      <td>75.64</td>\n",
       "      <td>42035</td>\n",
       "      <td>35048</td>\n",
       "      <td>404</td>\n",
       "      <td>30943</td>\n",
       "      <td>3701</td>\n",
       "      <td>6987</td>\n",
       "    </tr>\n",
       "    <tr>\n",
       "      <th>1</th>\n",
       "      <td>3603702</td>\n",
       "      <td>79500US3603702</td>\n",
       "      <td>NYC-Bronx Community District 12--Wakefield, Ne...</td>\n",
       "      <td>44830</td>\n",
       "      <td>32243</td>\n",
       "      <td>178</td>\n",
       "      <td>849</td>\n",
       "      <td>405</td>\n",
       "      <td>444</td>\n",
       "      <td>18653</td>\n",
       "      <td>...</td>\n",
       "      <td>928</td>\n",
       "      <td>1891</td>\n",
       "      <td>10696</td>\n",
       "      <td>71.92</td>\n",
       "      <td>44830</td>\n",
       "      <td>36700</td>\n",
       "      <td>178</td>\n",
       "      <td>31435</td>\n",
       "      <td>5087</td>\n",
       "      <td>8130</td>\n",
       "    </tr>\n",
       "    <tr>\n",
       "      <th>2</th>\n",
       "      <td>3603703</td>\n",
       "      <td>79500US3603703</td>\n",
       "      <td>NYC-Bronx Community District 10--Co-op City, N...</td>\n",
       "      <td>47050</td>\n",
       "      <td>32729</td>\n",
       "      <td>158</td>\n",
       "      <td>1863</td>\n",
       "      <td>398</td>\n",
       "      <td>1465</td>\n",
       "      <td>20044</td>\n",
       "      <td>...</td>\n",
       "      <td>639</td>\n",
       "      <td>2882</td>\n",
       "      <td>11439</td>\n",
       "      <td>69.56</td>\n",
       "      <td>47050</td>\n",
       "      <td>38700</td>\n",
       "      <td>158</td>\n",
       "      <td>32333</td>\n",
       "      <td>6209</td>\n",
       "      <td>8350</td>\n",
       "    </tr>\n",
       "    <tr>\n",
       "      <th>3</th>\n",
       "      <td>3603704</td>\n",
       "      <td>79500US3603704</td>\n",
       "      <td>NYC-Bronx Community District 11--Pelham Parkwa...</td>\n",
       "      <td>44922</td>\n",
       "      <td>32003</td>\n",
       "      <td>141</td>\n",
       "      <td>1478</td>\n",
       "      <td>474</td>\n",
       "      <td>1004</td>\n",
       "      <td>17917</td>\n",
       "      <td>...</td>\n",
       "      <td>1001</td>\n",
       "      <td>2722</td>\n",
       "      <td>10197</td>\n",
       "      <td>71.24</td>\n",
       "      <td>44922</td>\n",
       "      <td>37237</td>\n",
       "      <td>122</td>\n",
       "      <td>31278</td>\n",
       "      <td>5837</td>\n",
       "      <td>7685</td>\n",
       "    </tr>\n",
       "    <tr>\n",
       "      <th>4</th>\n",
       "      <td>3603705</td>\n",
       "      <td>79500US3603705</td>\n",
       "      <td>NYC-Bronx Community District 3 &amp; 6--Belmont, N...</td>\n",
       "      <td>57556</td>\n",
       "      <td>35503</td>\n",
       "      <td>88</td>\n",
       "      <td>1297</td>\n",
       "      <td>651</td>\n",
       "      <td>646</td>\n",
       "      <td>15847</td>\n",
       "      <td>...</td>\n",
       "      <td>1385</td>\n",
       "      <td>3312</td>\n",
       "      <td>18741</td>\n",
       "      <td>61.68</td>\n",
       "      <td>57556</td>\n",
       "      <td>42576</td>\n",
       "      <td>88</td>\n",
       "      <td>33408</td>\n",
       "      <td>9080</td>\n",
       "      <td>14980</td>\n",
       "    </tr>\n",
       "  </tbody>\n",
       "</table>\n",
       "<p>5 rows × 31 columns</p>\n",
       "</div>"
      ],
      "text/plain": [
       "      FIPS Geographic Identifier  \\\n",
       "0  3603701        79500US3603701   \n",
       "1  3603702        79500US3603702   \n",
       "2  3603703        79500US3603703   \n",
       "3  3603704        79500US3603704   \n",
       "4  3603705        79500US3603705   \n",
       "\n",
       "                                     Qualifying Name  Households  \\\n",
       "0  NYC-Bronx Community District 8--Riverdale, New...       42035   \n",
       "1  NYC-Bronx Community District 12--Wakefield, Ne...       44830   \n",
       "2  NYC-Bronx Community District 10--Co-op City, N...       47050   \n",
       "3  NYC-Bronx Community District 11--Pelham Parkwa...       44922   \n",
       "4  NYC-Bronx Community District 3 & 6--Belmont, N...       57556   \n",
       "\n",
       "   Households: With An Internet Subscription  Households: Dial-Up Alone  \\\n",
       "0                                      31795                        444   \n",
       "1                                      32243                        178   \n",
       "2                                      32729                        158   \n",
       "3                                      32003                        141   \n",
       "4                                      35503                         88   \n",
       "\n",
       "   Households: Dsl  Households: With Mobile Broadband  \\\n",
       "0             2813                                946   \n",
       "1              849                                405   \n",
       "2             1863                                398   \n",
       "3             1478                                474   \n",
       "4             1297                                651   \n",
       "\n",
       "   Households: Without Mobile Broadband  Households: Cable Modem  \\\n",
       "0                                  1867                    19178   \n",
       "1                                   444                    18653   \n",
       "2                                  1465                    20044   \n",
       "3                                  1004                    17917   \n",
       "4                                   646                    15847   \n",
       "\n",
       "            ...             Households: Mobile Broadband Alone or With Dialup  \\\n",
       "0           ...                                                          2168   \n",
       "1           ...                                                           928   \n",
       "2           ...                                                           639   \n",
       "3           ...                                                          1001   \n",
       "4           ...                                                          1385   \n",
       "\n",
       "   Households: Internet Access Without A Subscription  \\\n",
       "0                                               2119    \n",
       "1                                               1891    \n",
       "2                                               2882    \n",
       "3                                               2722    \n",
       "4                                               3312    \n",
       "\n",
       "   Households: No Internet Access  \\\n",
       "0                            8121   \n",
       "1                           10696   \n",
       "2                           11439   \n",
       "3                           10197   \n",
       "4                           18741   \n",
       "\n",
       "   % Households: With An Internet Subscription  Households.1  \\\n",
       "0                                        75.64         42035   \n",
       "1                                        71.92         44830   \n",
       "2                                        69.56         47050   \n",
       "3                                        71.24         44922   \n",
       "4                                        61.68         57556   \n",
       "\n",
       "   Households: Has A Computer  \\\n",
       "0                       35048   \n",
       "1                       36700   \n",
       "2                       38700   \n",
       "3                       37237   \n",
       "4                       42576   \n",
       "\n",
       "   Households: With Dial-Up Internet Subscription Alone  \\\n",
       "0                                                404      \n",
       "1                                                178      \n",
       "2                                                158      \n",
       "3                                                122      \n",
       "4                                                 88      \n",
       "\n",
       "   Households: With A Broadband Internet Subscription  \\\n",
       "0                                              30943    \n",
       "1                                              31435    \n",
       "2                                              32333    \n",
       "3                                              31278    \n",
       "4                                              33408    \n",
       "\n",
       "   Households: Without An Internet Subscription  Households: No Computer  \n",
       "0                                          3701                     6987  \n",
       "1                                          5087                     8130  \n",
       "2                                          6209                     8350  \n",
       "3                                          5837                     7685  \n",
       "4                                          9080                    14980  \n",
       "\n",
       "[5 rows x 31 columns]"
      ]
     },
     "execution_count": 44,
     "metadata": {},
     "output_type": "execute_result"
    }
   ],
   "source": [
    "# Check variables in file\n",
    "df_infr.head()"
   ]
  },
  {
   "cell_type": "code",
   "execution_count": 45,
   "metadata": {
    "collapsed": true
   },
   "outputs": [],
   "source": [
    "df_infr_groupby = df_infr.groupby(['Qualifying Name']).sum()"
   ]
  },
  {
   "cell_type": "code",
   "execution_count": 46,
   "metadata": {
    "collapsed": false
   },
   "outputs": [
    {
     "data": {
      "text/plain": [
       "55"
      ]
     },
     "execution_count": 46,
     "metadata": {},
     "output_type": "execute_result"
    }
   ],
   "source": [
    "# How many community districts are in file? \n",
    "len(df_infr['Qualifying Name'].unique())"
   ]
  },
  {
   "cell_type": "code",
   "execution_count": 47,
   "metadata": {
    "collapsed": false
   },
   "outputs": [
    {
     "data": {
      "text/plain": [
       "Index([u'FIPS', u'Geographic Identifier', u'Qualifying Name', u'Households',\n",
       "       u'Households: With An Internet Subscription',\n",
       "       u'Households: Dial-Up Alone', u'Households: Dsl',\n",
       "       u'Households: With Mobile Broadband',\n",
       "       u'Households: Without Mobile Broadband', u'Households: Cable Modem',\n",
       "       u'Households: With Mobile Broadband.1',\n",
       "       u'Households: Without Mobile Broadband.1', u'Households: Fiber-Optic',\n",
       "       u'Households: With Mobile Broadband.2',\n",
       "       u'Households: Without Mobile Broadband.2',\n",
       "       u'Households: Satellite Internet Service',\n",
       "       u'Households: With Mobile Broadband.3',\n",
       "       u'Households: Without Mobile Broadband.3',\n",
       "       u'Households: Two or More Fixed Broadband Types, or Other',\n",
       "       u'Households: With Mobile Broadband.4',\n",
       "       u'Households: Without Mobile Broadband.4',\n",
       "       u'Households: Mobile Broadband Alone or With Dialup',\n",
       "       u'Households: Internet Access Without A Subscription',\n",
       "       u'Households: No Internet Access',\n",
       "       u'% Households: With An Internet Subscription', u'Households.1',\n",
       "       u'Households: Has A Computer',\n",
       "       u'Households: With Dial-Up Internet Subscription Alone',\n",
       "       u'Households: With A Broadband Internet Subscription',\n",
       "       u'Households: Without An Internet Subscription',\n",
       "       u'Households: No Computer'],\n",
       "      dtype='object')"
      ]
     },
     "execution_count": 47,
     "metadata": {},
     "output_type": "execute_result"
    }
   ],
   "source": [
    "df_infr.columns"
   ]
  },
  {
   "cell_type": "code",
   "execution_count": 48,
   "metadata": {
    "collapsed": false
   },
   "outputs": [],
   "source": [
    "# Manipulate data to get some information on internet/broadband useage by Community District\n",
    "df_infr_groupby = df_infr.groupby(['Qualifying Name']).sum()"
   ]
  },
  {
   "cell_type": "code",
   "execution_count": 49,
   "metadata": {
    "collapsed": false
   },
   "outputs": [],
   "source": [
    "#mobile_list = df_infr_groupby.columns[df_infr_groupby.columns.str.contains('Mobile') == 1]"
   ]
  },
  {
   "cell_type": "code",
   "execution_count": 50,
   "metadata": {
    "collapsed": false
   },
   "outputs": [],
   "source": [
    "# Aggregate the mobile subscription data\n",
    "#df_infr_mobile = df_infr_groupby[mobile_list]\n",
    "#df_infr_mobile.head()"
   ]
  },
  {
   "cell_type": "code",
   "execution_count": 51,
   "metadata": {
    "collapsed": true
   },
   "outputs": [],
   "source": [
    "mobile_list = [u'Households: With Mobile Broadband',\\\n",
    "               u'Households: With Mobile Broadband.1',\\\n",
    "               u'Households: With Mobile Broadband.2',\\\n",
    "               u'Households: With Mobile Broadband.3',\\\n",
    "               u'Households: With Mobile Broadband.4',\\\n",
    "               u'Households: Mobile Broadband Alone or With Dialup']"
   ]
  },
  {
   "cell_type": "code",
   "execution_count": 52,
   "metadata": {
    "collapsed": false
   },
   "outputs": [],
   "source": [
    "df_infr_mobile = df_infr_groupby[mobile_list]"
   ]
  },
  {
   "cell_type": "code",
   "execution_count": 53,
   "metadata": {
    "collapsed": false
   },
   "outputs": [
    {
     "data": {
      "text/html": [
       "<div>\n",
       "<table border=\"1\" class=\"dataframe\">\n",
       "  <thead>\n",
       "    <tr style=\"text-align: right;\">\n",
       "      <th></th>\n",
       "      <th>With mobile</th>\n",
       "    </tr>\n",
       "    <tr>\n",
       "      <th>Qualifying Name</th>\n",
       "      <th></th>\n",
       "    </tr>\n",
       "  </thead>\n",
       "  <tbody>\n",
       "    <tr>\n",
       "      <th>NYC-Bronx Community District 1 &amp; 2--Hunts Point, New York</th>\n",
       "      <td>31962</td>\n",
       "    </tr>\n",
       "    <tr>\n",
       "      <th>NYC-Bronx Community District 10--Co-op City, New York</th>\n",
       "      <td>12064</td>\n",
       "    </tr>\n",
       "    <tr>\n",
       "      <th>NYC-Bronx Community District 11--Pelham Parkway, New York</th>\n",
       "      <td>11749</td>\n",
       "    </tr>\n",
       "    <tr>\n",
       "      <th>NYC-Bronx Community District 12--Wakefield, New York</th>\n",
       "      <td>11414</td>\n",
       "    </tr>\n",
       "    <tr>\n",
       "      <th>NYC-Bronx Community District 3 &amp; 6--Belmont, New York</th>\n",
       "      <td>32584</td>\n",
       "    </tr>\n",
       "  </tbody>\n",
       "</table>\n",
       "</div>"
      ],
      "text/plain": [
       "                                                    With mobile\n",
       "Qualifying Name                                                \n",
       "NYC-Bronx Community District 1 & 2--Hunts Point...        31962\n",
       "NYC-Bronx Community District 10--Co-op City, Ne...        12064\n",
       "NYC-Bronx Community District 11--Pelham Parkway...        11749\n",
       "NYC-Bronx Community District 12--Wakefield, New...        11414\n",
       "NYC-Bronx Community District 3 & 6--Belmont, Ne...        32584"
      ]
     },
     "execution_count": 53,
     "metadata": {},
     "output_type": "execute_result"
    }
   ],
   "source": [
    "df_mobile = pd.DataFrame(df_infr_mobile.sum(axis = 1), columns = ['With mobile'])\n",
    "df_mobile.head()"
   ]
  },
  {
   "cell_type": "code",
   "execution_count": 54,
   "metadata": {
    "collapsed": false
   },
   "outputs": [],
   "source": [
    "nomobile_list = [u'Households: Without Mobile Broadband',\\\n",
    "               u'Households: Without Mobile Broadband.1',\\\n",
    "               u'Households: Without Mobile Broadband.2',\\\n",
    "               u'Households: Without Mobile Broadband.3',\\\n",
    "               u'Households: Without Mobile Broadband.4']"
   ]
  },
  {
   "cell_type": "code",
   "execution_count": 55,
   "metadata": {
    "collapsed": false
   },
   "outputs": [],
   "source": [
    "df_infr_nomobile = df_infr_groupby[nomobile_list]"
   ]
  },
  {
   "cell_type": "code",
   "execution_count": 56,
   "metadata": {
    "collapsed": false
   },
   "outputs": [
    {
     "data": {
      "text/html": [
       "<div>\n",
       "<table border=\"1\" class=\"dataframe\">\n",
       "  <thead>\n",
       "    <tr style=\"text-align: right;\">\n",
       "      <th></th>\n",
       "      <th>Without mobile</th>\n",
       "    </tr>\n",
       "    <tr>\n",
       "      <th>Qualifying Name</th>\n",
       "      <th></th>\n",
       "    </tr>\n",
       "  </thead>\n",
       "  <tbody>\n",
       "    <tr>\n",
       "      <th>NYC-Bronx Community District 1 &amp; 2--Hunts Point, New York</th>\n",
       "      <td>33464</td>\n",
       "    </tr>\n",
       "    <tr>\n",
       "      <th>NYC-Bronx Community District 10--Co-op City, New York</th>\n",
       "      <td>20507</td>\n",
       "    </tr>\n",
       "    <tr>\n",
       "      <th>NYC-Bronx Community District 11--Pelham Parkway, New York</th>\n",
       "      <td>20113</td>\n",
       "    </tr>\n",
       "    <tr>\n",
       "      <th>NYC-Bronx Community District 12--Wakefield, New York</th>\n",
       "      <td>20651</td>\n",
       "    </tr>\n",
       "    <tr>\n",
       "      <th>NYC-Bronx Community District 3 &amp; 6--Belmont, New York</th>\n",
       "      <td>38246</td>\n",
       "    </tr>\n",
       "  </tbody>\n",
       "</table>\n",
       "</div>"
      ],
      "text/plain": [
       "                                                    Without mobile\n",
       "Qualifying Name                                                   \n",
       "NYC-Bronx Community District 1 & 2--Hunts Point...           33464\n",
       "NYC-Bronx Community District 10--Co-op City, Ne...           20507\n",
       "NYC-Bronx Community District 11--Pelham Parkway...           20113\n",
       "NYC-Bronx Community District 12--Wakefield, New...           20651\n",
       "NYC-Bronx Community District 3 & 6--Belmont, Ne...           38246"
      ]
     },
     "execution_count": 56,
     "metadata": {},
     "output_type": "execute_result"
    }
   ],
   "source": [
    "df_nomobile = pd.DataFrame(df_infr_nomobile.sum(axis = 1), columns = ['Without mobile'])\n",
    "df_nomobile.head()"
   ]
  },
  {
   "cell_type": "code",
   "execution_count": 57,
   "metadata": {
    "collapsed": false
   },
   "outputs": [
    {
     "data": {
      "text/html": [
       "<div>\n",
       "<table border=\"1\" class=\"dataframe\">\n",
       "  <thead>\n",
       "    <tr style=\"text-align: right;\">\n",
       "      <th></th>\n",
       "      <th>With mobile</th>\n",
       "      <th>Without mobile</th>\n",
       "    </tr>\n",
       "    <tr>\n",
       "      <th>Qualifying Name</th>\n",
       "      <th></th>\n",
       "      <th></th>\n",
       "    </tr>\n",
       "  </thead>\n",
       "  <tbody>\n",
       "    <tr>\n",
       "      <th>NYC-Bronx Community District 1 &amp; 2--Hunts Point, New York</th>\n",
       "      <td>31962</td>\n",
       "      <td>33464</td>\n",
       "    </tr>\n",
       "    <tr>\n",
       "      <th>NYC-Bronx Community District 10--Co-op City, New York</th>\n",
       "      <td>12064</td>\n",
       "      <td>20507</td>\n",
       "    </tr>\n",
       "    <tr>\n",
       "      <th>NYC-Bronx Community District 11--Pelham Parkway, New York</th>\n",
       "      <td>11749</td>\n",
       "      <td>20113</td>\n",
       "    </tr>\n",
       "    <tr>\n",
       "      <th>NYC-Bronx Community District 12--Wakefield, New York</th>\n",
       "      <td>11414</td>\n",
       "      <td>20651</td>\n",
       "    </tr>\n",
       "    <tr>\n",
       "      <th>NYC-Bronx Community District 3 &amp; 6--Belmont, New York</th>\n",
       "      <td>32584</td>\n",
       "      <td>38246</td>\n",
       "    </tr>\n",
       "  </tbody>\n",
       "</table>\n",
       "</div>"
      ],
      "text/plain": [
       "                                                    With mobile  \\\n",
       "Qualifying Name                                                   \n",
       "NYC-Bronx Community District 1 & 2--Hunts Point...        31962   \n",
       "NYC-Bronx Community District 10--Co-op City, Ne...        12064   \n",
       "NYC-Bronx Community District 11--Pelham Parkway...        11749   \n",
       "NYC-Bronx Community District 12--Wakefield, New...        11414   \n",
       "NYC-Bronx Community District 3 & 6--Belmont, Ne...        32584   \n",
       "\n",
       "                                                    Without mobile  \n",
       "Qualifying Name                                                     \n",
       "NYC-Bronx Community District 1 & 2--Hunts Point...           33464  \n",
       "NYC-Bronx Community District 10--Co-op City, Ne...           20507  \n",
       "NYC-Bronx Community District 11--Pelham Parkway...           20113  \n",
       "NYC-Bronx Community District 12--Wakefield, New...           20651  \n",
       "NYC-Bronx Community District 3 & 6--Belmont, Ne...           38246  "
      ]
     },
     "execution_count": 57,
     "metadata": {},
     "output_type": "execute_result"
    }
   ],
   "source": [
    "df_mobile_or_not = df_mobile.copy()\n",
    "df_mobile_or_not['Without mobile'] = df_nomobile['Without mobile']\n",
    "df_mobile_or_not.head()"
   ]
  },
  {
   "cell_type": "code",
   "execution_count": 58,
   "metadata": {
    "collapsed": true
   },
   "outputs": [],
   "source": [
    "# Aggregate internet type by high and low connections"
   ]
  },
  {
   "cell_type": "code",
   "execution_count": 59,
   "metadata": {
    "collapsed": true
   },
   "outputs": [],
   "source": [
    "internet_list_low = [u'Households: Dial-Up Alone',\\\n",
    "                     u'Households: Mobile Broadband Alone or With Dialup', \\\n",
    "                     u'Households: Internet Access Without A Subscription']\n",
    "internet_list_high = [u'Households: Cable Modem', u'Households: Fiber-Optic', u'Households: Dsl',\\\n",
    "                      u'Households: Two or More Fixed Broadband Types, or Other',\\\n",
    "                      u'Households: Satellite Internet Service',]"
   ]
  },
  {
   "cell_type": "code",
   "execution_count": 60,
   "metadata": {
    "collapsed": false
   },
   "outputs": [
    {
     "data": {
      "text/html": [
       "<div>\n",
       "<table border=\"1\" class=\"dataframe\">\n",
       "  <thead>\n",
       "    <tr style=\"text-align: right;\">\n",
       "      <th></th>\n",
       "      <th>Households: Cable Modem</th>\n",
       "      <th>Households: Fiber-Optic</th>\n",
       "      <th>Households: Dsl</th>\n",
       "      <th>Households: Two or More Fixed Broadband Types, or Other</th>\n",
       "      <th>Households: Satellite Internet Service</th>\n",
       "    </tr>\n",
       "    <tr>\n",
       "      <th>Qualifying Name</th>\n",
       "      <th></th>\n",
       "      <th></th>\n",
       "      <th></th>\n",
       "      <th></th>\n",
       "      <th></th>\n",
       "    </tr>\n",
       "  </thead>\n",
       "  <tbody>\n",
       "    <tr>\n",
       "      <th>NYC-Bronx Community District 1 &amp; 2--Hunts Point, New York</th>\n",
       "      <td>34562</td>\n",
       "      <td>4188</td>\n",
       "      <td>1964</td>\n",
       "      <td>20418</td>\n",
       "      <td>2290</td>\n",
       "    </tr>\n",
       "    <tr>\n",
       "      <th>NYC-Bronx Community District 10--Co-op City, New York</th>\n",
       "      <td>20044</td>\n",
       "      <td>3490</td>\n",
       "      <td>1863</td>\n",
       "      <td>6535</td>\n",
       "      <td>0</td>\n",
       "    </tr>\n",
       "    <tr>\n",
       "      <th>NYC-Bronx Community District 11--Pelham Parkway, New York</th>\n",
       "      <td>17917</td>\n",
       "      <td>5435</td>\n",
       "      <td>1478</td>\n",
       "      <td>5723</td>\n",
       "      <td>308</td>\n",
       "    </tr>\n",
       "    <tr>\n",
       "      <th>NYC-Bronx Community District 12--Wakefield, New York</th>\n",
       "      <td>18653</td>\n",
       "      <td>6216</td>\n",
       "      <td>849</td>\n",
       "      <td>5288</td>\n",
       "      <td>131</td>\n",
       "    </tr>\n",
       "    <tr>\n",
       "      <th>NYC-Bronx Community District 3 &amp; 6--Belmont, New York</th>\n",
       "      <td>31694</td>\n",
       "      <td>3020</td>\n",
       "      <td>2594</td>\n",
       "      <td>30364</td>\n",
       "      <td>388</td>\n",
       "    </tr>\n",
       "  </tbody>\n",
       "</table>\n",
       "</div>"
      ],
      "text/plain": [
       "                                                    Households: Cable Modem  \\\n",
       "Qualifying Name                                                               \n",
       "NYC-Bronx Community District 1 & 2--Hunts Point...                    34562   \n",
       "NYC-Bronx Community District 10--Co-op City, Ne...                    20044   \n",
       "NYC-Bronx Community District 11--Pelham Parkway...                    17917   \n",
       "NYC-Bronx Community District 12--Wakefield, New...                    18653   \n",
       "NYC-Bronx Community District 3 & 6--Belmont, Ne...                    31694   \n",
       "\n",
       "                                                    Households: Fiber-Optic  \\\n",
       "Qualifying Name                                                               \n",
       "NYC-Bronx Community District 1 & 2--Hunts Point...                     4188   \n",
       "NYC-Bronx Community District 10--Co-op City, Ne...                     3490   \n",
       "NYC-Bronx Community District 11--Pelham Parkway...                     5435   \n",
       "NYC-Bronx Community District 12--Wakefield, New...                     6216   \n",
       "NYC-Bronx Community District 3 & 6--Belmont, Ne...                     3020   \n",
       "\n",
       "                                                    Households: Dsl  \\\n",
       "Qualifying Name                                                       \n",
       "NYC-Bronx Community District 1 & 2--Hunts Point...             1964   \n",
       "NYC-Bronx Community District 10--Co-op City, Ne...             1863   \n",
       "NYC-Bronx Community District 11--Pelham Parkway...             1478   \n",
       "NYC-Bronx Community District 12--Wakefield, New...              849   \n",
       "NYC-Bronx Community District 3 & 6--Belmont, Ne...             2594   \n",
       "\n",
       "                                                    Households: Two or More Fixed Broadband Types, or Other  \\\n",
       "Qualifying Name                                                                                               \n",
       "NYC-Bronx Community District 1 & 2--Hunts Point...                                              20418         \n",
       "NYC-Bronx Community District 10--Co-op City, Ne...                                               6535         \n",
       "NYC-Bronx Community District 11--Pelham Parkway...                                               5723         \n",
       "NYC-Bronx Community District 12--Wakefield, New...                                               5288         \n",
       "NYC-Bronx Community District 3 & 6--Belmont, Ne...                                              30364         \n",
       "\n",
       "                                                    Households: Satellite Internet Service  \n",
       "Qualifying Name                                                                             \n",
       "NYC-Bronx Community District 1 & 2--Hunts Point...                                    2290  \n",
       "NYC-Bronx Community District 10--Co-op City, Ne...                                       0  \n",
       "NYC-Bronx Community District 11--Pelham Parkway...                                     308  \n",
       "NYC-Bronx Community District 12--Wakefield, New...                                     131  \n",
       "NYC-Bronx Community District 3 & 6--Belmont, Ne...                                     388  "
      ]
     },
     "execution_count": 60,
     "metadata": {},
     "output_type": "execute_result"
    }
   ],
   "source": [
    "df_infr_internet_high = df_infr_groupby[internet_list_high]\n",
    "df_infr_internet_high.head()"
   ]
  },
  {
   "cell_type": "code",
   "execution_count": 61,
   "metadata": {
    "collapsed": false
   },
   "outputs": [
    {
     "data": {
      "text/html": [
       "<div>\n",
       "<table border=\"1\" class=\"dataframe\">\n",
       "  <thead>\n",
       "    <tr style=\"text-align: right;\">\n",
       "      <th></th>\n",
       "      <th>Low Internet Access</th>\n",
       "    </tr>\n",
       "  </thead>\n",
       "  <tbody>\n",
       "    <tr>\n",
       "      <th>NYC-Bronx Community District 1 &amp; 2--Hunts Point, New York</th>\n",
       "      <td>6828</td>\n",
       "    </tr>\n",
       "    <tr>\n",
       "      <th>NYC-Bronx Community District 10--Co-op City, New York</th>\n",
       "      <td>3679</td>\n",
       "    </tr>\n",
       "    <tr>\n",
       "      <th>NYC-Bronx Community District 11--Pelham Parkway, New York</th>\n",
       "      <td>3864</td>\n",
       "    </tr>\n",
       "    <tr>\n",
       "      <th>NYC-Bronx Community District 12--Wakefield, New York</th>\n",
       "      <td>2997</td>\n",
       "    </tr>\n",
       "    <tr>\n",
       "      <th>NYC-Bronx Community District 3 &amp; 6--Belmont, New York</th>\n",
       "      <td>9570</td>\n",
       "    </tr>\n",
       "  </tbody>\n",
       "</table>\n",
       "</div>"
      ],
      "text/plain": [
       "                                                    Low Internet Access\n",
       "NYC-Bronx Community District 1 & 2--Hunts Point...                 6828\n",
       "NYC-Bronx Community District 10--Co-op City, Ne...                 3679\n",
       "NYC-Bronx Community District 11--Pelham Parkway...                 3864\n",
       "NYC-Bronx Community District 12--Wakefield, New...                 2997\n",
       "NYC-Bronx Community District 3 & 6--Belmont, Ne...                 9570"
      ]
     },
     "execution_count": 61,
     "metadata": {},
     "output_type": "execute_result"
    }
   ],
   "source": [
    "df_infr_internet_low = df_infr_groupby[internet_list_low]\n",
    "Low_Internet = pd.DataFrame(df_infr_internet_low.sum(axis = 1), columns=['Low Internet Access'])\n",
    "del Low_Internet.index.name\n",
    "Low_Internet.head()"
   ]
  },
  {
   "cell_type": "code",
   "execution_count": 62,
   "metadata": {
    "collapsed": false
   },
   "outputs": [
    {
     "data": {
      "text/html": [
       "<div>\n",
       "<table border=\"1\" class=\"dataframe\">\n",
       "  <thead>\n",
       "    <tr style=\"text-align: right;\">\n",
       "      <th></th>\n",
       "      <th>High Internet Access</th>\n",
       "    </tr>\n",
       "  </thead>\n",
       "  <tbody>\n",
       "    <tr>\n",
       "      <th>NYC-Bronx Community District 1 &amp; 2--Hunts Point, New York</th>\n",
       "      <td>63422</td>\n",
       "    </tr>\n",
       "    <tr>\n",
       "      <th>NYC-Bronx Community District 10--Co-op City, New York</th>\n",
       "      <td>31932</td>\n",
       "    </tr>\n",
       "    <tr>\n",
       "      <th>NYC-Bronx Community District 11--Pelham Parkway, New York</th>\n",
       "      <td>30861</td>\n",
       "    </tr>\n",
       "    <tr>\n",
       "      <th>NYC-Bronx Community District 12--Wakefield, New York</th>\n",
       "      <td>31137</td>\n",
       "    </tr>\n",
       "    <tr>\n",
       "      <th>NYC-Bronx Community District 3 &amp; 6--Belmont, New York</th>\n",
       "      <td>68060</td>\n",
       "    </tr>\n",
       "  </tbody>\n",
       "</table>\n",
       "</div>"
      ],
      "text/plain": [
       "                                                    High Internet Access\n",
       "NYC-Bronx Community District 1 & 2--Hunts Point...                 63422\n",
       "NYC-Bronx Community District 10--Co-op City, Ne...                 31932\n",
       "NYC-Bronx Community District 11--Pelham Parkway...                 30861\n",
       "NYC-Bronx Community District 12--Wakefield, New...                 31137\n",
       "NYC-Bronx Community District 3 & 6--Belmont, Ne...                 68060"
      ]
     },
     "execution_count": 62,
     "metadata": {},
     "output_type": "execute_result"
    }
   ],
   "source": [
    "df_infr_internet_high = df_infr_groupby[internet_list_high]\n",
    "High_Internet = pd.DataFrame(df_infr_internet_high.sum(axis = 1), columns=['High Internet Access'])\n",
    "High_Internet.head()"
   ]
  },
  {
   "cell_type": "code",
   "execution_count": 63,
   "metadata": {
    "collapsed": false
   },
   "outputs": [],
   "source": [
    "#df_infr.iloc[:,[2, 8, 11, 14, 17, 20, 22]]"
   ]
  },
  {
   "cell_type": "code",
   "execution_count": 64,
   "metadata": {
    "collapsed": false
   },
   "outputs": [
    {
     "data": {
      "text/html": [
       "<div>\n",
       "<table border=\"1\" class=\"dataframe\">\n",
       "  <thead>\n",
       "    <tr style=\"text-align: right;\">\n",
       "      <th></th>\n",
       "      <th>With mobile</th>\n",
       "      <th>Without mobile</th>\n",
       "      <th>High Internet Access</th>\n",
       "      <th>Low Internet Access</th>\n",
       "    </tr>\n",
       "    <tr>\n",
       "      <th>Qualifying Name</th>\n",
       "      <th></th>\n",
       "      <th></th>\n",
       "      <th></th>\n",
       "      <th></th>\n",
       "    </tr>\n",
       "  </thead>\n",
       "  <tbody>\n",
       "    <tr>\n",
       "      <th>NYC-Bronx Community District 1 &amp; 2--Hunts Point, New York</th>\n",
       "      <td>31962</td>\n",
       "      <td>33464</td>\n",
       "      <td>63422</td>\n",
       "      <td>6828</td>\n",
       "    </tr>\n",
       "    <tr>\n",
       "      <th>NYC-Bronx Community District 10--Co-op City, New York</th>\n",
       "      <td>12064</td>\n",
       "      <td>20507</td>\n",
       "      <td>31932</td>\n",
       "      <td>3679</td>\n",
       "    </tr>\n",
       "    <tr>\n",
       "      <th>NYC-Bronx Community District 11--Pelham Parkway, New York</th>\n",
       "      <td>11749</td>\n",
       "      <td>20113</td>\n",
       "      <td>30861</td>\n",
       "      <td>3864</td>\n",
       "    </tr>\n",
       "    <tr>\n",
       "      <th>NYC-Bronx Community District 12--Wakefield, New York</th>\n",
       "      <td>11414</td>\n",
       "      <td>20651</td>\n",
       "      <td>31137</td>\n",
       "      <td>2997</td>\n",
       "    </tr>\n",
       "    <tr>\n",
       "      <th>NYC-Bronx Community District 3 &amp; 6--Belmont, New York</th>\n",
       "      <td>32584</td>\n",
       "      <td>38246</td>\n",
       "      <td>68060</td>\n",
       "      <td>9570</td>\n",
       "    </tr>\n",
       "  </tbody>\n",
       "</table>\n",
       "</div>"
      ],
      "text/plain": [
       "                                                    With mobile  \\\n",
       "Qualifying Name                                                   \n",
       "NYC-Bronx Community District 1 & 2--Hunts Point...        31962   \n",
       "NYC-Bronx Community District 10--Co-op City, Ne...        12064   \n",
       "NYC-Bronx Community District 11--Pelham Parkway...        11749   \n",
       "NYC-Bronx Community District 12--Wakefield, New...        11414   \n",
       "NYC-Bronx Community District 3 & 6--Belmont, Ne...        32584   \n",
       "\n",
       "                                                    Without mobile  \\\n",
       "Qualifying Name                                                      \n",
       "NYC-Bronx Community District 1 & 2--Hunts Point...           33464   \n",
       "NYC-Bronx Community District 10--Co-op City, Ne...           20507   \n",
       "NYC-Bronx Community District 11--Pelham Parkway...           20113   \n",
       "NYC-Bronx Community District 12--Wakefield, New...           20651   \n",
       "NYC-Bronx Community District 3 & 6--Belmont, Ne...           38246   \n",
       "\n",
       "                                                    High Internet Access  \\\n",
       "Qualifying Name                                                            \n",
       "NYC-Bronx Community District 1 & 2--Hunts Point...                 63422   \n",
       "NYC-Bronx Community District 10--Co-op City, Ne...                 31932   \n",
       "NYC-Bronx Community District 11--Pelham Parkway...                 30861   \n",
       "NYC-Bronx Community District 12--Wakefield, New...                 31137   \n",
       "NYC-Bronx Community District 3 & 6--Belmont, Ne...                 68060   \n",
       "\n",
       "                                                    Low Internet Access  \n",
       "Qualifying Name                                                          \n",
       "NYC-Bronx Community District 1 & 2--Hunts Point...                 6828  \n",
       "NYC-Bronx Community District 10--Co-op City, Ne...                 3679  \n",
       "NYC-Bronx Community District 11--Pelham Parkway...                 3864  \n",
       "NYC-Bronx Community District 12--Wakefield, New...                 2997  \n",
       "NYC-Bronx Community District 3 & 6--Belmont, Ne...                 9570  "
      ]
     },
     "execution_count": 64,
     "metadata": {},
     "output_type": "execute_result"
    }
   ],
   "source": [
    "df_infr_summary = df_mobile_or_not.copy()\n",
    "df_infr_summary['High Internet Access'] = High_Internet['High Internet Access']\n",
    "df_infr_summary['Low Internet Access'] = Low_Internet['Low Internet Access']\n",
    "df_infr_summary.head()"
   ]
  },
  {
   "cell_type": "code",
   "execution_count": 65,
   "metadata": {
    "collapsed": true
   },
   "outputs": [],
   "source": [
    "# Save data frame "
   ]
  },
  {
   "cell_type": "markdown",
   "metadata": {},
   "source": [
    "# 5. Inform your results by linking datasets\n",
    "Now you want to link the three data frames to produce summary statistics for Community Districts which show a high number of complaints vs. Community Districts which show a lower number of complaints. Please keep in mind that the identifiers used for the linkage (Community Dostrict IDs) should be recored the same way. Use regular expressions to harmonize the identifiers if possible. The identifiers should look like BK01, BK02, etc.\n",
    "https://docs.python.org/2/library/re.html"
   ]
  },
  {
   "cell_type": "code",
   "execution_count": 66,
   "metadata": {
    "collapsed": true
   },
   "outputs": [],
   "source": [
    "#dataset1"
   ]
  },
  {
   "cell_type": "code",
   "execution_count": 67,
   "metadata": {
    "collapsed": false
   },
   "outputs": [],
   "source": [
    "temp = df_complaint.index.copy()"
   ]
  },
  {
   "cell_type": "code",
   "execution_count": 68,
   "metadata": {
    "collapsed": false
   },
   "outputs": [],
   "source": [
    "df_test = df_complaint"
   ]
  },
  {
   "cell_type": "code",
   "execution_count": 69,
   "metadata": {
    "collapsed": false
   },
   "outputs": [],
   "source": [
    "index_complaint = df_complaint.index\n",
    "index_complaint = index_complaint.str.replace(\"BRONX\", \"BX\")\n",
    "index_complaint = index_complaint.str.replace(\"BROOKLYN\", \"BK\")\n",
    "index_complaint = index_complaint.str.replace(\"MANHATTAN\", \"MN\")\n",
    "index_complaint = index_complaint.str.replace(\"QUEENS\", \"QN\")\n",
    "index_complaint = index_complaint.str.replace(\"STATEN ISLAND\", \"SI\")\n",
    "index_complaint = index_complaint.str.replace(\" \", \"\")"
   ]
  },
  {
   "cell_type": "code",
   "execution_count": 70,
   "metadata": {
    "collapsed": false
   },
   "outputs": [],
   "source": [
    "array_complaint = np.asarray(index_complaint)"
   ]
  },
  {
   "cell_type": "code",
   "execution_count": 71,
   "metadata": {
    "collapsed": false
   },
   "outputs": [],
   "source": [
    "for i in range (0, len(index_complaint)):\n",
    "    temp = index_complaint[i][2:4]\n",
    "    temp2 = index_complaint[i].replace(index_complaint[i][2:4], index_complaint[i][0:2])\n",
    "    temp2 = temp2.replace(temp2[0:2], temp,1)\n",
    "    index_complaint = index_complaint.str.replace(index_complaint[i],temp2)"
   ]
  },
  {
   "cell_type": "code",
   "execution_count": 72,
   "metadata": {
    "collapsed": false
   },
   "outputs": [
    {
     "data": {
      "text/plain": [
       "Index([u'BX01', u'BK01', u'MN01', u'QN01', u'SI01', u'BX02', u'BK02', u'MN02',\n",
       "       u'QN02', u'SI02', u'BX03', u'BK03', u'MN03', u'QN03', u'SI03', u'BX04',\n",
       "       u'BK04', u'MN04', u'QN04', u'BX05', u'BK05', u'MN05', u'QN05', u'BX06',\n",
       "       u'BK06', u'MN06', u'QN06', u'BX07', u'BK07', u'MN07', u'QN07', u'BX08',\n",
       "       u'BK08', u'MN08', u'QN08', u'BX09', u'BK09', u'MN09', u'QN09', u'BX10',\n",
       "       u'BK10', u'MN10', u'QN10', u'BX11', u'BK11', u'MN11', u'QN11', u'BX12',\n",
       "       u'BK12', u'MN12', u'QN12', u'BK13', u'QN13', u'BK14', u'QN14', u'BK15',\n",
       "       u'BK16', u'BK17', u'BK18'],\n",
       "      dtype='object')"
      ]
     },
     "execution_count": 72,
     "metadata": {},
     "output_type": "execute_result"
    }
   ],
   "source": [
    "index_complaint"
   ]
  },
  {
   "cell_type": "code",
   "execution_count": 73,
   "metadata": {
    "collapsed": false
   },
   "outputs": [
    {
     "data": {
      "text/html": [
       "<div>\n",
       "<table border=\"1\" class=\"dataframe\">\n",
       "  <thead>\n",
       "    <tr style=\"text-align: right;\">\n",
       "      <th></th>\n",
       "      <th>count</th>\n",
       "      <th>index</th>\n",
       "    </tr>\n",
       "  </thead>\n",
       "  <tbody>\n",
       "    <tr>\n",
       "      <th>01 BRONX</th>\n",
       "      <td>74631</td>\n",
       "      <td>BX01</td>\n",
       "    </tr>\n",
       "    <tr>\n",
       "      <th>01 BROOKLYN</th>\n",
       "      <td>185057</td>\n",
       "      <td>BK01</td>\n",
       "    </tr>\n",
       "    <tr>\n",
       "      <th>01 MANHATTAN</th>\n",
       "      <td>77974</td>\n",
       "      <td>MN01</td>\n",
       "    </tr>\n",
       "    <tr>\n",
       "      <th>01 QUEENS</th>\n",
       "      <td>171484</td>\n",
       "      <td>QN01</td>\n",
       "    </tr>\n",
       "    <tr>\n",
       "      <th>01 STATEN ISLAND</th>\n",
       "      <td>182708</td>\n",
       "      <td>SI01</td>\n",
       "    </tr>\n",
       "  </tbody>\n",
       "</table>\n",
       "</div>"
      ],
      "text/plain": [
       "                   count index\n",
       "01 BRONX           74631  BX01\n",
       "01 BROOKLYN       185057  BK01\n",
       "01 MANHATTAN       77974  MN01\n",
       "01 QUEENS         171484  QN01\n",
       "01 STATEN ISLAND  182708  SI01"
      ]
     },
     "execution_count": 73,
     "metadata": {},
     "output_type": "execute_result"
    }
   ],
   "source": [
    "df_complaint['index'] = index_complaint\n",
    "df_complaint.head()"
   ]
  },
  {
   "cell_type": "code",
   "execution_count": 74,
   "metadata": {
    "collapsed": true
   },
   "outputs": [],
   "source": [
    "#dataset 2"
   ]
  },
  {
   "cell_type": "code",
   "execution_count": 75,
   "metadata": {
    "collapsed": false
   },
   "outputs": [
    {
     "name": "stderr",
     "output_type": "stream",
     "text": [
      "/opt/rh/anaconda/root/envs/PUI2016_Python2/lib/python2.7/site-packages/ipykernel/__main__.py:2: SettingWithCopyWarning: \n",
      "A value is trying to be set on a copy of a slice from a DataFrame\n",
      "\n",
      "See the caveats in the documentation: http://pandas.pydata.org/pandas-docs/stable/indexing.html#indexing-view-versus-copy\n",
      "  from ipykernel import kernelapp as app\n"
     ]
    },
    {
     "data": {
      "text/html": [
       "<div>\n",
       "<table border=\"1\" class=\"dataframe\">\n",
       "  <thead>\n",
       "    <tr style=\"text-align: right;\">\n",
       "      <th></th>\n",
       "      <th>% Total Populaiton: 18 to 44 Years</th>\n",
       "      <th>index</th>\n",
       "    </tr>\n",
       "  </thead>\n",
       "  <tbody>\n",
       "    <tr>\n",
       "      <th>BK01</th>\n",
       "      <td>52.10</td>\n",
       "      <td>BK01</td>\n",
       "    </tr>\n",
       "    <tr>\n",
       "      <th>BK02</th>\n",
       "      <td>49.30</td>\n",
       "      <td>BK02</td>\n",
       "    </tr>\n",
       "    <tr>\n",
       "      <th>BK03</th>\n",
       "      <td>43.73</td>\n",
       "      <td>BK03</td>\n",
       "    </tr>\n",
       "    <tr>\n",
       "      <th>BK04</th>\n",
       "      <td>52.33</td>\n",
       "      <td>BK04</td>\n",
       "    </tr>\n",
       "    <tr>\n",
       "      <th>BK05</th>\n",
       "      <td>39.07</td>\n",
       "      <td>BK05</td>\n",
       "    </tr>\n",
       "  </tbody>\n",
       "</table>\n",
       "</div>"
      ],
      "text/plain": [
       "      % Total Populaiton: 18 to 44 Years index\n",
       "BK01                               52.10  BK01\n",
       "BK02                               49.30  BK02\n",
       "BK03                               43.73  BK03\n",
       "BK04                               52.33  BK04\n",
       "BK05                               39.07  BK05"
      ]
     },
     "execution_count": 75,
     "metadata": {},
     "output_type": "execute_result"
    }
   ],
   "source": [
    "df_adult['index'] = df_adult.index\n",
    "df_adult['index']['MN11111'] = 'MN11'\n",
    "df_adult.head()"
   ]
  },
  {
   "cell_type": "code",
   "execution_count": 76,
   "metadata": {
    "collapsed": true
   },
   "outputs": [],
   "source": [
    "#merge dataset1 and 2"
   ]
  },
  {
   "cell_type": "code",
   "execution_count": 77,
   "metadata": {
    "collapsed": false
   },
   "outputs": [
    {
     "data": {
      "text/html": [
       "<div>\n",
       "<table border=\"1\" class=\"dataframe\">\n",
       "  <thead>\n",
       "    <tr style=\"text-align: right;\">\n",
       "      <th></th>\n",
       "      <th>count</th>\n",
       "      <th>index</th>\n",
       "      <th>% Total Populaiton: 18 to 44 Years</th>\n",
       "    </tr>\n",
       "  </thead>\n",
       "  <tbody>\n",
       "    <tr>\n",
       "      <th>0</th>\n",
       "      <td>74631</td>\n",
       "      <td>BX01</td>\n",
       "      <td>43.06</td>\n",
       "    </tr>\n",
       "    <tr>\n",
       "      <th>1</th>\n",
       "      <td>185057</td>\n",
       "      <td>BK01</td>\n",
       "      <td>52.10</td>\n",
       "    </tr>\n",
       "    <tr>\n",
       "      <th>2</th>\n",
       "      <td>77974</td>\n",
       "      <td>MN01</td>\n",
       "      <td>55.07</td>\n",
       "    </tr>\n",
       "    <tr>\n",
       "      <th>3</th>\n",
       "      <td>171484</td>\n",
       "      <td>QN01</td>\n",
       "      <td>52.12</td>\n",
       "    </tr>\n",
       "    <tr>\n",
       "      <th>4</th>\n",
       "      <td>182708</td>\n",
       "      <td>SI01</td>\n",
       "      <td>38.95</td>\n",
       "    </tr>\n",
       "  </tbody>\n",
       "</table>\n",
       "</div>"
      ],
      "text/plain": [
       "    count index  % Total Populaiton: 18 to 44 Years\n",
       "0   74631  BX01                               43.06\n",
       "1  185057  BK01                               52.10\n",
       "2   77974  MN01                               55.07\n",
       "3  171484  QN01                               52.12\n",
       "4  182708  SI01                               38.95"
      ]
     },
     "execution_count": 77,
     "metadata": {},
     "output_type": "execute_result"
    }
   ],
   "source": [
    "df_final = pd.merge(left = df_complaint, right=df_adult, how='inner', left_on='index', right_on='index')\n",
    "df_final.head()"
   ]
  },
  {
   "cell_type": "code",
   "execution_count": 78,
   "metadata": {
    "collapsed": false
   },
   "outputs": [],
   "source": [
    "def df_sum_final(i,j):\n",
    "    df_final['count'][i] = df_final['count'][i] + df_final['count'][j]\n",
    "    df_final['% Total Populaiton: 18 to 44 Years'][i] = df_final['% Total Populaiton: 18 to 44 Years'][i] \\\n",
    "                                                        + df_final['% Total Populaiton: 18 to 44 Years'][j]\n",
    "    df_final['index'][i] = df_final['index'][i] + df_final['index'][j][2] + df_final['index'][j][3]\n",
    "    df_final.drop([j], inplace = 1, axis = 0)"
   ]
  },
  {
   "cell_type": "code",
   "execution_count": 79,
   "metadata": {
    "collapsed": false
   },
   "outputs": [
    {
     "name": "stderr",
     "output_type": "stream",
     "text": [
      "/opt/rh/anaconda/root/envs/PUI2016_Python2/lib/python2.7/site-packages/ipykernel/__main__.py:2: SettingWithCopyWarning: \n",
      "A value is trying to be set on a copy of a slice from a DataFrame\n",
      "\n",
      "See the caveats in the documentation: http://pandas.pydata.org/pandas-docs/stable/indexing.html#indexing-view-versus-copy\n",
      "  from ipykernel import kernelapp as app\n",
      "/opt/rh/anaconda/root/envs/PUI2016_Python2/lib/python2.7/site-packages/ipykernel/__main__.py:3: SettingWithCopyWarning: \n",
      "A value is trying to be set on a copy of a slice from a DataFrame\n",
      "\n",
      "See the caveats in the documentation: http://pandas.pydata.org/pandas-docs/stable/indexing.html#indexing-view-versus-copy\n",
      "  app.launch_new_instance()\n",
      "/opt/rh/anaconda/root/envs/PUI2016_Python2/lib/python2.7/site-packages/ipykernel/__main__.py:4: SettingWithCopyWarning: \n",
      "A value is trying to be set on a copy of a slice from a DataFrame\n",
      "\n",
      "See the caveats in the documentation: http://pandas.pydata.org/pandas-docs/stable/indexing.html#indexing-view-versus-copy\n"
     ]
    }
   ],
   "source": [
    "df_sum_final(0,5)\n",
    "df_sum_final(10,23)\n",
    "df_sum_final(2,7)\n",
    "df_sum_final(17,21)"
   ]
  },
  {
   "cell_type": "code",
   "execution_count": 80,
   "metadata": {
    "collapsed": false
   },
   "outputs": [
    {
     "data": {
      "text/html": [
       "<div>\n",
       "<table border=\"1\" class=\"dataframe\">\n",
       "  <thead>\n",
       "    <tr style=\"text-align: right;\">\n",
       "      <th></th>\n",
       "      <th>count</th>\n",
       "      <th>index</th>\n",
       "      <th>% Total Populaiton: 18 to 44 Years</th>\n",
       "    </tr>\n",
       "  </thead>\n",
       "  <tbody>\n",
       "    <tr>\n",
       "      <th>0</th>\n",
       "      <td>134888</td>\n",
       "      <td>BX0102</td>\n",
       "      <td>86.12</td>\n",
       "    </tr>\n",
       "    <tr>\n",
       "      <th>1</th>\n",
       "      <td>185057</td>\n",
       "      <td>BK01</td>\n",
       "      <td>52.10</td>\n",
       "    </tr>\n",
       "    <tr>\n",
       "      <th>2</th>\n",
       "      <td>211834</td>\n",
       "      <td>MN0102</td>\n",
       "      <td>110.14</td>\n",
       "    </tr>\n",
       "    <tr>\n",
       "      <th>3</th>\n",
       "      <td>171484</td>\n",
       "      <td>QN01</td>\n",
       "      <td>52.12</td>\n",
       "    </tr>\n",
       "    <tr>\n",
       "      <th>4</th>\n",
       "      <td>182708</td>\n",
       "      <td>SI01</td>\n",
       "      <td>38.95</td>\n",
       "    </tr>\n",
       "    <tr>\n",
       "      <th>6</th>\n",
       "      <td>121021</td>\n",
       "      <td>BK02</td>\n",
       "      <td>49.30</td>\n",
       "    </tr>\n",
       "    <tr>\n",
       "      <th>8</th>\n",
       "      <td>114333</td>\n",
       "      <td>QN02</td>\n",
       "      <td>47.51</td>\n",
       "    </tr>\n",
       "    <tr>\n",
       "      <th>9</th>\n",
       "      <td>121132</td>\n",
       "      <td>SI02</td>\n",
       "      <td>32.81</td>\n",
       "    </tr>\n",
       "    <tr>\n",
       "      <th>10</th>\n",
       "      <td>174681</td>\n",
       "      <td>BX0306</td>\n",
       "      <td>83.02</td>\n",
       "    </tr>\n",
       "    <tr>\n",
       "      <th>11</th>\n",
       "      <td>197305</td>\n",
       "      <td>BK03</td>\n",
       "      <td>43.73</td>\n",
       "    </tr>\n",
       "    <tr>\n",
       "      <th>12</th>\n",
       "      <td>150296</td>\n",
       "      <td>MN03</td>\n",
       "      <td>45.56</td>\n",
       "    </tr>\n",
       "    <tr>\n",
       "      <th>13</th>\n",
       "      <td>122009</td>\n",
       "      <td>QN03</td>\n",
       "      <td>43.64</td>\n",
       "    </tr>\n",
       "    <tr>\n",
       "      <th>14</th>\n",
       "      <td>136487</td>\n",
       "      <td>SI03</td>\n",
       "      <td>33.18</td>\n",
       "    </tr>\n",
       "    <tr>\n",
       "      <th>15</th>\n",
       "      <td>181953</td>\n",
       "      <td>BX04</td>\n",
       "      <td>37.79</td>\n",
       "    </tr>\n",
       "    <tr>\n",
       "      <th>16</th>\n",
       "      <td>139702</td>\n",
       "      <td>BK04</td>\n",
       "      <td>52.33</td>\n",
       "    </tr>\n",
       "    <tr>\n",
       "      <th>17</th>\n",
       "      <td>274687</td>\n",
       "      <td>MN0405</td>\n",
       "      <td>112.08</td>\n",
       "    </tr>\n",
       "    <tr>\n",
       "      <th>18</th>\n",
       "      <td>99316</td>\n",
       "      <td>QN04</td>\n",
       "      <td>42.89</td>\n",
       "    </tr>\n",
       "    <tr>\n",
       "      <th>19</th>\n",
       "      <td>161078</td>\n",
       "      <td>BX05</td>\n",
       "      <td>41.40</td>\n",
       "    </tr>\n",
       "    <tr>\n",
       "      <th>20</th>\n",
       "      <td>189765</td>\n",
       "      <td>BK05</td>\n",
       "      <td>39.07</td>\n",
       "    </tr>\n",
       "    <tr>\n",
       "      <th>22</th>\n",
       "      <td>168570</td>\n",
       "      <td>QN05</td>\n",
       "      <td>39.42</td>\n",
       "    </tr>\n",
       "    <tr>\n",
       "      <th>24</th>\n",
       "      <td>114029</td>\n",
       "      <td>BK06</td>\n",
       "      <td>48.69</td>\n",
       "    </tr>\n",
       "    <tr>\n",
       "      <th>25</th>\n",
       "      <td>104249</td>\n",
       "      <td>MN06</td>\n",
       "      <td>49.97</td>\n",
       "    </tr>\n",
       "    <tr>\n",
       "      <th>26</th>\n",
       "      <td>90938</td>\n",
       "      <td>QN06</td>\n",
       "      <td>34.53</td>\n",
       "    </tr>\n",
       "    <tr>\n",
       "      <th>27</th>\n",
       "      <td>185729</td>\n",
       "      <td>BX07</td>\n",
       "      <td>40.87</td>\n",
       "    </tr>\n",
       "    <tr>\n",
       "      <th>28</th>\n",
       "      <td>107031</td>\n",
       "      <td>BK07</td>\n",
       "      <td>44.92</td>\n",
       "    </tr>\n",
       "    <tr>\n",
       "      <th>29</th>\n",
       "      <td>151419</td>\n",
       "      <td>MN07</td>\n",
       "      <td>38.00</td>\n",
       "    </tr>\n",
       "    <tr>\n",
       "      <th>30</th>\n",
       "      <td>195961</td>\n",
       "      <td>QN07</td>\n",
       "      <td>36.45</td>\n",
       "    </tr>\n",
       "    <tr>\n",
       "      <th>31</th>\n",
       "      <td>92733</td>\n",
       "      <td>BX08</td>\n",
       "      <td>37.09</td>\n",
       "    </tr>\n",
       "    <tr>\n",
       "      <th>32</th>\n",
       "      <td>141118</td>\n",
       "      <td>BK08</td>\n",
       "      <td>46.30</td>\n",
       "    </tr>\n",
       "    <tr>\n",
       "      <th>33</th>\n",
       "      <td>149076</td>\n",
       "      <td>MN08</td>\n",
       "      <td>43.95</td>\n",
       "    </tr>\n",
       "    <tr>\n",
       "      <th>34</th>\n",
       "      <td>123131</td>\n",
       "      <td>QN08</td>\n",
       "      <td>38.72</td>\n",
       "    </tr>\n",
       "    <tr>\n",
       "      <th>35</th>\n",
       "      <td>147457</td>\n",
       "      <td>BX09</td>\n",
       "      <td>38.91</td>\n",
       "    </tr>\n",
       "    <tr>\n",
       "      <th>36</th>\n",
       "      <td>135830</td>\n",
       "      <td>BK09</td>\n",
       "      <td>44.07</td>\n",
       "    </tr>\n",
       "    <tr>\n",
       "      <th>37</th>\n",
       "      <td>127564</td>\n",
       "      <td>MN09</td>\n",
       "      <td>51.05</td>\n",
       "    </tr>\n",
       "    <tr>\n",
       "      <th>38</th>\n",
       "      <td>151242</td>\n",
       "      <td>QN09</td>\n",
       "      <td>41.81</td>\n",
       "    </tr>\n",
       "    <tr>\n",
       "      <th>39</th>\n",
       "      <td>95496</td>\n",
       "      <td>BX10</td>\n",
       "      <td>35.14</td>\n",
       "    </tr>\n",
       "    <tr>\n",
       "      <th>40</th>\n",
       "      <td>111837</td>\n",
       "      <td>BK10</td>\n",
       "      <td>38.33</td>\n",
       "    </tr>\n",
       "    <tr>\n",
       "      <th>41</th>\n",
       "      <td>137344</td>\n",
       "      <td>MN10</td>\n",
       "      <td>44.47</td>\n",
       "    </tr>\n",
       "    <tr>\n",
       "      <th>42</th>\n",
       "      <td>128116</td>\n",
       "      <td>QN10</td>\n",
       "      <td>36.60</td>\n",
       "    </tr>\n",
       "    <tr>\n",
       "      <th>43</th>\n",
       "      <td>122079</td>\n",
       "      <td>BX11</td>\n",
       "      <td>39.62</td>\n",
       "    </tr>\n",
       "    <tr>\n",
       "      <th>44</th>\n",
       "      <td>139890</td>\n",
       "      <td>BK11</td>\n",
       "      <td>37.99</td>\n",
       "    </tr>\n",
       "    <tr>\n",
       "      <th>45</th>\n",
       "      <td>95413</td>\n",
       "      <td>MN11</td>\n",
       "      <td>43.83</td>\n",
       "    </tr>\n",
       "    <tr>\n",
       "      <th>46</th>\n",
       "      <td>101908</td>\n",
       "      <td>QN11</td>\n",
       "      <td>33.00</td>\n",
       "    </tr>\n",
       "    <tr>\n",
       "      <th>47</th>\n",
       "      <td>168455</td>\n",
       "      <td>BX12</td>\n",
       "      <td>38.21</td>\n",
       "    </tr>\n",
       "    <tr>\n",
       "      <th>48</th>\n",
       "      <td>150320</td>\n",
       "      <td>BK12</td>\n",
       "      <td>35.49</td>\n",
       "    </tr>\n",
       "    <tr>\n",
       "      <th>49</th>\n",
       "      <td>268053</td>\n",
       "      <td>MN12</td>\n",
       "      <td>45.48</td>\n",
       "    </tr>\n",
       "    <tr>\n",
       "      <th>50</th>\n",
       "      <td>229383</td>\n",
       "      <td>QN12</td>\n",
       "      <td>37.69</td>\n",
       "    </tr>\n",
       "    <tr>\n",
       "      <th>51</th>\n",
       "      <td>72362</td>\n",
       "      <td>BK13</td>\n",
       "      <td>29.94</td>\n",
       "    </tr>\n",
       "    <tr>\n",
       "      <th>52</th>\n",
       "      <td>163851</td>\n",
       "      <td>QN13</td>\n",
       "      <td>35.49</td>\n",
       "    </tr>\n",
       "    <tr>\n",
       "      <th>53</th>\n",
       "      <td>187792</td>\n",
       "      <td>BK14</td>\n",
       "      <td>38.96</td>\n",
       "    </tr>\n",
       "    <tr>\n",
       "      <th>54</th>\n",
       "      <td>103396</td>\n",
       "      <td>QN14</td>\n",
       "      <td>29.78</td>\n",
       "    </tr>\n",
       "    <tr>\n",
       "      <th>55</th>\n",
       "      <td>146129</td>\n",
       "      <td>BK15</td>\n",
       "      <td>33.09</td>\n",
       "    </tr>\n",
       "    <tr>\n",
       "      <th>56</th>\n",
       "      <td>85466</td>\n",
       "      <td>BK16</td>\n",
       "      <td>37.74</td>\n",
       "    </tr>\n",
       "    <tr>\n",
       "      <th>57</th>\n",
       "      <td>191720</td>\n",
       "      <td>BK17</td>\n",
       "      <td>37.38</td>\n",
       "    </tr>\n",
       "    <tr>\n",
       "      <th>58</th>\n",
       "      <td>156100</td>\n",
       "      <td>BK18</td>\n",
       "      <td>37.11</td>\n",
       "    </tr>\n",
       "  </tbody>\n",
       "</table>\n",
       "</div>"
      ],
      "text/plain": [
       "     count   index  % Total Populaiton: 18 to 44 Years\n",
       "0   134888  BX0102                               86.12\n",
       "1   185057    BK01                               52.10\n",
       "2   211834  MN0102                              110.14\n",
       "3   171484    QN01                               52.12\n",
       "4   182708    SI01                               38.95\n",
       "6   121021    BK02                               49.30\n",
       "8   114333    QN02                               47.51\n",
       "9   121132    SI02                               32.81\n",
       "10  174681  BX0306                               83.02\n",
       "11  197305    BK03                               43.73\n",
       "12  150296    MN03                               45.56\n",
       "13  122009    QN03                               43.64\n",
       "14  136487    SI03                               33.18\n",
       "15  181953    BX04                               37.79\n",
       "16  139702    BK04                               52.33\n",
       "17  274687  MN0405                              112.08\n",
       "18   99316    QN04                               42.89\n",
       "19  161078    BX05                               41.40\n",
       "20  189765    BK05                               39.07\n",
       "22  168570    QN05                               39.42\n",
       "24  114029    BK06                               48.69\n",
       "25  104249    MN06                               49.97\n",
       "26   90938    QN06                               34.53\n",
       "27  185729    BX07                               40.87\n",
       "28  107031    BK07                               44.92\n",
       "29  151419    MN07                               38.00\n",
       "30  195961    QN07                               36.45\n",
       "31   92733    BX08                               37.09\n",
       "32  141118    BK08                               46.30\n",
       "33  149076    MN08                               43.95\n",
       "34  123131    QN08                               38.72\n",
       "35  147457    BX09                               38.91\n",
       "36  135830    BK09                               44.07\n",
       "37  127564    MN09                               51.05\n",
       "38  151242    QN09                               41.81\n",
       "39   95496    BX10                               35.14\n",
       "40  111837    BK10                               38.33\n",
       "41  137344    MN10                               44.47\n",
       "42  128116    QN10                               36.60\n",
       "43  122079    BX11                               39.62\n",
       "44  139890    BK11                               37.99\n",
       "45   95413    MN11                               43.83\n",
       "46  101908    QN11                               33.00\n",
       "47  168455    BX12                               38.21\n",
       "48  150320    BK12                               35.49\n",
       "49  268053    MN12                               45.48\n",
       "50  229383    QN12                               37.69\n",
       "51   72362    BK13                               29.94\n",
       "52  163851    QN13                               35.49\n",
       "53  187792    BK14                               38.96\n",
       "54  103396    QN14                               29.78\n",
       "55  146129    BK15                               33.09\n",
       "56   85466    BK16                               37.74\n",
       "57  191720    BK17                               37.38\n",
       "58  156100    BK18                               37.11"
      ]
     },
     "execution_count": 80,
     "metadata": {},
     "output_type": "execute_result"
    }
   ],
   "source": [
    "df_final"
   ]
  },
  {
   "cell_type": "code",
   "execution_count": 81,
   "metadata": {
    "collapsed": true
   },
   "outputs": [],
   "source": [
    "index_mobile = df_infr_summary.index"
   ]
  },
  {
   "cell_type": "code",
   "execution_count": 82,
   "metadata": {
    "collapsed": true
   },
   "outputs": [],
   "source": [
    "def Find (pat, txt):\n",
    "    match = re.search(pat, txt)\n",
    "    if match: \n",
    "        return 1\n",
    "    else:\n",
    "        return 0"
   ]
  },
  {
   "cell_type": "code",
   "execution_count": 83,
   "metadata": {
    "collapsed": true
   },
   "outputs": [],
   "source": [
    "new_index_mobile1 = np.asarray(index_mobile).copy()"
   ]
  },
  {
   "cell_type": "code",
   "execution_count": 84,
   "metadata": {
    "collapsed": true
   },
   "outputs": [],
   "source": [
    "for i in range(0, len(index_mobile)):\n",
    "    if Find('Bronx Community District', index_mobile[i]):\n",
    "        new_index_mobile1[i] = 'BX'\n",
    "    elif Find('Brooklyn Community District', index_mobile[i]):\n",
    "        new_index_mobile1[i] ='BK'\n",
    "    elif Find('Manhattan Community District', index_mobile[i]):\n",
    "        new_index_mobile1[i] ='MN'\n",
    "    elif Find('Queens Community District', index_mobile[i]):\n",
    "        new_index_mobile1[i] ='QN'\n",
    "    else:\n",
    "        new_index_mobile1[i] ='SI'"
   ]
  },
  {
   "cell_type": "code",
   "execution_count": 85,
   "metadata": {
    "collapsed": true
   },
   "outputs": [],
   "source": [
    "new_index_mobile2 = np.asarray(index_mobile).copy()"
   ]
  },
  {
   "cell_type": "code",
   "execution_count": 86,
   "metadata": {
    "collapsed": false
   },
   "outputs": [],
   "source": [
    "for i in range(0, len(index_mobile)):\n",
    "    temp = re.search('(?<=District )\\w+', index_mobile[i]).group()\n",
    "    if len(temp) == 2:\n",
    "        new_index_mobile2[i] = temp\n",
    "    else:\n",
    "        new_index_mobile2[i] = '0' + temp"
   ]
  },
  {
   "cell_type": "code",
   "execution_count": 87,
   "metadata": {
    "collapsed": true
   },
   "outputs": [],
   "source": [
    "new_index = new_index_mobile2.copy()"
   ]
  },
  {
   "cell_type": "code",
   "execution_count": 88,
   "metadata": {
    "collapsed": false
   },
   "outputs": [],
   "source": [
    "for i in range(0, len(new_index_mobile1)):\n",
    "    new_index[i] = new_index_mobile1[i] + new_index_mobile2[i] "
   ]
  },
  {
   "cell_type": "code",
   "execution_count": 89,
   "metadata": {
    "collapsed": false
   },
   "outputs": [],
   "source": [
    "new_index[0] = 'BX0102'\n",
    "new_index[4] = 'BX0306'\n",
    "new_index[28] = 'MN0102'\n",
    "new_index[33] = 'MN0405'"
   ]
  },
  {
   "cell_type": "code",
   "execution_count": 90,
   "metadata": {
    "collapsed": false
   },
   "outputs": [
    {
     "data": {
      "text/plain": [
       "array(['BX0102', 'BX10', 'BX11', 'BX12', 'BX0306', 'BX04', 'BX05', 'BX07',\n",
       "       'BX08', 'BX09', 'BK01', 'BK10', 'BK11', 'BK12', 'BK13', 'BK14',\n",
       "       'BK15', 'BK16', 'BK17', 'BK18', 'BK02', 'BK03', 'BK04', 'BK05',\n",
       "       'BK06', 'BK07', 'BK08', 'BK09', 'MN0102', 'MN10', 'MN11', 'MN12',\n",
       "       'MN03', 'MN0405', 'MN06', 'MN07', 'MN08', 'MN09', 'QN01', 'QN10',\n",
       "       'QN11', 'QN12', 'QN13', 'QN14', 'QN02', 'QN03', 'QN04', 'QN05',\n",
       "       'QN06', 'QN07', 'QN08', 'QN09', 'SI01', 'SI02', 'SI03'], dtype=object)"
      ]
     },
     "execution_count": 90,
     "metadata": {},
     "output_type": "execute_result"
    }
   ],
   "source": [
    "new_index"
   ]
  },
  {
   "cell_type": "code",
   "execution_count": 91,
   "metadata": {
    "collapsed": true
   },
   "outputs": [],
   "source": [
    "df_infr_summary['index'] = new_index"
   ]
  },
  {
   "cell_type": "code",
   "execution_count": 92,
   "metadata": {
    "collapsed": true
   },
   "outputs": [],
   "source": [
    "#Merge 1,2 and 3"
   ]
  },
  {
   "cell_type": "code",
   "execution_count": 93,
   "metadata": {
    "collapsed": false
   },
   "outputs": [],
   "source": [
    "df_final = pd.merge(left = df_final, right=df_infr_summary, how='inner', left_on='index', right_on='index')"
   ]
  },
  {
   "cell_type": "code",
   "execution_count": 94,
   "metadata": {
    "collapsed": true
   },
   "outputs": [],
   "source": [
    "#swap first two columns\n",
    "col_list = list(df_final)\n",
    "col_list[0], col_list[1] = col_list[1], col_list[0]\n",
    "temp = df_final['count']\n",
    "df_final['count'] = df_final['index']\n",
    "df_final['index'] = temp\n",
    "df_final.columns = col_list"
   ]
  },
  {
   "cell_type": "code",
   "execution_count": 95,
   "metadata": {
    "collapsed": false
   },
   "outputs": [
    {
     "data": {
      "text/html": [
       "<div>\n",
       "<table border=\"1\" class=\"dataframe\">\n",
       "  <thead>\n",
       "    <tr style=\"text-align: right;\">\n",
       "      <th></th>\n",
       "      <th>Community Districts</th>\n",
       "      <th>count</th>\n",
       "      <th>% Total Populaiton: 18 to 44 Years</th>\n",
       "      <th>With mobile</th>\n",
       "      <th>Without mobile</th>\n",
       "      <th>High Internet Access</th>\n",
       "      <th>Low Internet Access</th>\n",
       "    </tr>\n",
       "  </thead>\n",
       "  <tbody>\n",
       "    <tr>\n",
       "      <th>0</th>\n",
       "      <td>BX0102</td>\n",
       "      <td>134888</td>\n",
       "      <td>86.12</td>\n",
       "      <td>31962</td>\n",
       "      <td>33464</td>\n",
       "      <td>63422</td>\n",
       "      <td>6828</td>\n",
       "    </tr>\n",
       "    <tr>\n",
       "      <th>1</th>\n",
       "      <td>BK01</td>\n",
       "      <td>185057</td>\n",
       "      <td>52.10</td>\n",
       "      <td>21459</td>\n",
       "      <td>25105</td>\n",
       "      <td>44621</td>\n",
       "      <td>4843</td>\n",
       "    </tr>\n",
       "    <tr>\n",
       "      <th>2</th>\n",
       "      <td>MN0102</td>\n",
       "      <td>211834</td>\n",
       "      <td>110.14</td>\n",
       "      <td>82900</td>\n",
       "      <td>66224</td>\n",
       "      <td>145534</td>\n",
       "      <td>10032</td>\n",
       "    </tr>\n",
       "    <tr>\n",
       "      <th>3</th>\n",
       "      <td>QN01</td>\n",
       "      <td>171484</td>\n",
       "      <td>52.12</td>\n",
       "      <td>31144</td>\n",
       "      <td>30440</td>\n",
       "      <td>60125</td>\n",
       "      <td>3551</td>\n",
       "    </tr>\n",
       "    <tr>\n",
       "      <th>4</th>\n",
       "      <td>SI01</td>\n",
       "      <td>182708</td>\n",
       "      <td>38.95</td>\n",
       "      <td>11151</td>\n",
       "      <td>35873</td>\n",
       "      <td>46304</td>\n",
       "      <td>2222</td>\n",
       "    </tr>\n",
       "  </tbody>\n",
       "</table>\n",
       "</div>"
      ],
      "text/plain": [
       "  Community Districts   count  % Total Populaiton: 18 to 44 Years  \\\n",
       "0              BX0102  134888                               86.12   \n",
       "1                BK01  185057                               52.10   \n",
       "2              MN0102  211834                              110.14   \n",
       "3                QN01  171484                               52.12   \n",
       "4                SI01  182708                               38.95   \n",
       "\n",
       "   With mobile  Without mobile  High Internet Access  Low Internet Access  \n",
       "0        31962           33464                 63422                 6828  \n",
       "1        21459           25105                 44621                 4843  \n",
       "2        82900           66224                145534                10032  \n",
       "3        31144           30440                 60125                 3551  \n",
       "4        11151           35873                 46304                 2222  "
      ]
     },
     "execution_count": 95,
     "metadata": {},
     "output_type": "execute_result"
    }
   ],
   "source": [
    "col_list[0] = 'Community Districts'\n",
    "df_final.columns = col_list\n",
    "df_final.head()\n",
    "# the linked data"
   ]
  },
  {
   "cell_type": "code",
   "execution_count": 151,
   "metadata": {
    "collapsed": false
   },
   "outputs": [],
   "source": [
    "df_numerical = df_final.drop(['Community Districts'], axis = 1).astype(float)"
   ]
  },
  {
   "cell_type": "code",
   "execution_count": 152,
   "metadata": {
    "collapsed": false
   },
   "outputs": [
    {
     "data": {
      "text/html": [
       "<div>\n",
       "<table border=\"1\" class=\"dataframe\">\n",
       "  <thead>\n",
       "    <tr style=\"text-align: right;\">\n",
       "      <th></th>\n",
       "      <th>count</th>\n",
       "      <th>% Total Populaiton: 18 to 44 Years</th>\n",
       "      <th>With mobile</th>\n",
       "      <th>Without mobile</th>\n",
       "      <th>High Internet Access</th>\n",
       "      <th>Low Internet Access</th>\n",
       "    </tr>\n",
       "  </thead>\n",
       "  <tbody>\n",
       "    <tr>\n",
       "      <th>0</th>\n",
       "      <td>134888.0</td>\n",
       "      <td>86.12</td>\n",
       "      <td>31962.0</td>\n",
       "      <td>33464.0</td>\n",
       "      <td>63422.0</td>\n",
       "      <td>6828.0</td>\n",
       "    </tr>\n",
       "    <tr>\n",
       "      <th>1</th>\n",
       "      <td>185057.0</td>\n",
       "      <td>52.10</td>\n",
       "      <td>21459.0</td>\n",
       "      <td>25105.0</td>\n",
       "      <td>44621.0</td>\n",
       "      <td>4843.0</td>\n",
       "    </tr>\n",
       "    <tr>\n",
       "      <th>2</th>\n",
       "      <td>211834.0</td>\n",
       "      <td>110.14</td>\n",
       "      <td>82900.0</td>\n",
       "      <td>66224.0</td>\n",
       "      <td>145534.0</td>\n",
       "      <td>10032.0</td>\n",
       "    </tr>\n",
       "    <tr>\n",
       "      <th>3</th>\n",
       "      <td>171484.0</td>\n",
       "      <td>52.12</td>\n",
       "      <td>31144.0</td>\n",
       "      <td>30440.0</td>\n",
       "      <td>60125.0</td>\n",
       "      <td>3551.0</td>\n",
       "    </tr>\n",
       "    <tr>\n",
       "      <th>4</th>\n",
       "      <td>182708.0</td>\n",
       "      <td>38.95</td>\n",
       "      <td>11151.0</td>\n",
       "      <td>35873.0</td>\n",
       "      <td>46304.0</td>\n",
       "      <td>2222.0</td>\n",
       "    </tr>\n",
       "    <tr>\n",
       "      <th>5</th>\n",
       "      <td>121021.0</td>\n",
       "      <td>49.30</td>\n",
       "      <td>18679.0</td>\n",
       "      <td>27131.0</td>\n",
       "      <td>44284.0</td>\n",
       "      <td>4124.0</td>\n",
       "    </tr>\n",
       "    <tr>\n",
       "      <th>6</th>\n",
       "      <td>114333.0</td>\n",
       "      <td>47.51</td>\n",
       "      <td>14616.0</td>\n",
       "      <td>29509.0</td>\n",
       "      <td>43179.0</td>\n",
       "      <td>2592.0</td>\n",
       "    </tr>\n",
       "    <tr>\n",
       "      <th>7</th>\n",
       "      <td>121132.0</td>\n",
       "      <td>32.81</td>\n",
       "      <td>11206.0</td>\n",
       "      <td>23790.0</td>\n",
       "      <td>34014.0</td>\n",
       "      <td>2203.0</td>\n",
       "    </tr>\n",
       "    <tr>\n",
       "      <th>8</th>\n",
       "      <td>174681.0</td>\n",
       "      <td>83.02</td>\n",
       "      <td>32584.0</td>\n",
       "      <td>38246.0</td>\n",
       "      <td>68060.0</td>\n",
       "      <td>9570.0</td>\n",
       "    </tr>\n",
       "    <tr>\n",
       "      <th>9</th>\n",
       "      <td>197305.0</td>\n",
       "      <td>43.73</td>\n",
       "      <td>12648.0</td>\n",
       "      <td>20680.0</td>\n",
       "      <td>29116.0</td>\n",
       "      <td>6005.0</td>\n",
       "    </tr>\n",
       "    <tr>\n",
       "      <th>10</th>\n",
       "      <td>150296.0</td>\n",
       "      <td>45.56</td>\n",
       "      <td>20868.0</td>\n",
       "      <td>24981.0</td>\n",
       "      <td>43713.0</td>\n",
       "      <td>7457.0</td>\n",
       "    </tr>\n",
       "    <tr>\n",
       "      <th>11</th>\n",
       "      <td>122009.0</td>\n",
       "      <td>43.64</td>\n",
       "      <td>9750.0</td>\n",
       "      <td>30609.0</td>\n",
       "      <td>39286.0</td>\n",
       "      <td>2805.0</td>\n",
       "    </tr>\n",
       "    <tr>\n",
       "      <th>12</th>\n",
       "      <td>136487.0</td>\n",
       "      <td>33.18</td>\n",
       "      <td>14334.0</td>\n",
       "      <td>34884.0</td>\n",
       "      <td>48500.0</td>\n",
       "      <td>2539.0</td>\n",
       "    </tr>\n",
       "    <tr>\n",
       "      <th>13</th>\n",
       "      <td>181953.0</td>\n",
       "      <td>37.79</td>\n",
       "      <td>18342.0</td>\n",
       "      <td>10718.0</td>\n",
       "      <td>26686.0</td>\n",
       "      <td>6391.0</td>\n",
       "    </tr>\n",
       "    <tr>\n",
       "      <th>14</th>\n",
       "      <td>139702.0</td>\n",
       "      <td>52.33</td>\n",
       "      <td>14171.0</td>\n",
       "      <td>19143.0</td>\n",
       "      <td>28064.0</td>\n",
       "      <td>7152.0</td>\n",
       "    </tr>\n",
       "    <tr>\n",
       "      <th>15</th>\n",
       "      <td>274687.0</td>\n",
       "      <td>112.08</td>\n",
       "      <td>69988.0</td>\n",
       "      <td>70040.0</td>\n",
       "      <td>134872.0</td>\n",
       "      <td>11922.0</td>\n",
       "    </tr>\n",
       "    <tr>\n",
       "      <th>16</th>\n",
       "      <td>99316.0</td>\n",
       "      <td>42.89</td>\n",
       "      <td>8440.0</td>\n",
       "      <td>25000.0</td>\n",
       "      <td>32202.0</td>\n",
       "      <td>2207.0</td>\n",
       "    </tr>\n",
       "    <tr>\n",
       "      <th>17</th>\n",
       "      <td>161078.0</td>\n",
       "      <td>41.40</td>\n",
       "      <td>15857.0</td>\n",
       "      <td>10421.0</td>\n",
       "      <td>25216.0</td>\n",
       "      <td>4096.0</td>\n",
       "    </tr>\n",
       "    <tr>\n",
       "      <th>18</th>\n",
       "      <td>189765.0</td>\n",
       "      <td>39.07</td>\n",
       "      <td>9572.0</td>\n",
       "      <td>27807.0</td>\n",
       "      <td>35899.0</td>\n",
       "      <td>3362.0</td>\n",
       "    </tr>\n",
       "    <tr>\n",
       "      <th>19</th>\n",
       "      <td>168570.0</td>\n",
       "      <td>39.42</td>\n",
       "      <td>9845.0</td>\n",
       "      <td>38312.0</td>\n",
       "      <td>47314.0</td>\n",
       "      <td>2012.0</td>\n",
       "    </tr>\n",
       "    <tr>\n",
       "      <th>20</th>\n",
       "      <td>114029.0</td>\n",
       "      <td>48.69</td>\n",
       "      <td>23815.0</td>\n",
       "      <td>20898.0</td>\n",
       "      <td>43121.0</td>\n",
       "      <td>2363.0</td>\n",
       "    </tr>\n",
       "    <tr>\n",
       "      <th>21</th>\n",
       "      <td>104249.0</td>\n",
       "      <td>49.97</td>\n",
       "      <td>39450.0</td>\n",
       "      <td>30515.0</td>\n",
       "      <td>68631.0</td>\n",
       "      <td>3801.0</td>\n",
       "    </tr>\n",
       "    <tr>\n",
       "      <th>22</th>\n",
       "      <td>90938.0</td>\n",
       "      <td>34.53</td>\n",
       "      <td>13715.0</td>\n",
       "      <td>27559.0</td>\n",
       "      <td>39984.0</td>\n",
       "      <td>3109.0</td>\n",
       "    </tr>\n",
       "    <tr>\n",
       "      <th>23</th>\n",
       "      <td>185729.0</td>\n",
       "      <td>40.87</td>\n",
       "      <td>16709.0</td>\n",
       "      <td>14759.0</td>\n",
       "      <td>29844.0</td>\n",
       "      <td>6279.0</td>\n",
       "    </tr>\n",
       "    <tr>\n",
       "      <th>24</th>\n",
       "      <td>107031.0</td>\n",
       "      <td>44.92</td>\n",
       "      <td>12123.0</td>\n",
       "      <td>23518.0</td>\n",
       "      <td>34227.0</td>\n",
       "      <td>2643.0</td>\n",
       "    </tr>\n",
       "    <tr>\n",
       "      <th>25</th>\n",
       "      <td>151419.0</td>\n",
       "      <td>38.00</td>\n",
       "      <td>49546.0</td>\n",
       "      <td>35922.0</td>\n",
       "      <td>81017.0</td>\n",
       "      <td>7578.0</td>\n",
       "    </tr>\n",
       "    <tr>\n",
       "      <th>26</th>\n",
       "      <td>195961.0</td>\n",
       "      <td>36.45</td>\n",
       "      <td>23421.0</td>\n",
       "      <td>44875.0</td>\n",
       "      <td>66855.0</td>\n",
       "      <td>2837.0</td>\n",
       "    </tr>\n",
       "    <tr>\n",
       "      <th>27</th>\n",
       "      <td>92733.0</td>\n",
       "      <td>37.09</td>\n",
       "      <td>17527.0</td>\n",
       "      <td>13824.0</td>\n",
       "      <td>29183.0</td>\n",
       "      <td>4731.0</td>\n",
       "    </tr>\n",
       "    <tr>\n",
       "      <th>28</th>\n",
       "      <td>141118.0</td>\n",
       "      <td>46.30</td>\n",
       "      <td>10559.0</td>\n",
       "      <td>24393.0</td>\n",
       "      <td>34262.0</td>\n",
       "      <td>2663.0</td>\n",
       "    </tr>\n",
       "    <tr>\n",
       "      <th>29</th>\n",
       "      <td>149076.0</td>\n",
       "      <td>43.95</td>\n",
       "      <td>63973.0</td>\n",
       "      <td>38971.0</td>\n",
       "      <td>98992.0</td>\n",
       "      <td>7073.0</td>\n",
       "    </tr>\n",
       "    <tr>\n",
       "      <th>30</th>\n",
       "      <td>123131.0</td>\n",
       "      <td>38.72</td>\n",
       "      <td>15239.0</td>\n",
       "      <td>28425.0</td>\n",
       "      <td>42641.0</td>\n",
       "      <td>2507.0</td>\n",
       "    </tr>\n",
       "    <tr>\n",
       "      <th>31</th>\n",
       "      <td>147457.0</td>\n",
       "      <td>38.91</td>\n",
       "      <td>12892.0</td>\n",
       "      <td>32904.0</td>\n",
       "      <td>44133.0</td>\n",
       "      <td>3714.0</td>\n",
       "    </tr>\n",
       "    <tr>\n",
       "      <th>32</th>\n",
       "      <td>135830.0</td>\n",
       "      <td>44.07</td>\n",
       "      <td>8591.0</td>\n",
       "      <td>19761.0</td>\n",
       "      <td>28039.0</td>\n",
       "      <td>1880.0</td>\n",
       "    </tr>\n",
       "    <tr>\n",
       "      <th>33</th>\n",
       "      <td>127564.0</td>\n",
       "      <td>51.05</td>\n",
       "      <td>17556.0</td>\n",
       "      <td>17558.0</td>\n",
       "      <td>33337.0</td>\n",
       "      <td>3784.0</td>\n",
       "    </tr>\n",
       "    <tr>\n",
       "      <th>34</th>\n",
       "      <td>151242.0</td>\n",
       "      <td>41.81</td>\n",
       "      <td>11481.0</td>\n",
       "      <td>24481.0</td>\n",
       "      <td>34519.0</td>\n",
       "      <td>2750.0</td>\n",
       "    </tr>\n",
       "    <tr>\n",
       "      <th>35</th>\n",
       "      <td>95496.0</td>\n",
       "      <td>35.14</td>\n",
       "      <td>12064.0</td>\n",
       "      <td>20507.0</td>\n",
       "      <td>31932.0</td>\n",
       "      <td>3679.0</td>\n",
       "    </tr>\n",
       "    <tr>\n",
       "      <th>36</th>\n",
       "      <td>111837.0</td>\n",
       "      <td>38.33</td>\n",
       "      <td>19341.0</td>\n",
       "      <td>18315.0</td>\n",
       "      <td>37006.0</td>\n",
       "      <td>2715.0</td>\n",
       "    </tr>\n",
       "    <tr>\n",
       "      <th>37</th>\n",
       "      <td>137344.0</td>\n",
       "      <td>44.47</td>\n",
       "      <td>14746.0</td>\n",
       "      <td>21556.0</td>\n",
       "      <td>35118.0</td>\n",
       "      <td>4077.0</td>\n",
       "    </tr>\n",
       "    <tr>\n",
       "      <th>38</th>\n",
       "      <td>128116.0</td>\n",
       "      <td>36.60</td>\n",
       "      <td>10916.0</td>\n",
       "      <td>19032.0</td>\n",
       "      <td>28640.0</td>\n",
       "      <td>2871.0</td>\n",
       "    </tr>\n",
       "    <tr>\n",
       "      <th>39</th>\n",
       "      <td>122079.0</td>\n",
       "      <td>39.62</td>\n",
       "      <td>11749.0</td>\n",
       "      <td>20113.0</td>\n",
       "      <td>30861.0</td>\n",
       "      <td>3864.0</td>\n",
       "    </tr>\n",
       "    <tr>\n",
       "      <th>40</th>\n",
       "      <td>139890.0</td>\n",
       "      <td>37.99</td>\n",
       "      <td>17710.0</td>\n",
       "      <td>28252.0</td>\n",
       "      <td>45080.0</td>\n",
       "      <td>3552.0</td>\n",
       "    </tr>\n",
       "    <tr>\n",
       "      <th>41</th>\n",
       "      <td>95413.0</td>\n",
       "      <td>43.83</td>\n",
       "      <td>10434.0</td>\n",
       "      <td>19732.0</td>\n",
       "      <td>28465.0</td>\n",
       "      <td>3968.0</td>\n",
       "    </tr>\n",
       "    <tr>\n",
       "      <th>42</th>\n",
       "      <td>101908.0</td>\n",
       "      <td>33.00</td>\n",
       "      <td>16201.0</td>\n",
       "      <td>21081.0</td>\n",
       "      <td>36643.0</td>\n",
       "      <td>1339.0</td>\n",
       "    </tr>\n",
       "    <tr>\n",
       "      <th>43</th>\n",
       "      <td>168455.0</td>\n",
       "      <td>38.21</td>\n",
       "      <td>11414.0</td>\n",
       "      <td>20651.0</td>\n",
       "      <td>31137.0</td>\n",
       "      <td>2997.0</td>\n",
       "    </tr>\n",
       "    <tr>\n",
       "      <th>44</th>\n",
       "      <td>150320.0</td>\n",
       "      <td>35.49</td>\n",
       "      <td>11935.0</td>\n",
       "      <td>15925.0</td>\n",
       "      <td>25665.0</td>\n",
       "      <td>4861.0</td>\n",
       "    </tr>\n",
       "    <tr>\n",
       "      <th>45</th>\n",
       "      <td>268053.0</td>\n",
       "      <td>45.48</td>\n",
       "      <td>26592.0</td>\n",
       "      <td>30042.0</td>\n",
       "      <td>52061.0</td>\n",
       "      <td>7016.0</td>\n",
       "    </tr>\n",
       "    <tr>\n",
       "      <th>46</th>\n",
       "      <td>229383.0</td>\n",
       "      <td>37.69</td>\n",
       "      <td>15241.0</td>\n",
       "      <td>38093.0</td>\n",
       "      <td>47241.0</td>\n",
       "      <td>8144.0</td>\n",
       "    </tr>\n",
       "    <tr>\n",
       "      <th>47</th>\n",
       "      <td>72362.0</td>\n",
       "      <td>29.94</td>\n",
       "      <td>7779.0</td>\n",
       "      <td>20268.0</td>\n",
       "      <td>27667.0</td>\n",
       "      <td>1851.0</td>\n",
       "    </tr>\n",
       "    <tr>\n",
       "      <th>48</th>\n",
       "      <td>163851.0</td>\n",
       "      <td>35.49</td>\n",
       "      <td>13931.0</td>\n",
       "      <td>36016.0</td>\n",
       "      <td>47111.0</td>\n",
       "      <td>4807.0</td>\n",
       "    </tr>\n",
       "    <tr>\n",
       "      <th>49</th>\n",
       "      <td>187792.0</td>\n",
       "      <td>38.96</td>\n",
       "      <td>16540.0</td>\n",
       "      <td>28278.0</td>\n",
       "      <td>43202.0</td>\n",
       "      <td>4053.0</td>\n",
       "    </tr>\n",
       "    <tr>\n",
       "      <th>50</th>\n",
       "      <td>103396.0</td>\n",
       "      <td>29.78</td>\n",
       "      <td>6905.0</td>\n",
       "      <td>21758.0</td>\n",
       "      <td>27962.0</td>\n",
       "      <td>2533.0</td>\n",
       "    </tr>\n",
       "    <tr>\n",
       "      <th>51</th>\n",
       "      <td>146129.0</td>\n",
       "      <td>33.09</td>\n",
       "      <td>13969.0</td>\n",
       "      <td>26150.0</td>\n",
       "      <td>39015.0</td>\n",
       "      <td>3159.0</td>\n",
       "    </tr>\n",
       "    <tr>\n",
       "      <th>52</th>\n",
       "      <td>85466.0</td>\n",
       "      <td>37.74</td>\n",
       "      <td>5927.0</td>\n",
       "      <td>19381.0</td>\n",
       "      <td>24666.0</td>\n",
       "      <td>2758.0</td>\n",
       "    </tr>\n",
       "    <tr>\n",
       "      <th>53</th>\n",
       "      <td>191720.0</td>\n",
       "      <td>37.38</td>\n",
       "      <td>13596.0</td>\n",
       "      <td>21823.0</td>\n",
       "      <td>34523.0</td>\n",
       "      <td>2336.0</td>\n",
       "    </tr>\n",
       "    <tr>\n",
       "      <th>54</th>\n",
       "      <td>156100.0</td>\n",
       "      <td>37.11</td>\n",
       "      <td>19215.0</td>\n",
       "      <td>34862.0</td>\n",
       "      <td>53091.0</td>\n",
       "      <td>3813.0</td>\n",
       "    </tr>\n",
       "  </tbody>\n",
       "</table>\n",
       "</div>"
      ],
      "text/plain": [
       "       count  % Total Populaiton: 18 to 44 Years  With mobile  Without mobile  \\\n",
       "0   134888.0                               86.12      31962.0         33464.0   \n",
       "1   185057.0                               52.10      21459.0         25105.0   \n",
       "2   211834.0                              110.14      82900.0         66224.0   \n",
       "3   171484.0                               52.12      31144.0         30440.0   \n",
       "4   182708.0                               38.95      11151.0         35873.0   \n",
       "5   121021.0                               49.30      18679.0         27131.0   \n",
       "6   114333.0                               47.51      14616.0         29509.0   \n",
       "7   121132.0                               32.81      11206.0         23790.0   \n",
       "8   174681.0                               83.02      32584.0         38246.0   \n",
       "9   197305.0                               43.73      12648.0         20680.0   \n",
       "10  150296.0                               45.56      20868.0         24981.0   \n",
       "11  122009.0                               43.64       9750.0         30609.0   \n",
       "12  136487.0                               33.18      14334.0         34884.0   \n",
       "13  181953.0                               37.79      18342.0         10718.0   \n",
       "14  139702.0                               52.33      14171.0         19143.0   \n",
       "15  274687.0                              112.08      69988.0         70040.0   \n",
       "16   99316.0                               42.89       8440.0         25000.0   \n",
       "17  161078.0                               41.40      15857.0         10421.0   \n",
       "18  189765.0                               39.07       9572.0         27807.0   \n",
       "19  168570.0                               39.42       9845.0         38312.0   \n",
       "20  114029.0                               48.69      23815.0         20898.0   \n",
       "21  104249.0                               49.97      39450.0         30515.0   \n",
       "22   90938.0                               34.53      13715.0         27559.0   \n",
       "23  185729.0                               40.87      16709.0         14759.0   \n",
       "24  107031.0                               44.92      12123.0         23518.0   \n",
       "25  151419.0                               38.00      49546.0         35922.0   \n",
       "26  195961.0                               36.45      23421.0         44875.0   \n",
       "27   92733.0                               37.09      17527.0         13824.0   \n",
       "28  141118.0                               46.30      10559.0         24393.0   \n",
       "29  149076.0                               43.95      63973.0         38971.0   \n",
       "30  123131.0                               38.72      15239.0         28425.0   \n",
       "31  147457.0                               38.91      12892.0         32904.0   \n",
       "32  135830.0                               44.07       8591.0         19761.0   \n",
       "33  127564.0                               51.05      17556.0         17558.0   \n",
       "34  151242.0                               41.81      11481.0         24481.0   \n",
       "35   95496.0                               35.14      12064.0         20507.0   \n",
       "36  111837.0                               38.33      19341.0         18315.0   \n",
       "37  137344.0                               44.47      14746.0         21556.0   \n",
       "38  128116.0                               36.60      10916.0         19032.0   \n",
       "39  122079.0                               39.62      11749.0         20113.0   \n",
       "40  139890.0                               37.99      17710.0         28252.0   \n",
       "41   95413.0                               43.83      10434.0         19732.0   \n",
       "42  101908.0                               33.00      16201.0         21081.0   \n",
       "43  168455.0                               38.21      11414.0         20651.0   \n",
       "44  150320.0                               35.49      11935.0         15925.0   \n",
       "45  268053.0                               45.48      26592.0         30042.0   \n",
       "46  229383.0                               37.69      15241.0         38093.0   \n",
       "47   72362.0                               29.94       7779.0         20268.0   \n",
       "48  163851.0                               35.49      13931.0         36016.0   \n",
       "49  187792.0                               38.96      16540.0         28278.0   \n",
       "50  103396.0                               29.78       6905.0         21758.0   \n",
       "51  146129.0                               33.09      13969.0         26150.0   \n",
       "52   85466.0                               37.74       5927.0         19381.0   \n",
       "53  191720.0                               37.38      13596.0         21823.0   \n",
       "54  156100.0                               37.11      19215.0         34862.0   \n",
       "\n",
       "    High Internet Access  Low Internet Access  \n",
       "0                63422.0               6828.0  \n",
       "1                44621.0               4843.0  \n",
       "2               145534.0              10032.0  \n",
       "3                60125.0               3551.0  \n",
       "4                46304.0               2222.0  \n",
       "5                44284.0               4124.0  \n",
       "6                43179.0               2592.0  \n",
       "7                34014.0               2203.0  \n",
       "8                68060.0               9570.0  \n",
       "9                29116.0               6005.0  \n",
       "10               43713.0               7457.0  \n",
       "11               39286.0               2805.0  \n",
       "12               48500.0               2539.0  \n",
       "13               26686.0               6391.0  \n",
       "14               28064.0               7152.0  \n",
       "15              134872.0              11922.0  \n",
       "16               32202.0               2207.0  \n",
       "17               25216.0               4096.0  \n",
       "18               35899.0               3362.0  \n",
       "19               47314.0               2012.0  \n",
       "20               43121.0               2363.0  \n",
       "21               68631.0               3801.0  \n",
       "22               39984.0               3109.0  \n",
       "23               29844.0               6279.0  \n",
       "24               34227.0               2643.0  \n",
       "25               81017.0               7578.0  \n",
       "26               66855.0               2837.0  \n",
       "27               29183.0               4731.0  \n",
       "28               34262.0               2663.0  \n",
       "29               98992.0               7073.0  \n",
       "30               42641.0               2507.0  \n",
       "31               44133.0               3714.0  \n",
       "32               28039.0               1880.0  \n",
       "33               33337.0               3784.0  \n",
       "34               34519.0               2750.0  \n",
       "35               31932.0               3679.0  \n",
       "36               37006.0               2715.0  \n",
       "37               35118.0               4077.0  \n",
       "38               28640.0               2871.0  \n",
       "39               30861.0               3864.0  \n",
       "40               45080.0               3552.0  \n",
       "41               28465.0               3968.0  \n",
       "42               36643.0               1339.0  \n",
       "43               31137.0               2997.0  \n",
       "44               25665.0               4861.0  \n",
       "45               52061.0               7016.0  \n",
       "46               47241.0               8144.0  \n",
       "47               27667.0               1851.0  \n",
       "48               47111.0               4807.0  \n",
       "49               43202.0               4053.0  \n",
       "50               27962.0               2533.0  \n",
       "51               39015.0               3159.0  \n",
       "52               24666.0               2758.0  \n",
       "53               34523.0               2336.0  \n",
       "54               53091.0               3813.0  "
      ]
     },
     "execution_count": 152,
     "metadata": {},
     "output_type": "execute_result"
    }
   ],
   "source": [
    "df_numerical.reindex()"
   ]
  },
  {
   "cell_type": "code",
   "execution_count": 163,
   "metadata": {
    "collapsed": false
   },
   "outputs": [],
   "source": [
    "Y = df_numerical[\"count\"]\n",
    "X = df_numerical.drop(\"count\", axis=1)"
   ]
  },
  {
   "cell_type": "code",
   "execution_count": 167,
   "metadata": {
    "collapsed": false
   },
   "outputs": [
    {
     "data": {
      "text/html": [
       "<table class=\"simpletable\">\n",
       "<caption>OLS Regression Results</caption>\n",
       "<tr>\n",
       "  <th>Dep. Variable:</th>          <td>count</td>      <th>  R-squared:         </th> <td>   0.942</td>\n",
       "</tr>\n",
       "<tr>\n",
       "  <th>Model:</th>                   <td>OLS</td>       <th>  Adj. R-squared:    </th> <td>   0.936</td>\n",
       "</tr>\n",
       "<tr>\n",
       "  <th>Method:</th>             <td>Least Squares</td>  <th>  F-statistic:       </th> <td>   161.9</td>\n",
       "</tr>\n",
       "<tr>\n",
       "  <th>Date:</th>             <td>Wed, 16 Nov 2016</td> <th>  Prob (F-statistic):</th> <td>1.21e-29</td>\n",
       "</tr>\n",
       "<tr>\n",
       "  <th>Time:</th>                 <td>23:11:08</td>     <th>  Log-Likelihood:    </th> <td> -656.58</td>\n",
       "</tr>\n",
       "<tr>\n",
       "  <th>No. Observations:</th>      <td>    55</td>      <th>  AIC:               </th> <td>   1323.</td>\n",
       "</tr>\n",
       "<tr>\n",
       "  <th>Df Residuals:</th>          <td>    50</td>      <th>  BIC:               </th> <td>   1333.</td>\n",
       "</tr>\n",
       "<tr>\n",
       "  <th>Df Model:</th>              <td>     5</td>      <th>                     </th>     <td> </td>   \n",
       "</tr>\n",
       "<tr>\n",
       "  <th>Covariance Type:</th>      <td>nonrobust</td>    <th>                     </th>     <td> </td>   \n",
       "</tr>\n",
       "</table>\n",
       "<table class=\"simpletable\">\n",
       "<tr>\n",
       "                   <td></td>                     <th>coef</th>     <th>std err</th>      <th>t</th>      <th>P>|t|</th> <th>[95.0% Conf. Int.]</th> \n",
       "</tr>\n",
       "<tr>\n",
       "  <th>% Total Populaiton: 18 to 44 Years</th> <td>  898.3032</td> <td>  525.359</td> <td>    1.710</td> <td> 0.093</td> <td> -156.911  1953.518</td>\n",
       "</tr>\n",
       "<tr>\n",
       "  <th>With mobile</th>                        <td>    6.5686</td> <td>    8.046</td> <td>    0.816</td> <td> 0.418</td> <td>   -9.592    22.729</td>\n",
       "</tr>\n",
       "<tr>\n",
       "  <th>Without mobile</th>                     <td>   11.8500</td> <td>    7.835</td> <td>    1.512</td> <td> 0.137</td> <td>   -3.887    27.587</td>\n",
       "</tr>\n",
       "<tr>\n",
       "  <th>High Internet Access</th>               <td>   -8.7128</td> <td>    7.982</td> <td>   -1.092</td> <td> 0.280</td> <td>  -24.745     7.320</td>\n",
       "</tr>\n",
       "<tr>\n",
       "  <th>Low Internet Access</th>                <td>    9.8292</td> <td>    6.082</td> <td>    1.616</td> <td> 0.112</td> <td>   -2.387    22.045</td>\n",
       "</tr>\n",
       "</table>\n",
       "<table class=\"simpletable\">\n",
       "<tr>\n",
       "  <th>Omnibus:</th>       <td> 0.422</td> <th>  Durbin-Watson:     </th> <td>   2.242</td>\n",
       "</tr>\n",
       "<tr>\n",
       "  <th>Prob(Omnibus):</th> <td> 0.810</td> <th>  Jarque-Bera (JB):  </th> <td>   0.583</td>\n",
       "</tr>\n",
       "<tr>\n",
       "  <th>Skew:</th>          <td> 0.145</td> <th>  Prob(JB):          </th> <td>   0.747</td>\n",
       "</tr>\n",
       "<tr>\n",
       "  <th>Kurtosis:</th>      <td> 2.587</td> <th>  Cond. No.          </th> <td>6.35e+03</td>\n",
       "</tr>\n",
       "</table>"
      ],
      "text/plain": [
       "<class 'statsmodels.iolib.summary.Summary'>\n",
       "\"\"\"\n",
       "                            OLS Regression Results                            \n",
       "==============================================================================\n",
       "Dep. Variable:                  count   R-squared:                       0.942\n",
       "Model:                            OLS   Adj. R-squared:                  0.936\n",
       "Method:                 Least Squares   F-statistic:                     161.9\n",
       "Date:                Wed, 16 Nov 2016   Prob (F-statistic):           1.21e-29\n",
       "Time:                        23:11:08   Log-Likelihood:                -656.58\n",
       "No. Observations:                  55   AIC:                             1323.\n",
       "Df Residuals:                      50   BIC:                             1333.\n",
       "Df Model:                           5                                         \n",
       "Covariance Type:            nonrobust                                         \n",
       "======================================================================================================\n",
       "                                         coef    std err          t      P>|t|      [95.0% Conf. Int.]\n",
       "------------------------------------------------------------------------------------------------------\n",
       "% Total Populaiton: 18 to 44 Years   898.3032    525.359      1.710      0.093      -156.911  1953.518\n",
       "With mobile                            6.5686      8.046      0.816      0.418        -9.592    22.729\n",
       "Without mobile                        11.8500      7.835      1.512      0.137        -3.887    27.587\n",
       "High Internet Access                  -8.7128      7.982     -1.092      0.280       -24.745     7.320\n",
       "Low Internet Access                    9.8292      6.082      1.616      0.112        -2.387    22.045\n",
       "==============================================================================\n",
       "Omnibus:                        0.422   Durbin-Watson:                   2.242\n",
       "Prob(Omnibus):                  0.810   Jarque-Bera (JB):                0.583\n",
       "Skew:                           0.145   Prob(JB):                        0.747\n",
       "Kurtosis:                       2.587   Cond. No.                     6.35e+03\n",
       "==============================================================================\n",
       "\n",
       "Warnings:\n",
       "[1] Standard Errors assume that the covariance matrix of the errors is correctly specified.\n",
       "[2] The condition number is large, 6.35e+03. This might indicate that there are\n",
       "strong multicollinearity or other numerical problems.\n",
       "\"\"\""
      ]
     },
     "execution_count": 167,
     "metadata": {},
     "output_type": "execute_result"
    }
   ],
   "source": [
    "fitted = sm.OLS(Y,X).fit()\n",
    "fitted.summary()"
   ]
  },
  {
   "cell_type": "code",
   "execution_count": null,
   "metadata": {
    "collapsed": true
   },
   "outputs": [],
   "source": [
    "#Low Internet Access ,without phones and number of population in 18 to 44 Years contribute to complaints.\n",
    "#In other words, High Internet Access, with phones or few number of population in 18 to 44 will led to less complaints."
   ]
  }
 ],
 "metadata": {
  "anaconda-cloud": {},
  "celltoolbar": "Raw Cell Format",
  "kernelspec": {
   "display_name": "PUI2016_Python2",
   "language": "python",
   "name": "pui2016_python2"
  },
  "language_info": {
   "codemirror_mode": {
    "name": "ipython",
    "version": 2
   },
   "file_extension": ".py",
   "mimetype": "text/x-python",
   "name": "python",
   "nbconvert_exporter": "python",
   "pygments_lexer": "ipython2",
   "version": "2.7.12"
  }
 },
 "nbformat": 4,
 "nbformat_minor": 0
}
